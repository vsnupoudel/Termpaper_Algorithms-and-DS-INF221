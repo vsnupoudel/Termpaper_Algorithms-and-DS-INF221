{
 "cells": [
  {
   "cell_type": "markdown",
   "metadata": {},
   "source": [
    "# Heap Sort"
   ]
  },
  {
   "cell_type": "markdown",
   "metadata": {},
   "source": [
    "```def Heap_sort():\n",
    "    Build-Max-Heap(A)\n",
    "    for i = A.length downto 2\n",
    "        swap A[1] and A[i]\n",
    "        A.heap_size = A.heap_size - 1\n",
    "        Max-Heapify(A, 1)\n",
    "        ```"
   ]
  },
  {
   "cell_type": "code",
   "execution_count": 17,
   "metadata": {},
   "outputs": [
    {
     "name": "stdout",
     "output_type": "stream",
     "text": [
      "[5, 4, 3, 2, 1, 1, 2, 9, 8, 5, 6, 4, 1]\n",
      "[1, 1, 1, 2, 2, 3, 4, 4, 5, 5, 6, 8, 9]\n",
      "['wfdf', 'asdf', 'red', 'ver', 'arstid', 'din', 'pen', 'store']\n",
      "['arstid', 'asdf', 'din', 'pen', 'red', 'store', 'ver', 'wfdf']\n"
     ]
    }
   ],
   "source": [
    "import math\n",
    "import copy\n",
    "\n",
    "def parent(i):\n",
    "    return math.floor( (i-1)/2 )\n",
    "\n",
    "def left_child(i):\n",
    "    return 2*i +1\n",
    "\n",
    "def right_child(i):\n",
    "    return 2*i + 2\n",
    "\n",
    "def max_heapify(A, i):\n",
    "    l= left_child(i)\n",
    "    r= right_child(i)\n",
    "    largest = i\n",
    "    if l < len(A) and A[l]> A[i]:\n",
    "        largest = l\n",
    "    if r < len(A) and A[r]> A[largest]:\n",
    "        largest = r        \n",
    "    if largest != i:\n",
    "        A[i], A[largest]=  A[largest], A[i]\n",
    "        max_heapify(A, largest)\n",
    "        \n",
    "    return A\n",
    "        \n",
    "def build_max_heap(A):\n",
    "    for i  in range( math.floor( (len(A)-2) /2)  , -1,-1):\n",
    "        A=max_heapify(A, i)\n",
    "    return A\n",
    "#     for key,value in enumerate(C):\n",
    "#         if value > C[parent(key)] and key>0:\n",
    "#             print(key,value, \"parent\", parent(key),print(\"Error\") )    \n",
    "\n",
    "def heap_sort(C):\n",
    "    C =  build_max_heap(C)\n",
    "    G = copy.deepcopy(C)\n",
    "    for i in range(len(C)-1, 0, -1):        \n",
    "        G[0],G[i]= G[i],G[0]\n",
    "        C[:i+1]=G[:i+1]\n",
    "        G=G[:-1]\n",
    "        max_heapify(G, 0)\n",
    "    return C\n",
    "    \n",
    "\n",
    "        \n",
    "if __name__ == '__main__':\n",
    "    B= [ [5,4,3,2,1,1,2,9,8,5,6,4,1], ['wfdf','asdf','red','ver','arstid','din','pen','store'] ]\n",
    "     \n",
    "    for i in B:\n",
    "        print(i)\n",
    "        D = heap_sort(i)               \n",
    "        print(D)        "
   ]
  },
  {
   "cell_type": "code",
   "execution_count": 14,
   "metadata": {},
   "outputs": [],
   "source": [
    "G=[6, 6, 6, 6, 6, 3]"
   ]
  },
  {
   "cell_type": "code",
   "execution_count": null,
   "metadata": {},
   "outputs": [],
   "source": []
  }
 ],
 "metadata": {
  "kernelspec": {
   "display_name": "Python 3",
   "language": "python",
   "name": "python3"
  },
  "language_info": {
   "codemirror_mode": {
    "name": "ipython",
    "version": 3
   },
   "file_extension": ".py",
   "mimetype": "text/x-python",
   "name": "python",
   "nbconvert_exporter": "python",
   "pygments_lexer": "ipython3",
   "version": "3.7.4"
  }
 },
 "nbformat": 4,
 "nbformat_minor": 2
}
