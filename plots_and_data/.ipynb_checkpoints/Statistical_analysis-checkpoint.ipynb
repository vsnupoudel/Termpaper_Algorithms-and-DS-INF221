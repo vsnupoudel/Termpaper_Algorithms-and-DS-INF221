{
 "cells": [
  {
   "cell_type": "code",
   "execution_count": 30,
   "metadata": {},
   "outputs": [],
   "source": [
    "import matplotlib.pyplot as plt\n",
    "import pandas as pd\n",
    "import numpy as np\n",
    "import pandasql as ps\n",
    "import matplotlib as mpl\n",
    "\n",
    "dataset = pd.read_csv(\"dataset_concat.csv\")"
   ]
  },
  {
   "cell_type": "code",
   "execution_count": 31,
   "metadata": {},
   "outputs": [],
   "source": [
    "dataset = dataset[(dataset['Sort_Type']=='quick_sort') ]"
   ]
  },
  {
   "cell_type": "code",
   "execution_count": 32,
   "metadata": {},
   "outputs": [],
   "source": [
    "dataset = dataset[(dataset['List_length']>10000)]"
   ]
  },
  {
   "cell_type": "code",
   "execution_count": 62,
   "metadata": {
    "scrolled": true
   },
   "outputs": [],
   "source": [
    "df_min = dataset\n",
    "df_min['Runtimes'] =  df_min['Runtimes'] /7"
   ]
  },
  {
   "cell_type": "code",
   "execution_count": 72,
   "metadata": {},
   "outputs": [
    {
     "data": {
      "text/html": [
       "<div>\n",
       "<style scoped>\n",
       "    .dataframe tbody tr th:only-of-type {\n",
       "        vertical-align: middle;\n",
       "    }\n",
       "\n",
       "    .dataframe tbody tr th {\n",
       "        vertical-align: top;\n",
       "    }\n",
       "\n",
       "    .dataframe thead th {\n",
       "        text-align: right;\n",
       "    }\n",
       "</style>\n",
       "<table border=\"1\" class=\"dataframe\">\n",
       "  <thead>\n",
       "    <tr style=\"text-align: right;\">\n",
       "      <th></th>\n",
       "      <th>Sort_Type</th>\n",
       "      <th>Data_Type_or_List_type</th>\n",
       "      <th>List_length</th>\n",
       "      <th>Runtimes</th>\n",
       "      <th>Number_of_repeatitions</th>\n",
       "      <th>Datetime</th>\n",
       "    </tr>\n",
       "  </thead>\n",
       "  <tbody>\n",
       "    <tr>\n",
       "      <td>511</td>\n",
       "      <td>quick_sort</td>\n",
       "      <td>random</td>\n",
       "      <td>10240</td>\n",
       "      <td>0.020939</td>\n",
       "      <td>7</td>\n",
       "      <td>2019-10-31 17:20:05.174097</td>\n",
       "    </tr>\n",
       "    <tr>\n",
       "      <td>512</td>\n",
       "      <td>quick_sort</td>\n",
       "      <td>random</td>\n",
       "      <td>10240</td>\n",
       "      <td>0.017950</td>\n",
       "      <td>7</td>\n",
       "      <td>2019-10-31 17:20:05.174097</td>\n",
       "    </tr>\n",
       "    <tr>\n",
       "      <td>513</td>\n",
       "      <td>quick_sort</td>\n",
       "      <td>random</td>\n",
       "      <td>10240</td>\n",
       "      <td>0.019143</td>\n",
       "      <td>7</td>\n",
       "      <td>2019-10-31 17:20:05.174097</td>\n",
       "    </tr>\n",
       "    <tr>\n",
       "      <td>514</td>\n",
       "      <td>quick_sort</td>\n",
       "      <td>random</td>\n",
       "      <td>10240</td>\n",
       "      <td>0.021106</td>\n",
       "      <td>7</td>\n",
       "      <td>2019-10-31 17:20:05.174097</td>\n",
       "    </tr>\n",
       "    <tr>\n",
       "      <td>515</td>\n",
       "      <td>quick_sort</td>\n",
       "      <td>random</td>\n",
       "      <td>10240</td>\n",
       "      <td>0.018063</td>\n",
       "      <td>7</td>\n",
       "      <td>2019-10-31 17:20:05.174097</td>\n",
       "    </tr>\n",
       "  </tbody>\n",
       "</table>\n",
       "</div>"
      ],
      "text/plain": [
       "      Sort_Type Data_Type_or_List_type  List_length  Runtimes  \\\n",
       "511  quick_sort                 random        10240  0.020939   \n",
       "512  quick_sort                 random        10240  0.017950   \n",
       "513  quick_sort                 random        10240  0.019143   \n",
       "514  quick_sort                 random        10240  0.021106   \n",
       "515  quick_sort                 random        10240  0.018063   \n",
       "\n",
       "     Number_of_repeatitions                    Datetime  \n",
       "511                       7  2019-10-31 17:20:05.174097  \n",
       "512                       7  2019-10-31 17:20:05.174097  \n",
       "513                       7  2019-10-31 17:20:05.174097  \n",
       "514                       7  2019-10-31 17:20:05.174097  \n",
       "515                       7  2019-10-31 17:20:05.174097  "
      ]
     },
     "execution_count": 72,
     "metadata": {},
     "output_type": "execute_result"
    }
   ],
   "source": [
    "df_min.head()"
   ]
  },
  {
   "cell_type": "code",
   "execution_count": 74,
   "metadata": {},
   "outputs": [
    {
     "data": {
      "text/html": [
       "<div>\n",
       "<style scoped>\n",
       "    .dataframe tbody tr th:only-of-type {\n",
       "        vertical-align: middle;\n",
       "    }\n",
       "\n",
       "    .dataframe tbody tr th {\n",
       "        vertical-align: top;\n",
       "    }\n",
       "\n",
       "    .dataframe thead th {\n",
       "        text-align: right;\n",
       "    }\n",
       "</style>\n",
       "<table border=\"1\" class=\"dataframe\">\n",
       "  <thead>\n",
       "    <tr style=\"text-align: right;\">\n",
       "      <th></th>\n",
       "      <th>Runtimes</th>\n",
       "      <th>Number_of_repeatitions</th>\n",
       "    </tr>\n",
       "    <tr>\n",
       "      <th>List_length</th>\n",
       "      <th></th>\n",
       "      <th></th>\n",
       "    </tr>\n",
       "  </thead>\n",
       "  <tbody>\n",
       "    <tr>\n",
       "      <td>10240</td>\n",
       "      <td>0.019075</td>\n",
       "      <td>7</td>\n",
       "    </tr>\n",
       "    <tr>\n",
       "      <td>20480</td>\n",
       "      <td>0.057920</td>\n",
       "      <td>7</td>\n",
       "    </tr>\n",
       "    <tr>\n",
       "      <td>40960</td>\n",
       "      <td>0.057481</td>\n",
       "      <td>7</td>\n",
       "    </tr>\n",
       "    <tr>\n",
       "      <td>81920</td>\n",
       "      <td>0.137591</td>\n",
       "      <td>7</td>\n",
       "    </tr>\n",
       "    <tr>\n",
       "      <td>163840</td>\n",
       "      <td>0.241892</td>\n",
       "      <td>7</td>\n",
       "    </tr>\n",
       "  </tbody>\n",
       "</table>\n",
       "</div>"
      ],
      "text/plain": [
       "             Runtimes  Number_of_repeatitions\n",
       "List_length                                  \n",
       "10240        0.019075                       7\n",
       "20480        0.057920                       7\n",
       "40960        0.057481                       7\n",
       "81920        0.137591                       7\n",
       "163840       0.241892                       7"
      ]
     },
     "execution_count": 74,
     "metadata": {},
     "output_type": "execute_result"
    }
   ],
   "source": [
    "plot_data = df_min.groupby(['List_length']).mean()\n",
    "plot_data.head()"
   ]
  },
  {
   "cell_type": "code",
   "execution_count": 64,
   "metadata": {},
   "outputs": [],
   "source": [
    "import matplotlib.pyplot as plt\n",
    "import pandas as pd\n",
    "import numpy as np\n",
    "import pandasql as ps\n",
    "import matplotlib as mpl\n",
    "\n",
    "plt.rcParams['axes.titlesize'] = 15\n",
    "plt.rcParams['axes.labelsize'] = 12\n",
    "plt.rcParams['xtick.labelsize'] = 10\n",
    "plt.rcParams['ytick.labelsize'] = 10\n",
    "plt.rcParams['legend.fontsize'] = 12\n",
    "plt.rcParams['text.usetex'] = False\n",
    "def new_figure(height=55):\n",
    "    \"Return figure with width 84mm and given height in mm.\"\n",
    "    return plt.figure(figsize=(84/10.16, height/10.16))"
   ]
  },
  {
   "cell_type": "code",
   "execution_count": 67,
   "metadata": {},
   "outputs": [],
   "source": [
    "# Prove that the graph in NlogN\n",
    "# Changing the constants by Hit and Trial\n",
    "# The time in plotted in microseconds\n",
    "def plot_minimum_times(input_type='random', lower_limit=10240,\n",
    "                       upper_limit=10485760, c1=100):\n",
    "    filter01 =  (df_min['Data_Type_or_List_type']==input_type)\n",
    "    plot_data = df_min[filter01]\n",
    "\n",
    "    filter02 = (plot_data['List_length']<=upper_limit) &  (plot_data['List_length']>=lower_limit)\n",
    "    plot_data = plot_data[filter02]\n",
    "    \n",
    "    plot_data = plot_data.groupby(['List_length']).mean()\n",
    "\n",
    "    fig = new_figure()\n",
    "    list_of_sorts= sorted( np.unique(plot_data['Sort_Type']).tolist() , reverse=True)\n",
    "    list_of_sorts= ['quick_sort',]\n",
    "    for sort_type in list_of_sorts:\n",
    "        filter03 = (plot_data['Sort_Type']==sort_type)\n",
    "        plot_this = plot_data[filter03]         \n",
    "        plt.plot(plot_this['List_length'], plot_this['Runtimes']*1000000000 , '+' ,label=sort_type)\n",
    "\n",
    "\n",
    "    n_log_n_small= c1*plot_this['List_length'] * np.log2( plot_this['List_length'] )\n",
    "    plt.plot ( plot_this['List_length'], n_log_n_small,'-x', label=\"c1= \"+str(c1) )\n",
    "    \n",
    "    plt.xlabel('Size of the numeric array')\n",
    "    plt.ylabel('Time in Nanoseconds')\n",
    "    plt.title(\"Runtimes of sort Algorithms for -\"+input_type+\" data\")\n",
    "    plt.legend()\n",
    "    #plt.tight_layout()\n",
    "#     plt.savefig(\"plots\\For -\"+input_type+\" from-\"+str(lower_limit)+\" to-\"+str(upper_limit)+\".pdf\" , bbox_inches='tight')\n",
    "    plt.show()"
   ]
  },
  {
   "cell_type": "code",
   "execution_count": 68,
   "metadata": {},
   "outputs": [
    {
     "data": {
      "application/vnd.jupyter.widget-view+json": {
       "model_id": "efc937d216cf4064ac7ab92d28044258",
       "version_major": 2,
       "version_minor": 0
      },
      "text/plain": [
       "interactive(children=(Dropdown(description='input_type', options=('random', 'reverse_sorted', 'sorted'), value…"
      ]
     },
     "metadata": {},
     "output_type": "display_data"
    }
   ],
   "source": [
    "from ipywidgets import interact #,interactive , fixed, interact_manual\n",
    "pickle_object= interact(plot_minimum_times, input_type=['random', 'reverse_sorted', 'sorted']\n",
    "         ,lower_limit=  np.unique(df_min['List_length']).tolist() \n",
    "         ,upper_limit=  np.unique(df_min['List_length']).tolist()\n",
    "        , c1=(50,200,5)\n",
    "           )"
   ]
  },
  {
   "cell_type": "code",
   "execution_count": 70,
   "metadata": {},
   "outputs": [],
   "source": [
    "def bpm(List_length, c1 ):\n",
    "    return  c1*List_length * np.log2( List_length )"
   ]
  },
  {
   "cell_type": "code",
   "execution_count": 71,
   "metadata": {},
   "outputs": [
    {
     "data": {
      "text/plain": [
       "19780398.835288756"
      ]
     },
     "execution_count": 71,
     "metadata": {},
     "output_type": "execute_result"
    }
   ],
   "source": [
    "bpm(10240, 145)"
   ]
  },
  {
   "cell_type": "code",
   "execution_count": null,
   "metadata": {},
   "outputs": [],
   "source": []
  }
 ],
 "metadata": {
  "kernelspec": {
   "display_name": "Python 3",
   "language": "python",
   "name": "python3"
  },
  "language_info": {
   "codemirror_mode": {
    "name": "ipython",
    "version": 3
   },
   "file_extension": ".py",
   "mimetype": "text/x-python",
   "name": "python",
   "nbconvert_exporter": "python",
   "pygments_lexer": "ipython3",
   "version": "3.7.4"
  }
 },
 "nbformat": 4,
 "nbformat_minor": 2
}
