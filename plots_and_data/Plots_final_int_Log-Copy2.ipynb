{
 "cells": [
  {
   "cell_type": "code",
   "execution_count": 122,
   "metadata": {},
   "outputs": [],
   "source": [
    "# Example code for creating a figure of suitable size\n",
    "# for inclusion in the term paper.\n",
    "\n",
    "import matplotlib.pyplot as plt\n",
    "import pandas as pd\n",
    "import numpy as np\n",
    "import pandasql as ps\n",
    "import matplotlib as mpl\n",
    "\n",
    "\n",
    "plt.rcParams['axes.titlesize'] = 15\n",
    "plt.rcParams['axes.labelsize'] = 12\n",
    "plt.rcParams['xtick.labelsize'] = 10\n",
    "plt.rcParams['ytick.labelsize'] = 10\n",
    "plt.rcParams['legend.fontsize'] = 12\n",
    "plt.rcParams['text.usetex'] = False\n",
    "# Color cycle for color blind Source: https://gist.github.com/thriveth/8560036\n",
    "CB_color_cycle = ['#377eb8', '#ff7f00', '#4daf4a',\n",
    "                  '#f781bf', '#a65628', '#984ea3',\n",
    "                  '#999999', '#e41a1c', '#dede00']   # https://gist.github.com/thriveth/8560036\n",
    "\n",
    "# Set the default color cycle\n",
    "mpl.rcParams['axes.prop_cycle'] = mpl.cycler(color=CB_color_cycle) "
   ]
  },
  {
   "cell_type": "code",
   "execution_count": 123,
   "metadata": {},
   "outputs": [],
   "source": [
    "# Function for a consistent length of figures of 84 mm, converting to inches\n",
    "def new_figure(height=55):\n",
    "    \"Return figure with width 84mm and given height in mm.\"\n",
    "\n",
    "    return plt.figure(figsize=(84/10.16, height/10.16))\n",
    "\n",
    "# x = range(10)\n",
    "# y = [v**2 - 1 for v in x]\n",
    "\n",
    "# fig = new_figure()\n",
    "# ax = fig.add_subplot(1, 1, 1)\n",
    "# ax.plot(x, y, 'o-', label='$y=x^2-1$')\n",
    "# ax.legend()\n",
    "# ax.set_xlabel('$x$')\n",
    "# ax.set_ylabel('$y$')\n",
    "# fig.savefig('sample_plot.pdf', bbox_inches='tight')\n",
    "# plt.show()"
   ]
  },
  {
   "cell_type": "markdown",
   "metadata": {},
   "source": [
    "### Reading all the different CSVs produced by each run of the time_it function "
   ]
  },
  {
   "cell_type": "code",
   "execution_count": 124,
   "metadata": {},
   "outputs": [],
   "source": [
    "# merge_sort_already_sorted= pd.read_csv(\"merge_sort_already_sorted.csv\")\n",
    "# merge_sort_random= pd.read_csv(\"merge_sort_random.csv\")\n",
    "# merge_sort_reverse_sorted= pd.read_csv(\"merge_sort_reverse_sorted.csv\")\n",
    "\n",
    "# quick_sort_random= pd.read_csv(\"quick_sort_random.csv\")\n",
    "# quick_sort_already_sorted_till_2560= pd.read_csv(\"quick_sort_sorted.csv\")\n",
    "# quick_sort_reverse_sorted_till_2560= pd.read_csv(\"quick_sort_reverse_sorted.csv\")\n",
    "\n",
    "# heap_sort_already_sorted= pd.read_csv(\"heap_sort_already_sorted.csv\")\n",
    "# heap_sort_random= pd.read_csv(\"heap_sort_random.csv\")\n",
    "# heap_sort_reverse_sorted= pd.read_csv(\"heap_sort_reverse_sorted.csv\")\n",
    "\n",
    "# numpy_sort_already_sorted= pd.read_csv(\"numpy_sort_already_sorted.csv\")\n",
    "# numpy_sort_random= pd.read_csv(\"numpy_sort_random.csv\")\n",
    "# numpy_sort_reverse_sorted= pd.read_csv(\"numpy_sort_reverse_sorted.csv\")\n",
    "\n",
    "# python_sorted_already_sorted= pd.read_csv(\"sorted_already_sorted.csv\")\n",
    "# python_sorted_random= pd.read_csv(\"sorted_random.csv\")\n",
    "# python_sorted_reverse_sorted= pd.read_csv(\"sorted_reverse_sorted.csv\")         \n"
   ]
  },
  {
   "cell_type": "code",
   "execution_count": 125,
   "metadata": {},
   "outputs": [
    {
     "name": "stdout",
     "output_type": "stream",
     "text": [
      "['random', 'reverse_sorted', 'sorted']\n",
      "(2037, 6)\n"
     ]
    }
   ],
   "source": [
    "# dataset=pd.concat([merge_sort_already_sorted, merge_sort_random, merge_sort_reverse_sorted, \n",
    "#                    quick_sort_random,quick_sort_already_sorted_till_2560,quick_sort_reverse_sorted_till_2560,\n",
    "#                    heap_sort_already_sorted, heap_sort_random, heap_sort_reverse_sorted,\n",
    "#                    numpy_sort_already_sorted, numpy_sort_random, numpy_sort_reverse_sorted,\n",
    "#                    python_sorted_already_sorted, python_sorted_random, python_sorted_reverse_sorted])\n",
    "\n",
    "\n",
    "# dataset.loc[ dataset['Data_Type_or_List_type']=='already_sorted', ['Data_Type_or_List_type'] ] ='sorted'\n",
    "# dataset.loc[ dataset['Data_Type_or_List_type']=='reverese_sorted', ['Data_Type_or_List_type'] ] ='reverse_sorted'\n",
    "# dataset.loc[ dataset['Data_Type_or_List_type']=='reverse', ['Data_Type_or_List_type'] ] ='reverse_sorted'\n",
    "# dataset.reset_index(drop=True)\n",
    "\n",
    "# dataset.to_csv(\"dataset_concat.csv\", index=False)\n",
    "\n",
    "dataset = pd.read_csv(\"dataset_concat.csv\")\n",
    "print (np.unique(dataset['Data_Type_or_List_type']).tolist())\n",
    "print(dataset.shape)"
   ]
  },
  {
   "cell_type": "code",
   "execution_count": 126,
   "metadata": {},
   "outputs": [
    {
     "data": {
      "text/html": [
       "<div>\n",
       "<style scoped>\n",
       "    .dataframe tbody tr th:only-of-type {\n",
       "        vertical-align: middle;\n",
       "    }\n",
       "\n",
       "    .dataframe tbody tr th {\n",
       "        vertical-align: top;\n",
       "    }\n",
       "\n",
       "    .dataframe thead th {\n",
       "        text-align: right;\n",
       "    }\n",
       "</style>\n",
       "<table border=\"1\" class=\"dataframe\">\n",
       "  <thead>\n",
       "    <tr style=\"text-align: right;\">\n",
       "      <th></th>\n",
       "      <th>Sort_Type</th>\n",
       "      <th>Data_Type_or_List_type</th>\n",
       "      <th>List_length</th>\n",
       "      <th>Runtimes</th>\n",
       "      <th>Number_of_repeatitions</th>\n",
       "      <th>Datetime</th>\n",
       "    </tr>\n",
       "  </thead>\n",
       "  <tbody>\n",
       "    <tr>\n",
       "      <td>0</td>\n",
       "      <td>merge_sort</td>\n",
       "      <td>sorted</td>\n",
       "      <td>10</td>\n",
       "      <td>0.267837</td>\n",
       "      <td>7</td>\n",
       "      <td>2019-11-01 21:51:45.110982</td>\n",
       "    </tr>\n",
       "    <tr>\n",
       "      <td>1</td>\n",
       "      <td>merge_sort</td>\n",
       "      <td>sorted</td>\n",
       "      <td>10</td>\n",
       "      <td>0.277732</td>\n",
       "      <td>7</td>\n",
       "      <td>2019-11-01 21:51:45.110982</td>\n",
       "    </tr>\n",
       "    <tr>\n",
       "      <td>2</td>\n",
       "      <td>merge_sort</td>\n",
       "      <td>sorted</td>\n",
       "      <td>10</td>\n",
       "      <td>0.274984</td>\n",
       "      <td>7</td>\n",
       "      <td>2019-11-01 21:51:45.110982</td>\n",
       "    </tr>\n",
       "    <tr>\n",
       "      <td>3</td>\n",
       "      <td>merge_sort</td>\n",
       "      <td>sorted</td>\n",
       "      <td>10</td>\n",
       "      <td>0.250366</td>\n",
       "      <td>7</td>\n",
       "      <td>2019-11-01 21:51:45.110982</td>\n",
       "    </tr>\n",
       "    <tr>\n",
       "      <td>4</td>\n",
       "      <td>merge_sort</td>\n",
       "      <td>sorted</td>\n",
       "      <td>10</td>\n",
       "      <td>0.233188</td>\n",
       "      <td>7</td>\n",
       "      <td>2019-11-01 21:51:45.110982</td>\n",
       "    </tr>\n",
       "  </tbody>\n",
       "</table>\n",
       "</div>"
      ],
      "text/plain": [
       "    Sort_Type Data_Type_or_List_type  List_length  Runtimes  \\\n",
       "0  merge_sort                 sorted           10  0.267837   \n",
       "1  merge_sort                 sorted           10  0.277732   \n",
       "2  merge_sort                 sorted           10  0.274984   \n",
       "3  merge_sort                 sorted           10  0.250366   \n",
       "4  merge_sort                 sorted           10  0.233188   \n",
       "\n",
       "   Number_of_repeatitions                    Datetime  \n",
       "0                       7  2019-11-01 21:51:45.110982  \n",
       "1                       7  2019-11-01 21:51:45.110982  \n",
       "2                       7  2019-11-01 21:51:45.110982  \n",
       "3                       7  2019-11-01 21:51:45.110982  \n",
       "4                       7  2019-11-01 21:51:45.110982  "
      ]
     },
     "execution_count": 126,
     "metadata": {},
     "output_type": "execute_result"
    }
   ],
   "source": [
    "dataset.head()"
   ]
  },
  {
   "cell_type": "code",
   "execution_count": 127,
   "metadata": {},
   "outputs": [
    {
     "name": "stdout",
     "output_type": "stream",
     "text": [
      "['random', 'reverse_sorted', 'sorted']\n"
     ]
    },
    {
     "data": {
      "text/html": [
       "<div>\n",
       "<style scoped>\n",
       "    .dataframe tbody tr th:only-of-type {\n",
       "        vertical-align: middle;\n",
       "    }\n",
       "\n",
       "    .dataframe tbody tr th {\n",
       "        vertical-align: top;\n",
       "    }\n",
       "\n",
       "    .dataframe thead th {\n",
       "        text-align: right;\n",
       "    }\n",
       "</style>\n",
       "<table border=\"1\" class=\"dataframe\">\n",
       "  <thead>\n",
       "    <tr style=\"text-align: right;\">\n",
       "      <th></th>\n",
       "      <th>Sort_Type</th>\n",
       "      <th>Data_Type_or_List_type</th>\n",
       "      <th>List_length</th>\n",
       "      <th>Single_runtime</th>\n",
       "    </tr>\n",
       "  </thead>\n",
       "  <tbody>\n",
       "    <tr>\n",
       "      <td>0</td>\n",
       "      <td>heap_sort</td>\n",
       "      <td>random</td>\n",
       "      <td>10</td>\n",
       "      <td>0.025611</td>\n",
       "    </tr>\n",
       "    <tr>\n",
       "      <td>1</td>\n",
       "      <td>heap_sort</td>\n",
       "      <td>random</td>\n",
       "      <td>20</td>\n",
       "      <td>0.024896</td>\n",
       "    </tr>\n",
       "    <tr>\n",
       "      <td>2</td>\n",
       "      <td>heap_sort</td>\n",
       "      <td>random</td>\n",
       "      <td>40</td>\n",
       "      <td>0.029855</td>\n",
       "    </tr>\n",
       "    <tr>\n",
       "      <td>3</td>\n",
       "      <td>heap_sort</td>\n",
       "      <td>random</td>\n",
       "      <td>80</td>\n",
       "      <td>0.042957</td>\n",
       "    </tr>\n",
       "    <tr>\n",
       "      <td>4</td>\n",
       "      <td>heap_sort</td>\n",
       "      <td>random</td>\n",
       "      <td>160</td>\n",
       "      <td>0.049812</td>\n",
       "    </tr>\n",
       "  </tbody>\n",
       "</table>\n",
       "</div>"
      ],
      "text/plain": [
       "   Sort_Type Data_Type_or_List_type  List_length  Single_runtime\n",
       "0  heap_sort                 random           10        0.025611\n",
       "1  heap_sort                 random           20        0.024896\n",
       "2  heap_sort                 random           40        0.029855\n",
       "3  heap_sort                 random           80        0.042957\n",
       "4  heap_sort                 random          160        0.049812"
      ]
     },
     "execution_count": 127,
     "metadata": {},
     "output_type": "execute_result"
    }
   ],
   "source": [
    "# Extract the keys and values and plot them\n",
    "\n",
    "min_query = \"\"\"SELECT Sort_Type, \n",
    "Data_Type_or_List_type,\n",
    "List_length, \n",
    "min( Runtimes/Number_of_repeatitions)  as Single_runtime\n",
    "FROM dataset \n",
    "GROUP BY Sort_Type, \n",
    "Data_Type_or_List_type,\n",
    "List_length \"\"\"\n",
    "\n",
    "df_min = pd.DataFrame( ps.sqldf(min_query) )\n",
    "\n",
    "\n",
    "print (np.unique(df_min['Data_Type_or_List_type']).tolist())\n",
    "df_min.head()\n"
   ]
  },
  {
   "cell_type": "code",
   "execution_count": 128,
   "metadata": {},
   "outputs": [],
   "source": [
    "df_min['Single_runtime'] = df_min['Single_runtime']*1000000000"
   ]
  },
  {
   "cell_type": "code",
   "execution_count": 129,
   "metadata": {},
   "outputs": [
    {
     "data": {
      "text/html": [
       "<div>\n",
       "<style scoped>\n",
       "    .dataframe tbody tr th:only-of-type {\n",
       "        vertical-align: middle;\n",
       "    }\n",
       "\n",
       "    .dataframe tbody tr th {\n",
       "        vertical-align: top;\n",
       "    }\n",
       "\n",
       "    .dataframe thead th {\n",
       "        text-align: right;\n",
       "    }\n",
       "</style>\n",
       "<table border=\"1\" class=\"dataframe\">\n",
       "  <thead>\n",
       "    <tr style=\"text-align: right;\">\n",
       "      <th></th>\n",
       "      <th>Sort_Type</th>\n",
       "      <th>Data_Type_or_List_type</th>\n",
       "      <th>List_length</th>\n",
       "      <th>Single_runtime</th>\n",
       "    </tr>\n",
       "  </thead>\n",
       "  <tbody>\n",
       "    <tr>\n",
       "      <td>0</td>\n",
       "      <td>heap_sort</td>\n",
       "      <td>random</td>\n",
       "      <td>10</td>\n",
       "      <td>2.561117e+07</td>\n",
       "    </tr>\n",
       "    <tr>\n",
       "      <td>1</td>\n",
       "      <td>heap_sort</td>\n",
       "      <td>random</td>\n",
       "      <td>20</td>\n",
       "      <td>2.489582e+07</td>\n",
       "    </tr>\n",
       "    <tr>\n",
       "      <td>2</td>\n",
       "      <td>heap_sort</td>\n",
       "      <td>random</td>\n",
       "      <td>40</td>\n",
       "      <td>2.985538e+07</td>\n",
       "    </tr>\n",
       "    <tr>\n",
       "      <td>3</td>\n",
       "      <td>heap_sort</td>\n",
       "      <td>random</td>\n",
       "      <td>80</td>\n",
       "      <td>4.295699e+07</td>\n",
       "    </tr>\n",
       "    <tr>\n",
       "      <td>4</td>\n",
       "      <td>heap_sort</td>\n",
       "      <td>random</td>\n",
       "      <td>160</td>\n",
       "      <td>4.981248e+07</td>\n",
       "    </tr>\n",
       "  </tbody>\n",
       "</table>\n",
       "</div>"
      ],
      "text/plain": [
       "   Sort_Type Data_Type_or_List_type  List_length  Single_runtime\n",
       "0  heap_sort                 random           10    2.561117e+07\n",
       "1  heap_sort                 random           20    2.489582e+07\n",
       "2  heap_sort                 random           40    2.985538e+07\n",
       "3  heap_sort                 random           80    4.295699e+07\n",
       "4  heap_sort                 random          160    4.981248e+07"
      ]
     },
     "execution_count": 129,
     "metadata": {},
     "output_type": "execute_result"
    }
   ],
   "source": [
    "df_min.head()"
   ]
  },
  {
   "cell_type": "code",
   "execution_count": 159,
   "metadata": {},
   "outputs": [],
   "source": [
    "# Prove that the graph in NlogN\n",
    "# Changing the constants by Hit and Trial\n",
    "# The time in plotted in microseconds\n",
    "def plot_minimum_times(input_type='sorted', lower_limit=81920, upper_limit=10485760):\n",
    "    filter01 =  (df_min['Data_Type_or_List_type']==input_type)\n",
    "    plot_data = df_min[filter01]\n",
    "\n",
    "    filter02 = (plot_data['List_length']<=upper_limit) &  (plot_data['List_length']>=lower_limit)\n",
    "    plot_data = plot_data[filter02]\n",
    "\n",
    "    fig = new_figure()\n",
    "    list_of_sorts= sorted( np.unique(plot_data['Sort_Type']).tolist() , reverse=True)\n",
    "    list_of_sorts = [  'numpy_sort', 'python_sorted']\n",
    "    for sort_type in list_of_sorts:\n",
    "        filter03 = (plot_data['Sort_Type']==sort_type)\n",
    "        plot_this = plot_data[filter03]   \n",
    "        \n",
    "        size_n = plot_this['List_length']\n",
    "        time_y = plot_this['Single_runtime']\n",
    "        \n",
    "        size_n_norm = ( size_n - np.mean(size_n) )/ np.std(size_n)\n",
    "        time_y_norm = ( time_y - np.mean(time_y) )/ np.std(time_y)        \n",
    "        plt.plot( size_n_norm , time_y_norm ,'-o' ,alpha=0.8, label=sort_type)\n",
    "    plt.plot( [-1,0,2.5], [-1 ,0,2.5] ,'-',color='black' )\n",
    "    plt.vlines(x=0,ymin=-1.5, ymax=2.5,linestyles= '--', color='black')\n",
    "    plt.hlines(y=0,xmin=-1.5, xmax=2.5,linestyles= '--', color='black')\n",
    "                 \n",
    "    plt.xlabel('Normalized size of the numeric array')\n",
    "    plt.ylabel('Normalized Time')\n",
    "    plt.title(\"Plot against linear line -\"+input_type+\" data\")\n",
    "    plt.legend()\n",
    "    plt.tight_layout()\n",
    "    plt.savefig(\"normalised\\Check against linear runtime.pdf\" , bbox_inches='tight')\n",
    "    plt.show()"
   ]
  },
  {
   "cell_type": "markdown",
   "metadata": {},
   "source": [
    "## Check against linear runtime- Python Sorted and Numpy Sort"
   ]
  },
  {
   "cell_type": "code",
   "execution_count": 160,
   "metadata": {
    "scrolled": true
   },
   "outputs": [
    {
     "data": {
      "application/vnd.jupyter.widget-view+json": {
       "model_id": "fd3f8dfa276f432a9e85278558bc3704",
       "version_major": 2,
       "version_minor": 0
      },
      "text/plain": [
       "interactive(children=(Dropdown(description='input_type', index=2, options=('random', 'reverse_sorted', 'sorted…"
      ]
     },
     "metadata": {},
     "output_type": "display_data"
    }
   ],
   "source": [
    "from ipywidgets import interact #,interactive , fixed, interact_manual\n",
    "# import ipywidgets as widgets\n",
    "pickle_object= interact(plot_minimum_times, input_type=['random', 'reverse_sorted', 'sorted']\n",
    "         ,lower_limit=  np.unique(df_min['List_length']).tolist() \n",
    "         ,upper_limit=  np.unique(df_min['List_length']).tolist()\n",
    "        )"
   ]
  },
  {
   "cell_type": "code",
   "execution_count": 157,
   "metadata": {},
   "outputs": [
    {
     "ename": "NameError",
     "evalue": "name 'sqrt' is not defined",
     "output_type": "error",
     "traceback": [
      "\u001b[1;31m---------------------------------------------------------------------------\u001b[0m",
      "\u001b[1;31mNameError\u001b[0m                                 Traceback (most recent call last)",
      "\u001b[1;32m<ipython-input-157-db2bca3a4741>\u001b[0m in \u001b[0;36m<module>\u001b[1;34m\u001b[0m\n\u001b[0;32m      2\u001b[0m \u001b[1;31m# The time in plotted in microseconds\u001b[0m\u001b[1;33m\u001b[0m\u001b[1;33m\u001b[0m\u001b[1;33m\u001b[0m\u001b[0m\n\u001b[0;32m      3\u001b[0m \u001b[0mx\u001b[0m \u001b[1;33m=\u001b[0m  \u001b[0mnp\u001b[0m\u001b[1;33m.\u001b[0m\u001b[0mlinspace\u001b[0m\u001b[1;33m(\u001b[0m\u001b[1;36m9\u001b[0m\u001b[1;33m,\u001b[0m\u001b[1;36m999\u001b[0m\u001b[1;33m,\u001b[0m\u001b[1;36m9999\u001b[0m\u001b[1;33m)\u001b[0m\u001b[1;33m\u001b[0m\u001b[1;33m\u001b[0m\u001b[0m\n\u001b[1;32m----> 4\u001b[1;33m \u001b[0my\u001b[0m \u001b[1;33m=\u001b[0m \u001b[0mx\u001b[0m\u001b[1;33m*\u001b[0m\u001b[0msqrt\u001b[0m\u001b[1;33m(\u001b[0m\u001b[0mx\u001b[0m\u001b[1;33m)\u001b[0m\u001b[1;33m\u001b[0m\u001b[1;33m\u001b[0m\u001b[0m\n\u001b[0m\u001b[0;32m      5\u001b[0m \u001b[0mx_norm\u001b[0m \u001b[1;33m=\u001b[0m \u001b[1;33m(\u001b[0m \u001b[0mx\u001b[0m \u001b[1;33m-\u001b[0m \u001b[0mnp\u001b[0m\u001b[1;33m.\u001b[0m\u001b[0mmean\u001b[0m\u001b[1;33m(\u001b[0m\u001b[0mx\u001b[0m\u001b[1;33m)\u001b[0m \u001b[1;33m)\u001b[0m\u001b[1;33m/\u001b[0m \u001b[0mnp\u001b[0m\u001b[1;33m.\u001b[0m\u001b[0mstd\u001b[0m\u001b[1;33m(\u001b[0m\u001b[0mx\u001b[0m\u001b[1;33m)\u001b[0m\u001b[1;33m\u001b[0m\u001b[1;33m\u001b[0m\u001b[0m\n\u001b[0;32m      6\u001b[0m \u001b[0my_norm\u001b[0m \u001b[1;33m=\u001b[0m \u001b[1;33m(\u001b[0m \u001b[0my\u001b[0m \u001b[1;33m-\u001b[0m \u001b[0mnp\u001b[0m\u001b[1;33m.\u001b[0m\u001b[0mmean\u001b[0m\u001b[1;33m(\u001b[0m\u001b[0my\u001b[0m\u001b[1;33m)\u001b[0m \u001b[1;33m)\u001b[0m\u001b[1;33m/\u001b[0m \u001b[0mnp\u001b[0m\u001b[1;33m.\u001b[0m\u001b[0mstd\u001b[0m\u001b[1;33m(\u001b[0m\u001b[0my\u001b[0m\u001b[1;33m)\u001b[0m\u001b[1;33m\u001b[0m\u001b[1;33m\u001b[0m\u001b[0m\n",
      "\u001b[1;31mNameError\u001b[0m: name 'sqrt' is not defined"
     ]
    }
   ],
   "source": [
    "# Changing the constants by Hit and Trial\n",
    "# The time in plotted in microseconds\n",
    "x =  np.linspace(9,999,9999)\n",
    "y = x*sqrt(x)\n",
    "x_norm = ( x - np.mean(x) )/ np.std(x)\n",
    "y_norm = ( y - np.mean(y) )/ np.std(y) \n",
    "# x_norm= x_norm[5000:]\n",
    "# y_norm= y_norm[5000:]\n",
    "\n",
    "\n",
    "def plot_minimum_times(input_type='sorted', lower_limit=81920, upper_limit=10485760):\n",
    "    filter01 =  (df_min['Data_Type_or_List_type']==input_type)\n",
    "    plot_data = df_min[filter01]\n",
    "\n",
    "    filter02 = (plot_data['List_length']<=upper_limit) &  (plot_data['List_length']>=lower_limit)\n",
    "    plot_data = plot_data[filter02]\n",
    "\n",
    "    fig = new_figure()\n",
    "    list_of_sorts= sorted( np.unique(plot_data['Sort_Type']).tolist() , reverse=True)\n",
    "    list_of_sorts = [  'heap_sort', ] #'merge_sort']\n",
    "    for sort_type in list_of_sorts:\n",
    "        filter03 = (plot_data['Sort_Type']==sort_type)\n",
    "        plot_this = plot_data[filter03]   \n",
    "        \n",
    "        size_n = plot_this['List_length']\n",
    "        time_y = plot_this['Single_runtime']\n",
    "        \n",
    "        size_n_norm = ( size_n - np.mean(size_n) )/ np.std(size_n)\n",
    "        time_y_norm = ( time_y - np.mean(time_y) )/ np.std(time_y)        \n",
    "        plt.plot( size_n_norm , time_y_norm ,'-o' ,alpha=0.8, label=sort_type)\n",
    "        \n",
    "        plt.vlines(x=0,ymin=-0.5, ymax=2.5,linestyles= '--', color='black')\n",
    "        plt.hlines(y=0,xmin=-0.5, xmax=2.5,linestyles= '--', color='black')\n",
    "        #plot n*sqrt(n)\n",
    "        \n",
    "    plt.plot( [-1,0,2.5], [-1 ,0,2.5] ,'--' ,color='black', label='linear')  \n",
    "    plt.plot( x_norm, y_norm  ,'-', label='$n*sqrt(n)$' )\n",
    "    \n",
    "    plt.xlabel('Normalized size of the numeric array')\n",
    "    plt.ylabel('Normalized Time')\n",
    "    plt.title(\"Runtimes of sort Algorithms for -\"+input_type+\" data\")\n",
    "    plt.legend()\n",
    "    plt.tight_layout()\n",
    "#     plt.savefig(\"normalised\\Check against n*sqrt(n) runtime.pdf\" , bbox_inches='tight')\n",
    "    plt.show()"
   ]
  },
  {
   "cell_type": "code",
   "execution_count": 158,
   "metadata": {},
   "outputs": [
    {
     "data": {
      "application/vnd.jupyter.widget-view+json": {
       "model_id": "5591ecf4ef8946bf8c73c3fb020188c3",
       "version_major": 2,
       "version_minor": 0
      },
      "text/plain": [
       "interactive(children=(Dropdown(description='input_type', index=2, options=('random', 'reverse_sorted', 'sorted…"
      ]
     },
     "metadata": {},
     "output_type": "display_data"
    }
   ],
   "source": [
    "from ipywidgets import interact #,interactive , fixed, interact_manual\n",
    "# import ipywidgets as widgets\n",
    "pickle_object= interact(plot_minimum_times, input_type=['random', 'reverse_sorted', 'sorted']\n",
    "         ,lower_limit=  np.unique(df_min['List_length']).tolist() \n",
    "         ,upper_limit=  np.unique(df_min['List_length']).tolist()\n",
    "        )"
   ]
  },
  {
   "cell_type": "code",
   "execution_count": 140,
   "metadata": {},
   "outputs": [],
   "source": [
    "x =  np.linspace(0,10,9999)\n",
    "y = x*np.sqrt(x)\n",
    "x_norm = ( x - np.mean(x) )/ np.std(x)\n",
    "y_norm = ( y - np.mean(y) )/ np.std(y) \n",
    "x_norm= x_norm[5000:]\n",
    "y_norm= y_norm[5000:]"
   ]
  },
  {
   "cell_type": "code",
   "execution_count": 162,
   "metadata": {},
   "outputs": [
    {
     "data": {
      "text/plain": [
       "'7.5.1'"
      ]
     },
     "execution_count": 162,
     "metadata": {},
     "output_type": "execute_result"
    }
   ],
   "source": [
    "import ipywidgets\n",
    "ipywidgets.__version__"
   ]
  },
  {
   "cell_type": "code",
   "execution_count": null,
   "metadata": {},
   "outputs": [],
   "source": []
  }
 ],
 "metadata": {
  "kernelspec": {
   "display_name": "Python 3",
   "language": "python",
   "name": "python3"
  },
  "language_info": {
   "codemirror_mode": {
    "name": "ipython",
    "version": 3
   },
   "file_extension": ".py",
   "mimetype": "text/x-python",
   "name": "python",
   "nbconvert_exporter": "python",
   "pygments_lexer": "ipython3",
   "version": "3.7.4"
  }
 },
 "nbformat": 4,
 "nbformat_minor": 2
}
