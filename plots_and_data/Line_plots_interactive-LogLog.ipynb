{
 "cells": [
  {
   "cell_type": "code",
   "execution_count": 1,
   "metadata": {},
   "outputs": [],
   "source": [
    "# Example code for creating a figure of suitable size\n",
    "# for inclusion in the term paper.\n",
    "\n",
    "import matplotlib.pyplot as plt\n",
    "import pandas as pd\n",
    "import numpy as np\n",
    "import pandasql as ps\n",
    "import matplotlib as mpl\n",
    "\n",
    "\n",
    "plt.rcParams['axes.titlesize'] = 15\n",
    "plt.rcParams['axes.labelsize'] = 14\n",
    "plt.rcParams['xtick.labelsize'] = 12\n",
    "plt.rcParams['ytick.labelsize'] = 12\n",
    "plt.rcParams['legend.fontsize'] = 12\n",
    "plt.rcParams['text.usetex'] = False\n",
    "# Color cycle for color blind Source: https://gist.github.com/thriveth/8560036\n",
    "CB_color_cycle = ['#377eb8', '#ff7f00', '#4daf4a',\n",
    "                  '#f781bf', '#a65628', '#984ea3',\n",
    "                  '#999999', '#e41a1c', '#dede00']  \n",
    "\n",
    "# Set the default color cycle\n",
    "mpl.rcParams['axes.prop_cycle'] = mpl.cycler(color=CB_color_cycle) "
   ]
  },
  {
   "cell_type": "code",
   "execution_count": 2,
   "metadata": {},
   "outputs": [],
   "source": [
    "# Function for a consistent length of figures of 84 mm, converting to inches\n",
    "def new_figure(height=55):\n",
    "    \"Return figure with width 84mm and given height in mm.\"\n",
    "    return plt.figure(figsize=(84/10.16, height/10.16))"
   ]
  },
  {
   "cell_type": "markdown",
   "metadata": {},
   "source": [
    "### Reading all the different CSVs produced by each run of the time_it function "
   ]
  },
  {
   "cell_type": "code",
   "execution_count": 50,
   "metadata": {},
   "outputs": [],
   "source": [
    "# path =\"C:\\\\Users\\\\admin\\\\Desktop\\\\INF221\\\\termpaper01\\\\plots_and_data\\\\csvs\\\\_20191120\\\\\"\n",
    "# merge_sort_already_sorted= pd.read_csv(path+\"merge_sort_sorted.csv\")\n",
    "# merge_sort_random= pd.read_csv(path+\"merge_sort_random.csv\")\n",
    "# merge_sort_reverse_sorted= pd.read_csv(path+\"merge_sort_reverse_sorted.csv\")\n",
    "\n",
    "# quick_sort_random= pd.read_csv(path+\"quick_sort_random.csv\")\n",
    "# quick_sort_already_sorted= pd.read_csv(path+\"quick_sort_sorted.csv\")\n",
    "# quick_sort_reverse_sorted= pd.read_csv(path+\"quick_sort_reverse_sorted.csv\")\n",
    "\n",
    "# heap_sort_already_sorted= pd.read_csv(path+\"heap_sort_sorted.csv\")\n",
    "# heap_sort_random= pd.read_csv(path+\"heap_sort_random.csv\")\n",
    "# heap_sort_reverse_sorted= pd.read_csv(path+\"heap_sort_reverse_sorted.csv\")\n",
    "\n",
    "# numpy_sort_already_sorted= pd.read_csv(path+\"sort_sorted.csv\")\n",
    "# numpy_sort_random= pd.read_csv(path+\"sort_random.csv\")\n",
    "# numpy_sort_reverse_sorted= pd.read_csv(path+\"sort_reverse_sorted.csv\")\n",
    "\n",
    "# python_sorted_already_sorted= pd.read_csv(path+\"sorted_sorted.csv\")\n",
    "# python_sorted_random= pd.read_csv(path+\"sorted_random.csv\")\n",
    "# python_sorted_reverse_sorted= pd.read_csv(path+\"sorted_reverse_sorted.csv\")         \n"
   ]
  },
  {
   "cell_type": "code",
   "execution_count": 3,
   "metadata": {},
   "outputs": [
    {
     "name": "stdout",
     "output_type": "stream",
     "text": [
      "['random', 'reverse_sorted', 'sorted']\n",
      "(2205, 6)\n"
     ]
    }
   ],
   "source": [
    "# dataset=pd.concat([merge_sort_already_sorted, merge_sort_random, merge_sort_reverse_sorted, \n",
    "#                    quick_sort_random,quick_sort_already_sorted,quick_sort_reverse_sorted,\n",
    "#                    heap_sort_already_sorted, heap_sort_random, heap_sort_reverse_sorted,\n",
    "#                    numpy_sort_already_sorted, numpy_sort_random, numpy_sort_reverse_sorted,\n",
    "#                    python_sorted_already_sorted, python_sorted_random, python_sorted_reverse_sorted])\n",
    "\n",
    "\n",
    "# dataset.loc[ dataset['Data_Type_or_List_type']=='already_sorted', ['Data_Type_or_List_type'] ] ='sorted'\n",
    "# dataset.loc[ dataset['Data_Type_or_List_type']=='reverese_sorted', ['Data_Type_or_List_type'] ] ='reverse_sorted'\n",
    "# dataset.loc[ dataset['Data_Type_or_List_type']=='reverse', ['Data_Type_or_List_type'] ] ='reverse_sorted'\n",
    "\n",
    "# dataset.loc[ dataset['Sort_Type']=='sorted', ['Sort_Type'] ] ='python_sorted'\n",
    "# dataset.loc[ dataset['Sort_Type']=='sort', ['Sort_Type'] ] ='numpy_sort'\n",
    "# dataset.reset_index(drop=True)\n",
    "\n",
    "# dataset.to_csv(\"dataset_concat.csv\", index=False)\n",
    "\n",
    "dataset = pd.read_csv(\"dataset_concat.csv\")\n",
    "print (np.unique(dataset['Data_Type_or_List_type']).tolist())\n",
    "print(dataset.shape)"
   ]
  },
  {
   "cell_type": "code",
   "execution_count": 4,
   "metadata": {},
   "outputs": [
    {
     "data": {
      "text/html": [
       "<div>\n",
       "<style scoped>\n",
       "    .dataframe tbody tr th:only-of-type {\n",
       "        vertical-align: middle;\n",
       "    }\n",
       "\n",
       "    .dataframe tbody tr th {\n",
       "        vertical-align: top;\n",
       "    }\n",
       "\n",
       "    .dataframe thead th {\n",
       "        text-align: right;\n",
       "    }\n",
       "</style>\n",
       "<table border=\"1\" class=\"dataframe\">\n",
       "  <thead>\n",
       "    <tr style=\"text-align: right;\">\n",
       "      <th></th>\n",
       "      <th>Sort_Type</th>\n",
       "      <th>Data_Type_or_List_type</th>\n",
       "      <th>List_length</th>\n",
       "      <th>Runtimes</th>\n",
       "      <th>Number_of_repeatitions</th>\n",
       "      <th>Datetime</th>\n",
       "    </tr>\n",
       "  </thead>\n",
       "  <tbody>\n",
       "    <tr>\n",
       "      <td>2200</td>\n",
       "      <td>python_sorted</td>\n",
       "      <td>reverse_sorted</td>\n",
       "      <td>10485760</td>\n",
       "      <td>2.323417</td>\n",
       "      <td>10</td>\n",
       "      <td>2019-11-22 15:36:49.260087</td>\n",
       "    </tr>\n",
       "    <tr>\n",
       "      <td>2201</td>\n",
       "      <td>python_sorted</td>\n",
       "      <td>reverse_sorted</td>\n",
       "      <td>10485760</td>\n",
       "      <td>2.369249</td>\n",
       "      <td>10</td>\n",
       "      <td>2019-11-22 15:36:49.260087</td>\n",
       "    </tr>\n",
       "    <tr>\n",
       "      <td>2202</td>\n",
       "      <td>python_sorted</td>\n",
       "      <td>reverse_sorted</td>\n",
       "      <td>10485760</td>\n",
       "      <td>2.381871</td>\n",
       "      <td>10</td>\n",
       "      <td>2019-11-22 15:36:49.260087</td>\n",
       "    </tr>\n",
       "    <tr>\n",
       "      <td>2203</td>\n",
       "      <td>python_sorted</td>\n",
       "      <td>reverse_sorted</td>\n",
       "      <td>10485760</td>\n",
       "      <td>2.352574</td>\n",
       "      <td>10</td>\n",
       "      <td>2019-11-22 15:36:49.260087</td>\n",
       "    </tr>\n",
       "    <tr>\n",
       "      <td>2204</td>\n",
       "      <td>python_sorted</td>\n",
       "      <td>reverse_sorted</td>\n",
       "      <td>10485760</td>\n",
       "      <td>2.301563</td>\n",
       "      <td>10</td>\n",
       "      <td>2019-11-22 15:36:49.260087</td>\n",
       "    </tr>\n",
       "  </tbody>\n",
       "</table>\n",
       "</div>"
      ],
      "text/plain": [
       "          Sort_Type Data_Type_or_List_type  List_length  Runtimes  \\\n",
       "2200  python_sorted         reverse_sorted     10485760  2.323417   \n",
       "2201  python_sorted         reverse_sorted     10485760  2.369249   \n",
       "2202  python_sorted         reverse_sorted     10485760  2.381871   \n",
       "2203  python_sorted         reverse_sorted     10485760  2.352574   \n",
       "2204  python_sorted         reverse_sorted     10485760  2.301563   \n",
       "\n",
       "      Number_of_repeatitions                    Datetime  \n",
       "2200                      10  2019-11-22 15:36:49.260087  \n",
       "2201                      10  2019-11-22 15:36:49.260087  \n",
       "2202                      10  2019-11-22 15:36:49.260087  \n",
       "2203                      10  2019-11-22 15:36:49.260087  \n",
       "2204                      10  2019-11-22 15:36:49.260087  "
      ]
     },
     "execution_count": 4,
     "metadata": {},
     "output_type": "execute_result"
    }
   ],
   "source": [
    "dataset.tail()"
   ]
  },
  {
   "cell_type": "code",
   "execution_count": 5,
   "metadata": {},
   "outputs": [
    {
     "name": "stdout",
     "output_type": "stream",
     "text": [
      "['random', 'reverse_sorted', 'sorted']\n",
      "['heap_sort', 'merge_sort', 'numpy_sort', 'python_sorted', 'quick_sort']\n"
     ]
    },
    {
     "data": {
      "text/html": [
       "<div>\n",
       "<style scoped>\n",
       "    .dataframe tbody tr th:only-of-type {\n",
       "        vertical-align: middle;\n",
       "    }\n",
       "\n",
       "    .dataframe tbody tr th {\n",
       "        vertical-align: top;\n",
       "    }\n",
       "\n",
       "    .dataframe thead th {\n",
       "        text-align: right;\n",
       "    }\n",
       "</style>\n",
       "<table border=\"1\" class=\"dataframe\">\n",
       "  <thead>\n",
       "    <tr style=\"text-align: right;\">\n",
       "      <th></th>\n",
       "      <th>Sort_Type</th>\n",
       "      <th>Data_Type_or_List_type</th>\n",
       "      <th>List_length</th>\n",
       "      <th>Single_runtime</th>\n",
       "    </tr>\n",
       "  </thead>\n",
       "  <tbody>\n",
       "    <tr>\n",
       "      <td>0</td>\n",
       "      <td>heap_sort</td>\n",
       "      <td>random</td>\n",
       "      <td>10</td>\n",
       "      <td>0.000018</td>\n",
       "    </tr>\n",
       "    <tr>\n",
       "      <td>1</td>\n",
       "      <td>heap_sort</td>\n",
       "      <td>random</td>\n",
       "      <td>20</td>\n",
       "      <td>0.000049</td>\n",
       "    </tr>\n",
       "    <tr>\n",
       "      <td>2</td>\n",
       "      <td>heap_sort</td>\n",
       "      <td>random</td>\n",
       "      <td>40</td>\n",
       "      <td>0.000128</td>\n",
       "    </tr>\n",
       "    <tr>\n",
       "      <td>3</td>\n",
       "      <td>heap_sort</td>\n",
       "      <td>random</td>\n",
       "      <td>80</td>\n",
       "      <td>0.000311</td>\n",
       "    </tr>\n",
       "    <tr>\n",
       "      <td>4</td>\n",
       "      <td>heap_sort</td>\n",
       "      <td>random</td>\n",
       "      <td>160</td>\n",
       "      <td>0.000733</td>\n",
       "    </tr>\n",
       "  </tbody>\n",
       "</table>\n",
       "</div>"
      ],
      "text/plain": [
       "   Sort_Type Data_Type_or_List_type  List_length  Single_runtime\n",
       "0  heap_sort                 random           10        0.000018\n",
       "1  heap_sort                 random           20        0.000049\n",
       "2  heap_sort                 random           40        0.000128\n",
       "3  heap_sort                 random           80        0.000311\n",
       "4  heap_sort                 random          160        0.000733"
      ]
     },
     "execution_count": 5,
     "metadata": {},
     "output_type": "execute_result"
    }
   ],
   "source": [
    "# Extract the keys and values and plot them\n",
    "\n",
    "min_query = \"\"\"SELECT Sort_Type, \n",
    "Data_Type_or_List_type,\n",
    "List_length, \n",
    "min( Runtimes)  as Single_runtime\n",
    "FROM dataset \n",
    "GROUP BY Sort_Type, \n",
    "Data_Type_or_List_type,\n",
    "List_length \"\"\"\n",
    "\n",
    "df_min = pd.DataFrame( ps.sqldf(min_query) )\n",
    "\n",
    "print (np.unique(df_min['Data_Type_or_List_type']).tolist())\n",
    "print (np.unique(df_min['Sort_Type']).tolist())\n",
    "df_min.head()"
   ]
  },
  {
   "cell_type": "code",
   "execution_count": 54,
   "metadata": {},
   "outputs": [],
   "source": [
    "# xticks_wanted = np.asarray( [10,20,40,80,160,320,640,1280,2560,5120\n",
    "#               ,10240,20480,40960,81920,163840,327680,655360,1310720\n",
    "#               ,2621440,5242880,10485760])\n",
    "# y = xticks_wanted[ (xticks_wanted >= 5200) & (xticks_wanted <= 10485760)]\n",
    "# y\n"
   ]
  },
  {
   "cell_type": "code",
   "execution_count": 61,
   "metadata": {},
   "outputs": [],
   "source": [
    "# Prove that the graph in NlogN\n",
    "# Changing the constants by Hit and Trial\n",
    "# The time in plotted in nanoseconds\n",
    "\n",
    "def plot_minimum_times(input_type='random', lower_limit=81920, upper_limit=10485760, c1=3, c2=1000):\n",
    "    filter01 =  (df_min['Data_Type_or_List_type']==input_type)\n",
    "    plot_data = df_min[filter01]\n",
    "\n",
    "    filter02 = (plot_data['List_length']<=upper_limit) &  (plot_data['List_length']>=lower_limit)\n",
    "    plot_data = plot_data[filter02]\n",
    "\n",
    "    fig = new_figure()\n",
    "    list_of_sorts= sorted( np.unique(plot_data['Sort_Type']).tolist() , reverse=True)\n",
    "#     list_of_sorts= ['numpy_sort', 'python_sorted']\n",
    "    for sort_type in list_of_sorts:\n",
    "        filter03 = (plot_data['Sort_Type']==sort_type)\n",
    "        plot_this = plot_data[filter03]         \n",
    "        plt.loglog (plot_this['List_length'], plot_this['Single_runtime'],'-o' ,alpha=0.8, label=sort_type, basex=2, basey=2)\n",
    "\n",
    "\n",
    "    n_log_n_small= (c1/ 1e9)*plot_this['List_length'] * np.log2( plot_this['List_length'] )\n",
    "    n_log_n_large= (c2/ 1e9)*plot_this['List_length'] * np.log2( plot_this['List_length'] )\n",
    "    plt.loglog (  plot_this['List_length'] , n_log_n_small ,'-x', label=\"c1= \"+str(c1) , basex=2, basey=2)\n",
    "    plt.loglog (  plot_this['List_length'] ,n_log_n_large ,'-x', label='c2= '+str(c2) , basex=2, basey=2)\n",
    "    plt.xlabel('Length of list')\n",
    "    plt.ylabel('Time in seconds')\n",
    "#     plt.title(\"Runtimes of sort Algorithms for -\"+input_type+\" data\")\n",
    "    plt.legend()\n",
    "    \n",
    "    plt.tight_layout()\n",
    "#     plt.savefig(\"plots\\loglog\\Numpy vs Python -sorted data 81920-10485760.pdf\" , bbox_inches='tight')\n",
    "    plt.savefig(\"plots\\loglog\\For -\"+input_type+\" from-\"+str(lower_limit)+\" to-\"+str(upper_limit)+\".pdf\" , bbox_inches='tight')    \n",
    "    plt.show()\n"
   ]
  },
  {
   "cell_type": "markdown",
   "metadata": {},
   "source": [
    "## Plots for all sort_types on a single plot, for a fixed permutation of data"
   ]
  },
  {
   "cell_type": "code",
   "execution_count": 62,
   "metadata": {},
   "outputs": [
    {
     "data": {
      "application/vnd.jupyter.widget-view+json": {
       "model_id": "55748d5d4c714722864c07c976ec2520",
       "version_major": 2,
       "version_minor": 0
      },
      "text/plain": [
       "interactive(children=(Dropdown(description='input_type', options=('random', 'reverse_sorted', 'sorted'), value…"
      ]
     },
     "metadata": {},
     "output_type": "display_data"
    }
   ],
   "source": [
    "from ipywidgets import interact #,interactive , fixed, interact_manual\n",
    "pickle_object= interact(plot_minimum_times, input_type=['random', 'reverse_sorted', 'sorted']\n",
    "         ,lower_limit=  np.unique(df_min['List_length']).tolist() \n",
    "         ,upper_limit=  np.unique(df_min['List_length']).tolist()\n",
    "        , c1=(1,5,0.1)\n",
    "        , c2=(800,1501,50)\n",
    "        )"
   ]
  },
  {
   "cell_type": "markdown",
   "metadata": {},
   "source": [
    "## Plots for all permutation of data; for a fixed sort type"
   ]
  },
  {
   "cell_type": "code",
   "execution_count": 63,
   "metadata": {
    "scrolled": true
   },
   "outputs": [
    {
     "name": "stdout",
     "output_type": "stream",
     "text": [
      "['heap_sort', 'merge_sort', 'numpy_sort', 'python_sorted', 'quick_sort']\n"
     ]
    }
   ],
   "source": [
    "print (np.unique(df_min['Sort_Type']).tolist())"
   ]
  },
  {
   "cell_type": "code",
   "execution_count": 64,
   "metadata": {},
   "outputs": [],
   "source": [
    "# Prove that the graph in NlogN\n",
    "# Changing the constants by Hit and Trial\n",
    "# The time in plotted in microseconds\n",
    "def plot_minimum_times_for_each_sort(sort_type='merge_sort', lower_limit=81920, upper_limit=10485760):\n",
    "    filter01 =  (df_min['Sort_Type']==sort_type)\n",
    "    plot_data = df_min[filter01]\n",
    "\n",
    "    filter02 = (plot_data['List_length']<=upper_limit) &  (plot_data['List_length']>=lower_limit)\n",
    "    plot_data = plot_data[filter02]\n",
    "\n",
    "    fig = new_figure()\n",
    "    permut_types= sorted( np.unique(plot_data['Data_Type_or_List_type']).tolist() , reverse=True)\n",
    "    for permut in permut_types:\n",
    "        filter03 = (plot_data['Data_Type_or_List_type']==permut)\n",
    "        plot_this = plot_data[filter03]         \n",
    "        plt.loglog (plot_this['List_length'], plot_this['Single_runtime'],'-o' , label=permut, basex=2, basey=2)\n",
    "\n",
    "    plt.xlabel('Length of list')\n",
    "    plt.ylabel('Time in seconds')\n",
    "#     plt.title(\"Runtimes of data -\"+sort_type+\" algorithm \")\n",
    "    plt.legend()\n",
    "    plt.tight_layout()\n",
    "    plt.savefig(\"plots\\loglog\\For -\"+sort_type+\" from-\"+str(lower_limit)+\" to-\"+str(upper_limit)+\".pdf\" , bbox_inches='tight')\n",
    "    plt.show()"
   ]
  },
  {
   "cell_type": "code",
   "execution_count": 65,
   "metadata": {},
   "outputs": [
    {
     "data": {
      "application/vnd.jupyter.widget-view+json": {
       "model_id": "dc8561d1e1f34205ba9e26ec5d604ca2",
       "version_major": 2,
       "version_minor": 0
      },
      "text/plain": [
       "interactive(children=(Dropdown(description='sort_type', index=1, options=('heap_sort', 'merge_sort', 'numpy_so…"
      ]
     },
     "metadata": {},
     "output_type": "display_data"
    }
   ],
   "source": [
    "pickle_object = interact(plot_minimum_times_for_each_sort, sort_type=['heap_sort', 'merge_sort', 'numpy_sort', 'python_sorted', 'quick_sort']\n",
    "         ,lower_limit=  np.unique(df_min['List_length']).tolist() \n",
    "         ,upper_limit=  np.unique(df_min['List_length']).tolist()\n",
    "        )"
   ]
  },
  {
   "cell_type": "code",
   "execution_count": 16,
   "metadata": {},
   "outputs": [
    {
     "data": {
      "text/html": [
       "<div>\n",
       "<style scoped>\n",
       "    .dataframe tbody tr th:only-of-type {\n",
       "        vertical-align: middle;\n",
       "    }\n",
       "\n",
       "    .dataframe tbody tr th {\n",
       "        vertical-align: top;\n",
       "    }\n",
       "\n",
       "    .dataframe thead th {\n",
       "        text-align: right;\n",
       "    }\n",
       "</style>\n",
       "<table border=\"1\" class=\"dataframe\">\n",
       "  <thead>\n",
       "    <tr style=\"text-align: right;\">\n",
       "      <th></th>\n",
       "      <th>Sort_Type</th>\n",
       "      <th>Data_Type_or_List_type</th>\n",
       "      <th>List_length</th>\n",
       "      <th>Single_runtime</th>\n",
       "    </tr>\n",
       "  </thead>\n",
       "  <tbody>\n",
       "    <tr>\n",
       "      <td>138</td>\n",
       "      <td>numpy_sort</td>\n",
       "      <td>random</td>\n",
       "      <td>40960</td>\n",
       "      <td>0.005008</td>\n",
       "    </tr>\n",
       "    <tr>\n",
       "      <td>139</td>\n",
       "      <td>numpy_sort</td>\n",
       "      <td>random</td>\n",
       "      <td>81920</td>\n",
       "      <td>0.010742</td>\n",
       "    </tr>\n",
       "    <tr>\n",
       "      <td>140</td>\n",
       "      <td>numpy_sort</td>\n",
       "      <td>random</td>\n",
       "      <td>163840</td>\n",
       "      <td>0.022419</td>\n",
       "    </tr>\n",
       "    <tr>\n",
       "      <td>141</td>\n",
       "      <td>numpy_sort</td>\n",
       "      <td>random</td>\n",
       "      <td>327680</td>\n",
       "      <td>0.048081</td>\n",
       "    </tr>\n",
       "    <tr>\n",
       "      <td>142</td>\n",
       "      <td>numpy_sort</td>\n",
       "      <td>random</td>\n",
       "      <td>655360</td>\n",
       "      <td>0.099308</td>\n",
       "    </tr>\n",
       "    <tr>\n",
       "      <td>143</td>\n",
       "      <td>numpy_sort</td>\n",
       "      <td>random</td>\n",
       "      <td>1310720</td>\n",
       "      <td>0.206241</td>\n",
       "    </tr>\n",
       "    <tr>\n",
       "      <td>144</td>\n",
       "      <td>numpy_sort</td>\n",
       "      <td>random</td>\n",
       "      <td>2621440</td>\n",
       "      <td>0.424289</td>\n",
       "    </tr>\n",
       "    <tr>\n",
       "      <td>145</td>\n",
       "      <td>numpy_sort</td>\n",
       "      <td>random</td>\n",
       "      <td>5242880</td>\n",
       "      <td>0.871039</td>\n",
       "    </tr>\n",
       "    <tr>\n",
       "      <td>146</td>\n",
       "      <td>numpy_sort</td>\n",
       "      <td>random</td>\n",
       "      <td>10485760</td>\n",
       "      <td>1.784178</td>\n",
       "    </tr>\n",
       "  </tbody>\n",
       "</table>\n",
       "</div>"
      ],
      "text/plain": [
       "      Sort_Type Data_Type_or_List_type  List_length  Single_runtime\n",
       "138  numpy_sort                 random        40960        0.005008\n",
       "139  numpy_sort                 random        81920        0.010742\n",
       "140  numpy_sort                 random       163840        0.022419\n",
       "141  numpy_sort                 random       327680        0.048081\n",
       "142  numpy_sort                 random       655360        0.099308\n",
       "143  numpy_sort                 random      1310720        0.206241\n",
       "144  numpy_sort                 random      2621440        0.424289\n",
       "145  numpy_sort                 random      5242880        0.871039\n",
       "146  numpy_sort                 random     10485760        1.784178"
      ]
     },
     "execution_count": 16,
     "metadata": {},
     "output_type": "execute_result"
    }
   ],
   "source": [
    "# Extract the keys and values and plot them\n",
    "\n",
    "min_query = \"\"\"SELECT Sort_Type, \n",
    "Data_Type_or_List_type,\n",
    "List_length, \n",
    "min( Runtimes)  as Single_runtime\n",
    "FROM dataset \n",
    "GROUP BY Sort_Type, \n",
    "Data_Type_or_List_type,\n",
    "List_length\n",
    "\"\"\"\n",
    "\n",
    "df_min = pd.DataFrame( ps.sqldf(min_query) )\n",
    "df_min[ ( df_min['Sort_Type']=='numpy_sort') & ( df_min['List_length']>=40000) & ( df_min['Data_Type_or_List_type']=='random' )  ]"
   ]
  },
  {
   "cell_type": "code",
   "execution_count": null,
   "metadata": {},
   "outputs": [],
   "source": []
  }
 ],
 "metadata": {
  "kernelspec": {
   "display_name": "Python 3",
   "language": "python",
   "name": "python3"
  },
  "language_info": {
   "codemirror_mode": {
    "name": "ipython",
    "version": 3
   },
   "file_extension": ".py",
   "mimetype": "text/x-python",
   "name": "python",
   "nbconvert_exporter": "python",
   "pygments_lexer": "ipython3",
   "version": "3.7.4"
  }
 },
 "nbformat": 4,
 "nbformat_minor": 2
}
