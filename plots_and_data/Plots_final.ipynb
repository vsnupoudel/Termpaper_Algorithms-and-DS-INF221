{
 "cells": [
  {
   "cell_type": "code",
   "execution_count": 2,
   "metadata": {},
   "outputs": [],
   "source": [
    "# Example code for creating a figure of suitable size\n",
    "# for inclusion in the term paper.\n",
    "\n",
    "import matplotlib.pyplot as plt\n",
    "import pandas as pd\n",
    "import numpy as np\n",
    "import pandasql as ps\n",
    "import matplotlib as mpl\n",
    "\n",
    "\n",
    "plt.rcParams['axes.titlesize'] = 15\n",
    "plt.rcParams['axes.labelsize'] = 12\n",
    "plt.rcParams['xtick.labelsize'] = 10\n",
    "plt.rcParams['ytick.labelsize'] = 10\n",
    "plt.rcParams['legend.fontsize'] = 10\n",
    "plt.rcParams['text.usetex'] = False\n",
    "# Color cycle for color blind Source: https://gist.github.com/thriveth/8560036\n",
    "CB_color_cycle = ['#377eb8', '#ff7f00', '#4daf4a',\n",
    "                  '#f781bf', '#a65628', '#984ea3',\n",
    "                  '#999999', '#e41a1c', '#dede00']   # https://gist.github.com/thriveth/8560036\n",
    "\n",
    "# Set the default color cycle\n",
    "mpl.rcParams['axes.prop_cycle'] = mpl.cycler(color=CB_color_cycle) "
   ]
  },
  {
   "cell_type": "code",
   "execution_count": 3,
   "metadata": {},
   "outputs": [],
   "source": [
    "# Function for a consistent length of figures of 84 mm, converting to inches\n",
    "def new_figure(height=55):\n",
    "    \"Return figure with width 84mm and given height in mm.\"\n",
    "\n",
    "    return plt.figure(figsize=(84/10.16, height/10.16))\n",
    "\n",
    "# x = range(10)\n",
    "# y = [v**2 - 1 for v in x]\n",
    "\n",
    "# fig = new_figure()\n",
    "# ax = fig.add_subplot(1, 1, 1)\n",
    "# ax.plot(x, y, 'o-', label='$y=x^2-1$')\n",
    "# ax.legend()\n",
    "# ax.set_xlabel('$x$')\n",
    "# ax.set_ylabel('$y$')\n",
    "# fig.savefig('sample_plot.pdf', bbox_inches='tight')\n",
    "# plt.show()"
   ]
  },
  {
   "cell_type": "markdown",
   "metadata": {},
   "source": [
    "### Reading all the different CSVs produced by each run of the time_it function "
   ]
  },
  {
   "cell_type": "code",
   "execution_count": 4,
   "metadata": {},
   "outputs": [],
   "source": [
    "# merge_sort_already_sorted= pd.read_csv(\"merge_sort_already_sorted.csv\")\n",
    "# merge_sort_random= pd.read_csv(\"merge_sort_random.csv\")\n",
    "# merge_sort_reverse_sorted= pd.read_csv(\"merge_sort_reverse_sorted.csv\")\n",
    "\n",
    "# quick_sort_random= pd.read_csv(\"quick_sort_random.csv\")\n",
    "# quick_sort_already_sorted_till_2560= pd.read_csv(\"quick_sort_sorted.csv\")\n",
    "# quick_sort_reverse_sorted_till_2560= pd.read_csv(\"quick_sort_reverse_sorted.csv\")\n",
    "\n",
    "# heap_sort_already_sorted= pd.read_csv(\"heap_sort_already_sorted.csv\")\n",
    "# heap_sort_random= pd.read_csv(\"heap_sort_random.csv\")\n",
    "# heap_sort_reverse_sorted= pd.read_csv(\"heap_sort_reverse_sorted.csv\")\n",
    "\n",
    "# numpy_sort_already_sorted= pd.read_csv(\"numpy_sort_already_sorted.csv\")\n",
    "# numpy_sort_random= pd.read_csv(\"numpy_sort_random.csv\")\n",
    "# numpy_sort_reverse_sorted= pd.read_csv(\"numpy_sort_reverse_sorted.csv\")\n",
    "\n",
    "# python_sorted_already_sorted= pd.read_csv(\"sorted_already_sorted.csv\")\n",
    "# python_sorted_random= pd.read_csv(\"sorted_random.csv\")\n",
    "# python_sorted_reverse_sorted= pd.read_csv(\"sorted_reverse_sorted.csv\")         \n"
   ]
  },
  {
   "cell_type": "code",
   "execution_count": 5,
   "metadata": {},
   "outputs": [
    {
     "name": "stdout",
     "output_type": "stream",
     "text": [
      "['random', 'reverse_sorted', 'sorted']\n",
      "(2037, 6)\n"
     ]
    }
   ],
   "source": [
    "# dataset=pd.concat([merge_sort_already_sorted, merge_sort_random, merge_sort_reverse_sorted, \n",
    "#                    quick_sort_random,quick_sort_already_sorted_till_2560,quick_sort_reverse_sorted_till_2560,\n",
    "#                    heap_sort_already_sorted, heap_sort_random, heap_sort_reverse_sorted,\n",
    "#                    numpy_sort_already_sorted, numpy_sort_random, numpy_sort_reverse_sorted,\n",
    "#                    python_sorted_already_sorted, python_sorted_random, python_sorted_reverse_sorted])\n",
    "\n",
    "\n",
    "# dataset.loc[ dataset['Data_Type_or_List_type']=='already_sorted', ['Data_Type_or_List_type'] ] ='sorted'\n",
    "# dataset.loc[ dataset['Data_Type_or_List_type']=='reverese_sorted', ['Data_Type_or_List_type'] ] ='reverse_sorted'\n",
    "# dataset.loc[ dataset['Data_Type_or_List_type']=='reverse', ['Data_Type_or_List_type'] ] ='reverse_sorted'\n",
    "# dataset.reset_index(drop=True)\n",
    "\n",
    "# dataset.to_csv(\"dataset_concat.csv\", index=False)\n",
    "\n",
    "dataset = pd.read_csv(\"dataset_concat.csv\")\n",
    "print (np.unique(dataset['Data_Type_or_List_type']).tolist())\n",
    "print(dataset.shape)"
   ]
  },
  {
   "cell_type": "code",
   "execution_count": 6,
   "metadata": {},
   "outputs": [
    {
     "data": {
      "text/html": [
       "<div>\n",
       "<style scoped>\n",
       "    .dataframe tbody tr th:only-of-type {\n",
       "        vertical-align: middle;\n",
       "    }\n",
       "\n",
       "    .dataframe tbody tr th {\n",
       "        vertical-align: top;\n",
       "    }\n",
       "\n",
       "    .dataframe thead th {\n",
       "        text-align: right;\n",
       "    }\n",
       "</style>\n",
       "<table border=\"1\" class=\"dataframe\">\n",
       "  <thead>\n",
       "    <tr style=\"text-align: right;\">\n",
       "      <th></th>\n",
       "      <th>Sort_Type</th>\n",
       "      <th>Data_Type_or_List_type</th>\n",
       "      <th>List_length</th>\n",
       "      <th>Runtimes</th>\n",
       "      <th>Number_of_repeatitions</th>\n",
       "      <th>Datetime</th>\n",
       "    </tr>\n",
       "  </thead>\n",
       "  <tbody>\n",
       "    <tr>\n",
       "      <td>0</td>\n",
       "      <td>merge_sort</td>\n",
       "      <td>sorted</td>\n",
       "      <td>10</td>\n",
       "      <td>0.267837</td>\n",
       "      <td>7</td>\n",
       "      <td>2019-11-01 21:51:45.110982</td>\n",
       "    </tr>\n",
       "    <tr>\n",
       "      <td>1</td>\n",
       "      <td>merge_sort</td>\n",
       "      <td>sorted</td>\n",
       "      <td>10</td>\n",
       "      <td>0.277732</td>\n",
       "      <td>7</td>\n",
       "      <td>2019-11-01 21:51:45.110982</td>\n",
       "    </tr>\n",
       "    <tr>\n",
       "      <td>2</td>\n",
       "      <td>merge_sort</td>\n",
       "      <td>sorted</td>\n",
       "      <td>10</td>\n",
       "      <td>0.274984</td>\n",
       "      <td>7</td>\n",
       "      <td>2019-11-01 21:51:45.110982</td>\n",
       "    </tr>\n",
       "    <tr>\n",
       "      <td>3</td>\n",
       "      <td>merge_sort</td>\n",
       "      <td>sorted</td>\n",
       "      <td>10</td>\n",
       "      <td>0.250366</td>\n",
       "      <td>7</td>\n",
       "      <td>2019-11-01 21:51:45.110982</td>\n",
       "    </tr>\n",
       "    <tr>\n",
       "      <td>4</td>\n",
       "      <td>merge_sort</td>\n",
       "      <td>sorted</td>\n",
       "      <td>10</td>\n",
       "      <td>0.233188</td>\n",
       "      <td>7</td>\n",
       "      <td>2019-11-01 21:51:45.110982</td>\n",
       "    </tr>\n",
       "  </tbody>\n",
       "</table>\n",
       "</div>"
      ],
      "text/plain": [
       "    Sort_Type Data_Type_or_List_type  List_length  Runtimes  \\\n",
       "0  merge_sort                 sorted           10  0.267837   \n",
       "1  merge_sort                 sorted           10  0.277732   \n",
       "2  merge_sort                 sorted           10  0.274984   \n",
       "3  merge_sort                 sorted           10  0.250366   \n",
       "4  merge_sort                 sorted           10  0.233188   \n",
       "\n",
       "   Number_of_repeatitions                    Datetime  \n",
       "0                       7  2019-11-01 21:51:45.110982  \n",
       "1                       7  2019-11-01 21:51:45.110982  \n",
       "2                       7  2019-11-01 21:51:45.110982  \n",
       "3                       7  2019-11-01 21:51:45.110982  \n",
       "4                       7  2019-11-01 21:51:45.110982  "
      ]
     },
     "execution_count": 6,
     "metadata": {},
     "output_type": "execute_result"
    }
   ],
   "source": [
    "dataset.head()"
   ]
  },
  {
   "cell_type": "code",
   "execution_count": 7,
   "metadata": {},
   "outputs": [
    {
     "name": "stdout",
     "output_type": "stream",
     "text": [
      "['random', 'reverse_sorted', 'sorted']\n"
     ]
    }
   ],
   "source": [
    "# Extract the keys and values and plot them\n",
    "\n",
    "min_query = \"\"\"SELECT Sort_Type, \n",
    "Data_Type_or_List_type,\n",
    "List_length, \n",
    "min( Runtimes/Number_of_repeatitions)  as Single_runtime\n",
    "FROM dataset \n",
    "GROUP BY Sort_Type, \n",
    "Data_Type_or_List_type,\n",
    "List_length \"\"\"\n",
    "\n",
    "df_min = pd.DataFrame( ps.sqldf(min_query) )\n",
    "df_min.head()\n",
    "df_min.shape\n",
    "\n",
    "## SQL update does not work\n",
    "# update_query = \"\"\" UPDATE df_min SET Data_Type_or_List_type='reverse_sorted' WHERE Data_Type_or_List_type='reverse'  \"\"\"\n",
    "# df_min = pd.DataFrame( ps.sqldf(update_query))\n",
    "\n",
    "df_min.loc[ df_min['Data_Type_or_List_type']=='already_sorted', ['Data_Type_or_List_type'] ] ='sorted'\n",
    "df_min.loc[ df_min['Data_Type_or_List_type']=='reverese_sorted', ['Data_Type_or_List_type'] ] ='reverse_sorted'\n",
    "df_min.loc[ df_min['Data_Type_or_List_type']=='reverse', ['Data_Type_or_List_type'] ] ='reverse_sorted'\n",
    "\n",
    "df_min.head()\n",
    "print (np.unique(df_min['Data_Type_or_List_type']).tolist())"
   ]
  },
  {
   "cell_type": "code",
   "execution_count": 34,
   "metadata": {},
   "outputs": [],
   "source": [
    "# Prove that the graph in NlogN\n",
    "# Changing the constants by Hit and Trial\n",
    "# The time in plotted in microseconds\n",
    "def plot_minimum_times(input_type='random', lower_limit=10, upper_limit=100000000, c1=0.00001, c2=0.5):\n",
    "    filter01 =  (df_min['Data_Type_or_List_type']==input_type)\n",
    "    plot_data = df_min[filter01]\n",
    "\n",
    "    filter02 = (plot_data['List_length']<=upper_limit) &  (plot_data['List_length']>=lower_limit)\n",
    "    plot_data = plot_data[filter02]\n",
    "\n",
    "    fig = new_figure()\n",
    "    list_of_sorts= sorted( np.unique(plot_data['Sort_Type']).tolist() , reverse=True)\n",
    "    for sort_type in list_of_sorts:\n",
    "        filter03 = (plot_data['Sort_Type']==sort_type)\n",
    "        plot_this = plot_data[filter03]         \n",
    "        plt.plot(plot_this['List_length'], plot_this['Single_runtime']*1000000,'-o' , label=sort_type)\n",
    "\n",
    "\n",
    "    n_log_n_small= c1*plot_this['List_length'] * np.log2( plot_this['List_length'] )\n",
    "    n_log_n_large= c2*plot_this['List_length'] * np.log2( plot_this['List_length'] )\n",
    "    plt.plot ( plot_this['List_length'], n_log_n_small,'-x', label='c1= 0.00001')\n",
    "    plt.plot ( plot_this['List_length'], n_log_n_large,'-x', label='c2= 0.5')\n",
    "    plt.xlabel('Size of the numeric array')\n",
    "    plt.ylabel('Time in microseconds')\n",
    "    plt.title(\"Runtimes of sort Algorithms for -\"+input_type+\" data\")\n",
    "    plt.legend()\n",
    "    plt.tight_layout()\n",
    "    plt.savefig(\"plots\\For -\"+input_type+\" from-\"+str(lower_limit)+\" to-\"+str(upper_limit)+\".png\" , bbox_inches='tight')\n",
    "    plt.show()"
   ]
  },
  {
   "cell_type": "markdown",
   "metadata": {},
   "source": [
    "## Plots follow for the random data set of various sizes.\n",
    "### We've plotted several plots for different sizes to make the visualization gradual and intuitive."
   ]
  },
  {
   "cell_type": "code",
   "execution_count": 17,
   "metadata": {},
   "outputs": [
    {
     "data": {
      "image/png": "[encoded data removed]",
      "text/plain": [
       "<Figure size 238.11x155.906 with 1 Axes>"
      ]
     },
     "metadata": {
      "needs_background": "light"
     },
     "output_type": "display_data"
    }
   ],
   "source": [
    "plot_minimum_times('random',100000)"
   ]
  },
  {
   "cell_type": "markdown",
   "metadata": {},
   "source": [
    "## Plots follow for the already-sorted data set of various sizes.\n",
    "### We've plotted several plots for different sizes to make the visualization gradual and intuitive."
   ]
  },
  {
   "cell_type": "code",
   "execution_count": 21,
   "metadata": {},
   "outputs": [
    {
     "data": {
      "image/png": "[encoded data removed]",
      "text/plain": [
       "<Figure size 238.11x155.906 with 1 Axes>"
      ]
     },
     "metadata": {
      "needs_background": "light"
     },
     "output_type": "display_data"
    }
   ],
   "source": [
    "plot_minimum_times('sorted',100000)"
   ]
  },
  {
   "cell_type": "markdown",
   "metadata": {},
   "source": [
    "## Plots follow for the reverse-sorted data set of various sizes.\n",
    "### We've plotted several plots for different sizes to make the visualization gradual and intuitive."
   ]
  },
  {
   "cell_type": "code",
   "execution_count": 25,
   "metadata": {},
   "outputs": [
    {
     "data": {
      "image/png": "[encoded data removed]",
      "text/plain": [
       "<Figure size 238.11x155.906 with 1 Axes>"
      ]
     },
     "metadata": {
      "needs_background": "light"
     },
     "output_type": "display_data"
    }
   ],
   "source": [
    "plot_minimum_times('reverse_sorted',100000)"
   ]
  },
  {
   "cell_type": "code",
   "execution_count": 8,
   "metadata": {},
   "outputs": [
    {
     "data": {
      "text/html": [
       "<div>\n",
       "<style scoped>\n",
       "    .dataframe tbody tr th:only-of-type {\n",
       "        vertical-align: middle;\n",
       "    }\n",
       "\n",
       "    .dataframe tbody tr th {\n",
       "        vertical-align: top;\n",
       "    }\n",
       "\n",
       "    .dataframe thead th {\n",
       "        text-align: right;\n",
       "    }\n",
       "</style>\n",
       "<table border=\"1\" class=\"dataframe\">\n",
       "  <thead>\n",
       "    <tr style=\"text-align: right;\">\n",
       "      <th></th>\n",
       "      <th>Sort_Type</th>\n",
       "      <th>Data_Type_or_List_type</th>\n",
       "      <th>List_length</th>\n",
       "      <th>Single_runtime</th>\n",
       "    </tr>\n",
       "  </thead>\n",
       "  <tbody>\n",
       "    <tr>\n",
       "      <td>286</td>\n",
       "      <td>quick_sort</td>\n",
       "      <td>sorted</td>\n",
       "      <td>160</td>\n",
       "      <td>0.038033</td>\n",
       "    </tr>\n",
       "    <tr>\n",
       "      <td>287</td>\n",
       "      <td>quick_sort</td>\n",
       "      <td>sorted</td>\n",
       "      <td>320</td>\n",
       "      <td>0.030138</td>\n",
       "    </tr>\n",
       "    <tr>\n",
       "      <td>288</td>\n",
       "      <td>quick_sort</td>\n",
       "      <td>sorted</td>\n",
       "      <td>640</td>\n",
       "      <td>0.060616</td>\n",
       "    </tr>\n",
       "    <tr>\n",
       "      <td>289</td>\n",
       "      <td>quick_sort</td>\n",
       "      <td>sorted</td>\n",
       "      <td>1280</td>\n",
       "      <td>0.056558</td>\n",
       "    </tr>\n",
       "    <tr>\n",
       "      <td>290</td>\n",
       "      <td>quick_sort</td>\n",
       "      <td>sorted</td>\n",
       "      <td>2560</td>\n",
       "      <td>0.287958</td>\n",
       "    </tr>\n",
       "  </tbody>\n",
       "</table>\n",
       "</div>"
      ],
      "text/plain": [
       "      Sort_Type Data_Type_or_List_type  List_length  Single_runtime\n",
       "286  quick_sort                 sorted          160        0.038033\n",
       "287  quick_sort                 sorted          320        0.030138\n",
       "288  quick_sort                 sorted          640        0.060616\n",
       "289  quick_sort                 sorted         1280        0.056558\n",
       "290  quick_sort                 sorted         2560        0.287958"
      ]
     },
     "execution_count": 8,
     "metadata": {},
     "output_type": "execute_result"
    }
   ],
   "source": [
    "df_min.tail()"
   ]
  },
  {
   "cell_type": "code",
   "execution_count": 13,
   "metadata": {},
   "outputs": [
    {
     "name": "stdout",
     "output_type": "stream",
     "text": [
      "(291, 4)\n"
     ]
    },
    {
     "data": {
      "text/html": [
       "<div>\n",
       "<style scoped>\n",
       "    .dataframe tbody tr th:only-of-type {\n",
       "        vertical-align: middle;\n",
       "    }\n",
       "\n",
       "    .dataframe tbody tr th {\n",
       "        vertical-align: top;\n",
       "    }\n",
       "\n",
       "    .dataframe thead th {\n",
       "        text-align: right;\n",
       "    }\n",
       "</style>\n",
       "<table border=\"1\" class=\"dataframe\">\n",
       "  <thead>\n",
       "    <tr style=\"text-align: right;\">\n",
       "      <th></th>\n",
       "      <th>Sort_Type</th>\n",
       "      <th>List_type</th>\n",
       "      <th>List_length</th>\n",
       "      <th>Single_runtime</th>\n",
       "    </tr>\n",
       "  </thead>\n",
       "  <tbody>\n",
       "    <tr>\n",
       "      <td>0</td>\n",
       "      <td>numpy_sort</td>\n",
       "      <td>random</td>\n",
       "      <td>10485760</td>\n",
       "      <td>0.632434</td>\n",
       "    </tr>\n",
       "    <tr>\n",
       "      <td>1</td>\n",
       "      <td>python_sorted</td>\n",
       "      <td>random</td>\n",
       "      <td>10485760</td>\n",
       "      <td>4.222582</td>\n",
       "    </tr>\n",
       "    <tr>\n",
       "      <td>2</td>\n",
       "      <td>quick_sort</td>\n",
       "      <td>random</td>\n",
       "      <td>10485760</td>\n",
       "      <td>32.919218</td>\n",
       "    </tr>\n",
       "    <tr>\n",
       "      <td>3</td>\n",
       "      <td>merge_sort</td>\n",
       "      <td>random</td>\n",
       "      <td>10485760</td>\n",
       "      <td>38.122927</td>\n",
       "    </tr>\n",
       "    <tr>\n",
       "      <td>4</td>\n",
       "      <td>heap_sort</td>\n",
       "      <td>random</td>\n",
       "      <td>10485760</td>\n",
       "      <td>96.435979</td>\n",
       "    </tr>\n",
       "  </tbody>\n",
       "</table>\n",
       "</div>"
      ],
      "text/plain": [
       "       Sort_Type List_type  List_length  Single_runtime\n",
       "0     numpy_sort    random     10485760        0.632434\n",
       "1  python_sorted    random     10485760        4.222582\n",
       "2     quick_sort    random     10485760       32.919218\n",
       "3     merge_sort    random     10485760       38.122927\n",
       "4      heap_sort    random     10485760       96.435979"
      ]
     },
     "execution_count": 13,
     "metadata": {},
     "output_type": "execute_result"
    }
   ],
   "source": [
    "query = \"\"\"SELECT Sort_Type, \n",
    "Data_Type_or_List_type as List_type,\n",
    "List_length, \n",
    "Single_runtime\n",
    "FROM df_min \n",
    "WHERE List_length= 10485760 \n",
    "and Data_Type_or_List_type='random' \n",
    "ORDER BY Single_runtime\"\"\"\n",
    "\n",
    "table = pd.DataFrame( ps.sqldf(query) )\n",
    "print(df_min.shape)\n",
    "table\n"
   ]
  },
  {
   "cell_type": "code",
   "execution_count": 15,
   "metadata": {},
   "outputs": [
    {
     "data": {
      "text/plain": [
       "244548140.74024612"
      ]
     },
     "execution_count": 15,
     "metadata": {},
     "output_type": "execute_result"
    }
   ],
   "source": [
    "10485760 * np.log2(10485760)"
   ]
  },
  {
   "cell_type": "code",
   "execution_count": 16,
   "metadata": {},
   "outputs": [
    {
     "data": {
      "text/plain": [
       "122274070.37012306"
      ]
     },
     "execution_count": 16,
     "metadata": {},
     "output_type": "execute_result"
    }
   ],
   "source": [
    "10485760 * np.log2(10485760)*0.5"
   ]
  },
  {
   "cell_type": "code",
   "execution_count": 17,
   "metadata": {},
   "outputs": [
    {
     "data": {
      "text/plain": [
       "2445.481407402461"
      ]
     },
     "execution_count": 17,
     "metadata": {},
     "output_type": "execute_result"
    }
   ],
   "source": [
    "10485760 * np.log2(10485760)*0.00001"
   ]
  },
  {
   "cell_type": "code",
   "execution_count": 9,
   "metadata": {},
   "outputs": [
    {
     "name": "stdout",
     "output_type": "stream",
     "text": [
      "(291, 4)\n"
     ]
    },
    {
     "data": {
      "text/html": [
       "<div>\n",
       "<style scoped>\n",
       "    .dataframe tbody tr th:only-of-type {\n",
       "        vertical-align: middle;\n",
       "    }\n",
       "\n",
       "    .dataframe tbody tr th {\n",
       "        vertical-align: top;\n",
       "    }\n",
       "\n",
       "    .dataframe thead th {\n",
       "        text-align: right;\n",
       "    }\n",
       "</style>\n",
       "<table border=\"1\" class=\"dataframe\">\n",
       "  <thead>\n",
       "    <tr style=\"text-align: right;\">\n",
       "      <th></th>\n",
       "      <th>Sort_Type</th>\n",
       "      <th>List_type</th>\n",
       "      <th>List_length</th>\n",
       "      <th>Single_runtime</th>\n",
       "    </tr>\n",
       "  </thead>\n",
       "  <tbody>\n",
       "    <tr>\n",
       "      <td>0</td>\n",
       "      <td>heap_sort</td>\n",
       "      <td>random</td>\n",
       "      <td>40960</td>\n",
       "      <td>0.183480</td>\n",
       "    </tr>\n",
       "    <tr>\n",
       "      <td>1</td>\n",
       "      <td>heap_sort</td>\n",
       "      <td>random</td>\n",
       "      <td>81920</td>\n",
       "      <td>0.525849</td>\n",
       "    </tr>\n",
       "    <tr>\n",
       "      <td>2</td>\n",
       "      <td>heap_sort</td>\n",
       "      <td>random</td>\n",
       "      <td>163840</td>\n",
       "      <td>1.154753</td>\n",
       "    </tr>\n",
       "    <tr>\n",
       "      <td>3</td>\n",
       "      <td>heap_sort</td>\n",
       "      <td>random</td>\n",
       "      <td>327680</td>\n",
       "      <td>2.116844</td>\n",
       "    </tr>\n",
       "    <tr>\n",
       "      <td>4</td>\n",
       "      <td>heap_sort</td>\n",
       "      <td>random</td>\n",
       "      <td>655360</td>\n",
       "      <td>4.535283</td>\n",
       "    </tr>\n",
       "    <tr>\n",
       "      <td>5</td>\n",
       "      <td>heap_sort</td>\n",
       "      <td>random</td>\n",
       "      <td>1310720</td>\n",
       "      <td>11.578997</td>\n",
       "    </tr>\n",
       "    <tr>\n",
       "      <td>6</td>\n",
       "      <td>heap_sort</td>\n",
       "      <td>random</td>\n",
       "      <td>2621440</td>\n",
       "      <td>20.032117</td>\n",
       "    </tr>\n",
       "    <tr>\n",
       "      <td>7</td>\n",
       "      <td>heap_sort</td>\n",
       "      <td>random</td>\n",
       "      <td>5242880</td>\n",
       "      <td>57.685499</td>\n",
       "    </tr>\n",
       "    <tr>\n",
       "      <td>8</td>\n",
       "      <td>heap_sort</td>\n",
       "      <td>random</td>\n",
       "      <td>10485760</td>\n",
       "      <td>96.435979</td>\n",
       "    </tr>\n",
       "  </tbody>\n",
       "</table>\n",
       "</div>"
      ],
      "text/plain": [
       "   Sort_Type List_type  List_length  Single_runtime\n",
       "0  heap_sort    random        40960        0.183480\n",
       "1  heap_sort    random        81920        0.525849\n",
       "2  heap_sort    random       163840        1.154753\n",
       "3  heap_sort    random       327680        2.116844\n",
       "4  heap_sort    random       655360        4.535283\n",
       "5  heap_sort    random      1310720       11.578997\n",
       "6  heap_sort    random      2621440       20.032117\n",
       "7  heap_sort    random      5242880       57.685499\n",
       "8  heap_sort    random     10485760       96.435979"
      ]
     },
     "execution_count": 9,
     "metadata": {},
     "output_type": "execute_result"
    }
   ],
   "source": [
    "query = \"\"\"SELECT Sort_Type, Data_Type_or_List_type as List_type,List_length, Single_runtime \n",
    "FROM df_min WHERE Sort_Type='heap_sort' \n",
    "and List_type ='random' and List_length> 40000 ORDER BY Single_runtime\"\"\"\n",
    "\n",
    "table = pd.DataFrame( ps.sqldf(query) )\n",
    "print(df_min.shape)\n",
    "table"
   ]
  },
  {
   "cell_type": "code",
   "execution_count": 15,
   "metadata": {},
   "outputs": [
    {
     "name": "stdout",
     "output_type": "stream",
     "text": [
      "(291, 4)\n"
     ]
    },
    {
     "data": {
      "text/html": [
       "<div>\n",
       "<style scoped>\n",
       "    .dataframe tbody tr th:only-of-type {\n",
       "        vertical-align: middle;\n",
       "    }\n",
       "\n",
       "    .dataframe tbody tr th {\n",
       "        vertical-align: top;\n",
       "    }\n",
       "\n",
       "    .dataframe thead th {\n",
       "        text-align: right;\n",
       "    }\n",
       "</style>\n",
       "<table border=\"1\" class=\"dataframe\">\n",
       "  <thead>\n",
       "    <tr style=\"text-align: right;\">\n",
       "      <th></th>\n",
       "      <th>Sort_Type</th>\n",
       "      <th>List_type</th>\n",
       "      <th>List_length</th>\n",
       "      <th>Single_runtime</th>\n",
       "    </tr>\n",
       "  </thead>\n",
       "  <tbody>\n",
       "    <tr>\n",
       "      <td>0</td>\n",
       "      <td>numpy_sort</td>\n",
       "      <td>random</td>\n",
       "      <td>40960</td>\n",
       "      <td>0.037461</td>\n",
       "    </tr>\n",
       "    <tr>\n",
       "      <td>1</td>\n",
       "      <td>numpy_sort</td>\n",
       "      <td>random</td>\n",
       "      <td>81920</td>\n",
       "      <td>0.043112</td>\n",
       "    </tr>\n",
       "    <tr>\n",
       "      <td>2</td>\n",
       "      <td>numpy_sort</td>\n",
       "      <td>random</td>\n",
       "      <td>163840</td>\n",
       "      <td>0.029619</td>\n",
       "    </tr>\n",
       "    <tr>\n",
       "      <td>3</td>\n",
       "      <td>numpy_sort</td>\n",
       "      <td>random</td>\n",
       "      <td>327680</td>\n",
       "      <td>0.026161</td>\n",
       "    </tr>\n",
       "    <tr>\n",
       "      <td>4</td>\n",
       "      <td>numpy_sort</td>\n",
       "      <td>random</td>\n",
       "      <td>655360</td>\n",
       "      <td>0.033746</td>\n",
       "    </tr>\n",
       "    <tr>\n",
       "      <td>5</td>\n",
       "      <td>numpy_sort</td>\n",
       "      <td>random</td>\n",
       "      <td>1310720</td>\n",
       "      <td>0.068165</td>\n",
       "    </tr>\n",
       "    <tr>\n",
       "      <td>6</td>\n",
       "      <td>numpy_sort</td>\n",
       "      <td>random</td>\n",
       "      <td>2621440</td>\n",
       "      <td>0.154086</td>\n",
       "    </tr>\n",
       "    <tr>\n",
       "      <td>7</td>\n",
       "      <td>numpy_sort</td>\n",
       "      <td>random</td>\n",
       "      <td>5242880</td>\n",
       "      <td>0.609677</td>\n",
       "    </tr>\n",
       "    <tr>\n",
       "      <td>8</td>\n",
       "      <td>numpy_sort</td>\n",
       "      <td>random</td>\n",
       "      <td>10485760</td>\n",
       "      <td>0.632434</td>\n",
       "    </tr>\n",
       "  </tbody>\n",
       "</table>\n",
       "</div>"
      ],
      "text/plain": [
       "    Sort_Type List_type  List_length  Single_runtime\n",
       "0  numpy_sort    random        40960        0.037461\n",
       "1  numpy_sort    random        81920        0.043112\n",
       "2  numpy_sort    random       163840        0.029619\n",
       "3  numpy_sort    random       327680        0.026161\n",
       "4  numpy_sort    random       655360        0.033746\n",
       "5  numpy_sort    random      1310720        0.068165\n",
       "6  numpy_sort    random      2621440        0.154086\n",
       "7  numpy_sort    random      5242880        0.609677\n",
       "8  numpy_sort    random     10485760        0.632434"
      ]
     },
     "execution_count": 15,
     "metadata": {},
     "output_type": "execute_result"
    }
   ],
   "source": [
    "query = \"\"\"SELECT Sort_Type, Data_Type_or_List_type as List_type,List_length, Single_runtime \n",
    "FROM df_min WHERE Sort_Type='numpy_sort' \n",
    "and List_type ='random' and List_length> 40000 ORDER BY List_length\"\"\"\n",
    "\n",
    "table = pd.DataFrame( ps.sqldf(query) )\n",
    "print(df_min.shape)\n",
    "table"
   ]
  },
  {
   "cell_type": "code",
   "execution_count": null,
   "metadata": {},
   "outputs": [],
   "source": []
  }
 ],
 "metadata": {
  "kernelspec": {
   "display_name": "Python 3",
   "language": "python",
   "name": "python3"
  },
  "language_info": {
   "codemirror_mode": {
    "name": "ipython",
    "version": 3
   },
   "file_extension": ".py",
   "mimetype": "text/x-python",
   "name": "python",
   "nbconvert_exporter": "python",
   "pygments_lexer": "ipython3",
   "version": "3.7.4"
  }
 },
 "nbformat": 4,
 "nbformat_minor": 2
}
