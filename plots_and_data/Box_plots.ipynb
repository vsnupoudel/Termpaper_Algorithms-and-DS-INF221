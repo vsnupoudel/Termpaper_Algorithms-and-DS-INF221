{
 "cells": [
  {
   "cell_type": "code",
   "execution_count": 18,
   "metadata": {},
   "outputs": [
    {
     "data": {
      "text/plain": [
       "'C:\\\\Users\\\\admin\\\\Desktop\\\\INF221\\\\termpaper01\\\\plots_and_data'"
      ]
     },
     "execution_count": 18,
     "metadata": {},
     "output_type": "execute_result"
    }
   ],
   "source": [
    "pwd"
   ]
  },
  {
   "cell_type": "code",
   "execution_count": 49,
   "metadata": {},
   "outputs": [],
   "source": [
    "import pandas as pd\n",
    "import numpy as np\n",
    "import matplotlib.pyplot as plt\n",
    "import pandasql as ps\n",
    "import matplotlib as mpl\n",
    "\n",
    "dataset = pd.read_csv(\"dataset_concat.csv\")"
   ]
  },
  {
   "cell_type": "code",
   "execution_count": 56,
   "metadata": {},
   "outputs": [],
   "source": [
    "# Example code for creating a figure of suitable size\n",
    "# for inclusion in the term paper.\n",
    "\n",
    "import matplotlib.pyplot as plt\n",
    "import pandas as pd\n",
    "import numpy as np\n",
    "import pandasql as ps\n",
    "import matplotlib as mpl\n",
    "\n",
    "\n",
    "plt.rcParams['axes.titlesize'] = 15\n",
    "plt.rcParams['axes.labelsize'] = 14\n",
    "plt.rcParams['xtick.labelsize'] = 12\n",
    "plt.rcParams['ytick.labelsize'] = 12\n",
    "plt.rcParams['legend.fontsize'] = 12\n",
    "plt.rcParams['text.usetex'] = False\n",
    "# Color cycle for color blind Source: https://gist.github.com/thriveth/8560036\n",
    "CB_color_cycle = ['#377eb8', '#ff7f00', '#4daf4a',\n",
    "                  '#f781bf', '#a65628', '#984ea3',\n",
    "                  '#999999', '#e41a1c', '#dede00']  \n",
    "\n",
    "# Set the default color cycle\n",
    "mpl.rcParams['axes.prop_cycle'] = mpl.cycler(color=CB_color_cycle) \n",
    "\n",
    "# Function for a consistent length of figures of 84 mm, converting to inches\n",
    "def new_figure(height=55):\n",
    "    \"Return figure with width 84mm and given height in mm.\"\n",
    "    return plt.figure(figsize=(84/10.16, height/5.08))"
   ]
  },
  {
   "cell_type": "code",
   "execution_count": 57,
   "metadata": {},
   "outputs": [],
   "source": [
    "# def scatter_plot_times(size):\n",
    "size = int(10485760)\n",
    "filter = (dataset['List_length']==size)\n",
    "df_size = pd.DataFrame( dataset[filter] )\n",
    "# df_size.reset_index( drop = True, inplace=True)\n",
    "\n",
    "# df_size[df_size['Sort_Type'] == 'numpy_sort' ]\n"
   ]
  },
  {
   "cell_type": "code",
   "execution_count": 58,
   "metadata": {},
   "outputs": [
    {
     "name": "stdout",
     "output_type": "stream",
     "text": [
      "['random', 'reverse_sorted', 'sorted']\n",
      "['heap_sort', 'merge_sort', 'numpy_sort', 'python_sorted', 'quick_sort']\n"
     ]
    },
    {
     "data": {
      "image/png": "[encoded data removed]",
      "text/plain": [
       "<Figure size 595.276x779.528 with 1 Axes>"
      ]
     },
     "metadata": {
      "needs_background": "light"
     },
     "output_type": "display_data"
    }
   ],
   "source": [
    "print(   sorted( np.unique(df_size['Data_Type_or_List_type']).tolist() )  )\n",
    "print(   np.unique(df_size['Sort_Type']).tolist()   )\n",
    "\n",
    "# filter01 = (df_size['Data_Type_or_List_type']=='random')\n",
    "# df_data_type = df_size[filter01]  \n",
    "\n",
    "# filter02 = (df_data_type['Sort_Type']==sort)\n",
    "nump = df_size[(df_size['Sort_Type']=='numpy_sort')] ['Runtimes'] \n",
    "pyth = df_size[(df_size['Sort_Type']=='python_sorted')] ['Runtimes']  \n",
    "quick = df_size[(df_size['Sort_Type']=='quick_sort')] ['Runtimes']  \n",
    "merg = df_size[(df_size['Sort_Type']=='merge_sort')] ['Runtimes']  \n",
    "heap = df_size[(df_size['Sort_Type']=='heap_sort')] ['Runtimes'] \n",
    "# print(nump)\n",
    "data=[nump,pyth,quick,merg,heap]\n",
    "\n",
    "labels = ( 'numpy_sort', 'python_sorted','quick_sort','merge_sort', 'heap_sort')\n",
    "fig = new_figure()\n",
    "ax = plt.gca()\n",
    "# ax.set_yscale('log', basey=2)\n",
    "plt.boxplot( data )\n",
    "plt.xticks(np.arange(len(labels))+1,labels)\n",
    "plt.ylabel('Time in seconds')\n",
    "# plt.title(\"Distribution for sorting 10 million random numbers\")\n",
    "plt.xticks(np.arange(len(labels))+1,labels)\n",
    "plt.savefig(\"plots\\loglog\\Boxplots for numpy and python.pdf\" , bbox_inches='tight')\n",
    "plt.show()"
   ]
  },
  {
   "cell_type": "code",
   "execution_count": 32,
   "metadata": {},
   "outputs": [],
   "source": [
    "# fig = new_figure()\n",
    "# data=[quick,merg,heap]\n",
    "# labels = (  'quick_sort','merge_sort', 'heap_sort'  )\n",
    "\n",
    "# plt.boxplot( data )\n",
    "# plt.xticks(np.arange(len(labels))+1,labels)\n",
    "# plt.ylabel('Time in seconds')\n",
    "# plt.title(\"Distribution for sorting 10 million random numbers\")\n",
    "# plt.xticks(np.arange(len(labels))+1,labels)\n",
    "# plt.savefig(\"normalised\\Boxplots for standalone sorts.pdf\" , bbox_inches='tight')\n",
    "# plt.show()"
   ]
  },
  {
   "cell_type": "code",
   "execution_count": null,
   "metadata": {},
   "outputs": [],
   "source": []
  }
 ],
 "metadata": {
  "kernelspec": {
   "display_name": "Python 3",
   "language": "python",
   "name": "python3"
  },
  "language_info": {
   "codemirror_mode": {
    "name": "ipython",
    "version": 3
   },
   "file_extension": ".py",
   "mimetype": "text/x-python",
   "name": "python",
   "nbconvert_exporter": "python",
   "pygments_lexer": "ipython3",
   "version": "3.7.4"
  }
 },
 "nbformat": 4,
 "nbformat_minor": 2
}
