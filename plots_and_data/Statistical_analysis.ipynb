{
 "cells": [
  {
   "cell_type": "code",
   "execution_count": 181,
   "metadata": {},
   "outputs": [],
   "source": [
    "dataset = pd.read_csv(\"dataset_concat.csv\")"
   ]
  },
  {
   "cell_type": "code",
   "execution_count": 110,
   "metadata": {},
   "outputs": [],
   "source": [
    "dataset = dataset[(dataset['Sort_Type']=='quick_sort') ]"
   ]
  },
  {
   "cell_type": "code",
   "execution_count": 111,
   "metadata": {},
   "outputs": [],
   "source": [
    "dataset = dataset[(dataset['List_length']>10000)]"
   ]
  },
  {
   "cell_type": "code",
   "execution_count": 112,
   "metadata": {
    "scrolled": true
   },
   "outputs": [],
   "source": [
    "df_min = dataset\n",
    "df_min['Runtimes'] =  df_min['Runtimes'] /7"
   ]
  },
  {
   "cell_type": "code",
   "execution_count": 113,
   "metadata": {},
   "outputs": [
    {
     "data": {
      "text/html": [
       "<div>\n",
       "<style scoped>\n",
       "    .dataframe tbody tr th:only-of-type {\n",
       "        vertical-align: middle;\n",
       "    }\n",
       "\n",
       "    .dataframe tbody tr th {\n",
       "        vertical-align: top;\n",
       "    }\n",
       "\n",
       "    .dataframe thead th {\n",
       "        text-align: right;\n",
       "    }\n",
       "</style>\n",
       "<table border=\"1\" class=\"dataframe\">\n",
       "  <thead>\n",
       "    <tr style=\"text-align: right;\">\n",
       "      <th></th>\n",
       "      <th>Sort_Type</th>\n",
       "      <th>Data_Type_or_List_type</th>\n",
       "      <th>List_length</th>\n",
       "      <th>Runtimes</th>\n",
       "      <th>Number_of_repeatitions</th>\n",
       "      <th>Datetime</th>\n",
       "    </tr>\n",
       "  </thead>\n",
       "  <tbody>\n",
       "    <tr>\n",
       "      <td>511</td>\n",
       "      <td>quick_sort</td>\n",
       "      <td>random</td>\n",
       "      <td>10240</td>\n",
       "      <td>0.020939</td>\n",
       "      <td>7</td>\n",
       "      <td>2019-10-31 17:20:05.174097</td>\n",
       "    </tr>\n",
       "    <tr>\n",
       "      <td>512</td>\n",
       "      <td>quick_sort</td>\n",
       "      <td>random</td>\n",
       "      <td>10240</td>\n",
       "      <td>0.017950</td>\n",
       "      <td>7</td>\n",
       "      <td>2019-10-31 17:20:05.174097</td>\n",
       "    </tr>\n",
       "    <tr>\n",
       "      <td>513</td>\n",
       "      <td>quick_sort</td>\n",
       "      <td>random</td>\n",
       "      <td>10240</td>\n",
       "      <td>0.019143</td>\n",
       "      <td>7</td>\n",
       "      <td>2019-10-31 17:20:05.174097</td>\n",
       "    </tr>\n",
       "    <tr>\n",
       "      <td>514</td>\n",
       "      <td>quick_sort</td>\n",
       "      <td>random</td>\n",
       "      <td>10240</td>\n",
       "      <td>0.021106</td>\n",
       "      <td>7</td>\n",
       "      <td>2019-10-31 17:20:05.174097</td>\n",
       "    </tr>\n",
       "    <tr>\n",
       "      <td>515</td>\n",
       "      <td>quick_sort</td>\n",
       "      <td>random</td>\n",
       "      <td>10240</td>\n",
       "      <td>0.018063</td>\n",
       "      <td>7</td>\n",
       "      <td>2019-10-31 17:20:05.174097</td>\n",
       "    </tr>\n",
       "  </tbody>\n",
       "</table>\n",
       "</div>"
      ],
      "text/plain": [
       "      Sort_Type Data_Type_or_List_type  List_length  Runtimes  \\\n",
       "511  quick_sort                 random        10240  0.020939   \n",
       "512  quick_sort                 random        10240  0.017950   \n",
       "513  quick_sort                 random        10240  0.019143   \n",
       "514  quick_sort                 random        10240  0.021106   \n",
       "515  quick_sort                 random        10240  0.018063   \n",
       "\n",
       "     Number_of_repeatitions                    Datetime  \n",
       "511                       7  2019-10-31 17:20:05.174097  \n",
       "512                       7  2019-10-31 17:20:05.174097  \n",
       "513                       7  2019-10-31 17:20:05.174097  \n",
       "514                       7  2019-10-31 17:20:05.174097  \n",
       "515                       7  2019-10-31 17:20:05.174097  "
      ]
     },
     "execution_count": 113,
     "metadata": {},
     "output_type": "execute_result"
    }
   ],
   "source": [
    "df_min.head()"
   ]
  },
  {
   "cell_type": "code",
   "execution_count": 118,
   "metadata": {},
   "outputs": [],
   "source": [
    "plot_data = pd.DataFrame( df_min.groupby(['List_length']).mean() )\n",
    "plot_data['List_length'] = plot_data.index\n",
    "plot_data['Runtimes'] = plot_data['Runtimes']*1000000000"
   ]
  },
  {
   "cell_type": "code",
   "execution_count": 203,
   "metadata": {},
   "outputs": [],
   "source": [
    "import matplotlib.pyplot as plt\n",
    "import pandas as pd\n",
    "import numpy as np\n",
    "import pandasql as ps\n",
    "import matplotlib as mpl\n",
    "\n",
    "plt.rcParams['axes.titlesize'] = 15\n",
    "plt.rcParams['axes.labelsize'] = 12\n",
    "plt.rcParams['xtick.labelsize'] = 10\n",
    "plt.rcParams['ytick.labelsize'] = 10\n",
    "plt.rcParams['legend.fontsize'] = 12\n",
    "plt.rcParams['text.usetex'] = False\n",
    "def new_figure(height=55):\n",
    "    \"Return figure with width 84mm and given height in mm.\"\n",
    "    return plt.figure(figsize=(84/10.16, height/10.16))"
   ]
  },
  {
   "cell_type": "code",
   "execution_count": 204,
   "metadata": {},
   "outputs": [
    {
     "data": {
      "text/plain": [
       "[19780398.835288756,\n",
       " 42530397.67057751,\n",
       " 90999995.34115502,\n",
       " 193878390.68231004,\n",
       " 411513581.3646201,\n",
       " 870540762.7292402,\n",
       " 1836108725.4584804,\n",
       " 3862271850.9169607,\n",
       " 8104652501.833921,\n",
       " 16969522603.667843,\n",
       " 35459480407.335686]"
      ]
     },
     "execution_count": 204,
     "metadata": {},
     "output_type": "execute_result"
    }
   ],
   "source": [
    "def time(xdata, c1 ):\n",
    "    return  c1*xdata *np.log2( xdata )\n",
    "\n",
    "# Guess the constant of 145\n",
    "def guess(c):\n",
    "    return [ \n",
    "        time(i,c) for i in  plot_this['List_length']\n",
    "    ]\n",
    "\n",
    "guess(145)"
   ]
  },
  {
   "cell_type": "code",
   "execution_count": 207,
   "metadata": {},
   "outputs": [
    {
     "data": {
      "image/png": "[encoded data removed]",
      "text/plain": [
       "<Figure size 595.276x389.764 with 1 Axes>"
      ]
     },
     "metadata": {
      "needs_background": "light"
     },
     "output_type": "display_data"
    }
   ],
   "source": [
    "def time(xdata, c1 ):\n",
    "    return  c1*xdata *np.log2( xdata )\n",
    "\n",
    "# Guess the constant of 145\n",
    "def guess(c):\n",
    "    return [ \n",
    "        time(i,c) for i in  plot_this['List_length']\n",
    "    ]\n",
    "c_guess = 145 \n",
    "\n",
    "fig=new_figure()\n",
    "plt.plot(plot_this['List_length'], plot_this['Runtimes'], '+' )\n",
    "plt.plot(plot_this['List_length'], guess(c_guess), label='Guess- c=145' )\n",
    "\n",
    "from scipy.optimize import curve_fit\n",
    "\n",
    "t = plot_this['Runtimes']\n",
    "s = plot_this['List_length']\n",
    "g = np.asarray( guess(c_guess) )\n",
    "c, cov = curve_fit(time, xdata= s, ydata=t, p0= 145 )\n",
    "c =  float(\"{0:.2f}\".format(float(c)))\n",
    "\n",
    "plt.plot(plot_this['List_length'], guess(c), label='Curve fit-c='+str(c) )\n",
    "\n",
    "plt.xlabel('Size of the list from 10240-10485760')\n",
    "plt.ylabel('Time in Nanoseconds')\n",
    "plt.title(\"Curve fitting for mean run-time of quick-sort\")\n",
    "plt.legend()\n",
    "plt.tight_layout()\n",
    "plt.savefig(\"Curve fitting for mean run-time of quick-sort.pdf\" , bbox_inches='tight')\n",
    "plt.show()"
   ]
  },
  {
   "cell_type": "code",
   "execution_count": 206,
   "metadata": {},
   "outputs": [
    {
     "ename": "TypeError",
     "evalue": "guess() missing 1 required positional argument: 'c'",
     "output_type": "error",
     "traceback": [
      "\u001b[1;31m---------------------------------------------------------------------------\u001b[0m",
      "\u001b[1;31mTypeError\u001b[0m                                 Traceback (most recent call last)",
      "\u001b[1;32m<ipython-input-206-d7bef4051093>\u001b[0m in \u001b[0;36m<module>\u001b[1;34m\u001b[0m\n\u001b[0;32m      3\u001b[0m \u001b[0mt\u001b[0m \u001b[1;33m=\u001b[0m \u001b[0mplot_this\u001b[0m\u001b[1;33m[\u001b[0m\u001b[1;34m'Runtimes'\u001b[0m\u001b[1;33m]\u001b[0m\u001b[1;33m\u001b[0m\u001b[1;33m\u001b[0m\u001b[0m\n\u001b[0;32m      4\u001b[0m \u001b[0ms\u001b[0m \u001b[1;33m=\u001b[0m \u001b[0mplot_this\u001b[0m\u001b[1;33m[\u001b[0m\u001b[1;34m'List_length'\u001b[0m\u001b[1;33m]\u001b[0m\u001b[1;33m\u001b[0m\u001b[1;33m\u001b[0m\u001b[0m\n\u001b[1;32m----> 5\u001b[1;33m \u001b[0mg\u001b[0m \u001b[1;33m=\u001b[0m \u001b[0mnp\u001b[0m\u001b[1;33m.\u001b[0m\u001b[0masarray\u001b[0m\u001b[1;33m(\u001b[0m \u001b[0mguess\u001b[0m\u001b[1;33m(\u001b[0m\u001b[1;33m)\u001b[0m \u001b[1;33m)\u001b[0m\u001b[1;33m\u001b[0m\u001b[1;33m\u001b[0m\u001b[0m\n\u001b[0m\u001b[0;32m      6\u001b[0m \u001b[1;33m\u001b[0m\u001b[0m\n\u001b[0;32m      7\u001b[0m \u001b[0mc\u001b[0m\u001b[1;33m,\u001b[0m \u001b[0mcov\u001b[0m \u001b[1;33m=\u001b[0m \u001b[0mcurve_fit\u001b[0m\u001b[1;33m(\u001b[0m\u001b[0mtime\u001b[0m\u001b[1;33m,\u001b[0m \u001b[0mxdata\u001b[0m\u001b[1;33m=\u001b[0m \u001b[0ms\u001b[0m\u001b[1;33m,\u001b[0m \u001b[0mydata\u001b[0m\u001b[1;33m=\u001b[0m\u001b[0mt\u001b[0m\u001b[1;33m,\u001b[0m \u001b[0mp0\u001b[0m\u001b[1;33m=\u001b[0m \u001b[1;36m145\u001b[0m \u001b[1;33m)\u001b[0m\u001b[1;33m\u001b[0m\u001b[1;33m\u001b[0m\u001b[0m\n",
      "\u001b[1;31mTypeError\u001b[0m: guess() missing 1 required positional argument: 'c'"
     ]
    }
   ],
   "source": [
    "from scipy.optimize import curve_fit\n",
    "\n",
    "t = plot_this['Runtimes']\n",
    "s = plot_this['List_length']\n",
    "g = np.asarray( guess() )\n",
    "\n",
    "c, cov = curve_fit(time, xdata= s, ydata=t, p0= 145 )\n",
    "print(c)"
   ]
  },
  {
   "cell_type": "code",
   "execution_count": null,
   "metadata": {},
   "outputs": [],
   "source": []
  }
 ],
 "metadata": {
  "kernelspec": {
   "display_name": "Python 3",
   "language": "python",
   "name": "python3"
  },
  "language_info": {
   "codemirror_mode": {
    "name": "ipython",
    "version": 3
   },
   "file_extension": ".py",
   "mimetype": "text/x-python",
   "name": "python",
   "nbconvert_exporter": "python",
   "pygments_lexer": "ipython3",
   "version": "3.7.4"
  }
 },
 "nbformat": 4,
 "nbformat_minor": 2
}
