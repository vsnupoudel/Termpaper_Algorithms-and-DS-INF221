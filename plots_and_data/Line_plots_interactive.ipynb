{
 "cells": [
  {
   "cell_type": "code",
   "execution_count": 1,
   "metadata": {},
   "outputs": [],
   "source": [
    "# Example code for creating a figure of suitable size\n",
    "# for inclusion in the term paper.\n",
    "\n",
    "import matplotlib.pyplot as plt\n",
    "import pandas as pd\n",
    "import numpy as np\n",
    "import pandasql as ps\n",
    "import matplotlib as mpl\n",
    "\n",
    "\n",
    "plt.rcParams['axes.titlesize'] = 15\n",
    "plt.rcParams['axes.labelsize'] = 12\n",
    "plt.rcParams['xtick.labelsize'] = 10\n",
    "plt.rcParams['ytick.labelsize'] = 10\n",
    "plt.rcParams['legend.fontsize'] = 12\n",
    "plt.rcParams['text.usetex'] = False\n",
    "# Color cycle for color blind Source: https://gist.github.com/thriveth/8560036\n",
    "CB_color_cycle = ['#377eb8', '#ff7f00', '#4daf4a',\n",
    "                  '#f781bf', '#a65628', '#984ea3',\n",
    "                  '#999999', '#e41a1c', '#dede00']  \n",
    "\n",
    "# Set the default color cycle\n",
    "mpl.rcParams['axes.prop_cycle'] = mpl.cycler(color=CB_color_cycle) "
   ]
  },
  {
   "cell_type": "code",
   "execution_count": 2,
   "metadata": {},
   "outputs": [],
   "source": [
    "# Function for a consistent length of figures of 84 mm, converting to inches\n",
    "def new_figure(height=55):\n",
    "    \"Return figure with width 84mm and given height in mm.\"\n",
    "    return plt.figure(figsize=(84/10.16, height/10.16))"
   ]
  },
  {
   "cell_type": "markdown",
   "metadata": {},
   "source": [
    "### Reading all the different CSVs produced by each run of the time_it function "
   ]
  },
  {
   "cell_type": "code",
   "execution_count": 3,
   "metadata": {},
   "outputs": [],
   "source": [
    "# merge_sort_already_sorted= pd.read_csv(\"merge_sort_already_sorted.csv\")\n",
    "# merge_sort_random= pd.read_csv(\"merge_sort_random.csv\")\n",
    "# merge_sort_reverse_sorted= pd.read_csv(\"merge_sort_reverse_sorted.csv\")\n",
    "\n",
    "# quick_sort_random= pd.read_csv(\"quick_sort_random.csv\")\n",
    "# quick_sort_already_sorted_till_2560= pd.read_csv(\"quick_sort_sorted.csv\")\n",
    "# quick_sort_reverse_sorted_till_2560= pd.read_csv(\"quick_sort_reverse_sorted.csv\")\n",
    "\n",
    "# heap_sort_already_sorted= pd.read_csv(\"heap_sort_already_sorted.csv\")\n",
    "# heap_sort_random= pd.read_csv(\"heap_sort_random.csv\")\n",
    "# heap_sort_reverse_sorted= pd.read_csv(\"heap_sort_reverse_sorted.csv\")\n",
    "\n",
    "# numpy_sort_already_sorted= pd.read_csv(\"numpy_sort_already_sorted.csv\")\n",
    "# numpy_sort_random= pd.read_csv(\"numpy_sort_random.csv\")\n",
    "# numpy_sort_reverse_sorted= pd.read_csv(\"numpy_sort_reverse_sorted.csv\")\n",
    "\n",
    "# python_sorted_already_sorted= pd.read_csv(\"sorted_already_sorted.csv\")\n",
    "# python_sorted_random= pd.read_csv(\"sorted_random.csv\")\n",
    "# python_sorted_reverse_sorted= pd.read_csv(\"sorted_reverse_sorted.csv\")         \n"
   ]
  },
  {
   "cell_type": "code",
   "execution_count": 4,
   "metadata": {},
   "outputs": [
    {
     "name": "stdout",
     "output_type": "stream",
     "text": [
      "['random', 'reverse_sorted', 'sorted']\n",
      "(2037, 6)\n"
     ]
    }
   ],
   "source": [
    "# dataset=pd.concat([merge_sort_already_sorted, merge_sort_random, merge_sort_reverse_sorted, \n",
    "#                    quick_sort_random,quick_sort_already_sorted_till_2560,quick_sort_reverse_sorted_till_2560,\n",
    "#                    heap_sort_already_sorted, heap_sort_random, heap_sort_reverse_sorted,\n",
    "#                    numpy_sort_already_sorted, numpy_sort_random, numpy_sort_reverse_sorted,\n",
    "#                    python_sorted_already_sorted, python_sorted_random, python_sorted_reverse_sorted])\n",
    "\n",
    "\n",
    "# dataset.loc[ dataset['Data_Type_or_List_type']=='already_sorted', ['Data_Type_or_List_type'] ] ='sorted'\n",
    "# dataset.loc[ dataset['Data_Type_or_List_type']=='reverese_sorted', ['Data_Type_or_List_type'] ] ='reverse_sorted'\n",
    "# dataset.loc[ dataset['Data_Type_or_List_type']=='reverse', ['Data_Type_or_List_type'] ] ='reverse_sorted'\n",
    "# dataset.reset_index(drop=True)\n",
    "\n",
    "# dataset.to_csv(\"dataset_concat.csv\", index=False)\n",
    "\n",
    "dataset = pd.read_csv(\"dataset_concat.csv\")\n",
    "print (np.unique(dataset['Data_Type_or_List_type']).tolist())\n",
    "print(dataset.shape)"
   ]
  },
  {
   "cell_type": "code",
   "execution_count": 5,
   "metadata": {},
   "outputs": [
    {
     "data": {
      "text/html": [
       "<div>\n",
       "<style scoped>\n",
       "    .dataframe tbody tr th:only-of-type {\n",
       "        vertical-align: middle;\n",
       "    }\n",
       "\n",
       "    .dataframe tbody tr th {\n",
       "        vertical-align: top;\n",
       "    }\n",
       "\n",
       "    .dataframe thead th {\n",
       "        text-align: right;\n",
       "    }\n",
       "</style>\n",
       "<table border=\"1\" class=\"dataframe\">\n",
       "  <thead>\n",
       "    <tr style=\"text-align: right;\">\n",
       "      <th></th>\n",
       "      <th>Sort_Type</th>\n",
       "      <th>Data_Type_or_List_type</th>\n",
       "      <th>List_length</th>\n",
       "      <th>Runtimes</th>\n",
       "      <th>Number_of_repeatitions</th>\n",
       "      <th>Datetime</th>\n",
       "    </tr>\n",
       "  </thead>\n",
       "  <tbody>\n",
       "    <tr>\n",
       "      <th>0</th>\n",
       "      <td>merge_sort</td>\n",
       "      <td>sorted</td>\n",
       "      <td>10</td>\n",
       "      <td>0.267837</td>\n",
       "      <td>7</td>\n",
       "      <td>2019-11-01 21:51:45.110982</td>\n",
       "    </tr>\n",
       "    <tr>\n",
       "      <th>1</th>\n",
       "      <td>merge_sort</td>\n",
       "      <td>sorted</td>\n",
       "      <td>10</td>\n",
       "      <td>0.277732</td>\n",
       "      <td>7</td>\n",
       "      <td>2019-11-01 21:51:45.110982</td>\n",
       "    </tr>\n",
       "    <tr>\n",
       "      <th>2</th>\n",
       "      <td>merge_sort</td>\n",
       "      <td>sorted</td>\n",
       "      <td>10</td>\n",
       "      <td>0.274984</td>\n",
       "      <td>7</td>\n",
       "      <td>2019-11-01 21:51:45.110982</td>\n",
       "    </tr>\n",
       "    <tr>\n",
       "      <th>3</th>\n",
       "      <td>merge_sort</td>\n",
       "      <td>sorted</td>\n",
       "      <td>10</td>\n",
       "      <td>0.250366</td>\n",
       "      <td>7</td>\n",
       "      <td>2019-11-01 21:51:45.110982</td>\n",
       "    </tr>\n",
       "    <tr>\n",
       "      <th>4</th>\n",
       "      <td>merge_sort</td>\n",
       "      <td>sorted</td>\n",
       "      <td>10</td>\n",
       "      <td>0.233188</td>\n",
       "      <td>7</td>\n",
       "      <td>2019-11-01 21:51:45.110982</td>\n",
       "    </tr>\n",
       "  </tbody>\n",
       "</table>\n",
       "</div>"
      ],
      "text/plain": [
       "    Sort_Type Data_Type_or_List_type  List_length  Runtimes  \\\n",
       "0  merge_sort                 sorted           10  0.267837   \n",
       "1  merge_sort                 sorted           10  0.277732   \n",
       "2  merge_sort                 sorted           10  0.274984   \n",
       "3  merge_sort                 sorted           10  0.250366   \n",
       "4  merge_sort                 sorted           10  0.233188   \n",
       "\n",
       "   Number_of_repeatitions                    Datetime  \n",
       "0                       7  2019-11-01 21:51:45.110982  \n",
       "1                       7  2019-11-01 21:51:45.110982  \n",
       "2                       7  2019-11-01 21:51:45.110982  \n",
       "3                       7  2019-11-01 21:51:45.110982  \n",
       "4                       7  2019-11-01 21:51:45.110982  "
      ]
     },
     "execution_count": 5,
     "metadata": {},
     "output_type": "execute_result"
    }
   ],
   "source": [
    "dataset.head()"
   ]
  },
  {
   "cell_type": "code",
   "execution_count": 6,
   "metadata": {},
   "outputs": [
    {
     "name": "stdout",
     "output_type": "stream",
     "text": [
      "['random', 'reverse_sorted', 'sorted']\n"
     ]
    }
   ],
   "source": [
    "# Extract the keys and values and plot them\n",
    "\n",
    "min_query = \"\"\"SELECT Sort_Type, \n",
    "Data_Type_or_List_type,\n",
    "List_length, \n",
    "min( Runtimes/Number_of_repeatitions)  as Single_runtime\n",
    "FROM dataset \n",
    "GROUP BY Sort_Type, \n",
    "Data_Type_or_List_type,\n",
    "List_length \"\"\"\n",
    "\n",
    "df_min = pd.DataFrame( ps.sqldf(min_query) )\n",
    "df_min.head()\n",
    "df_min.shape\n",
    "\n",
    "df_min.head()\n",
    "print (np.unique(df_min['Data_Type_or_List_type']).tolist())"
   ]
  },
  {
   "cell_type": "code",
   "execution_count": 11,
   "metadata": {},
   "outputs": [],
   "source": [
    "# Prove that the graph in NlogN\n",
    "# Changing the constants by Hit and Trial\n",
    "# The time in plotted in nanoseconds\n",
    "\n",
    "def plot_minimum_times(input_type='random', lower_limit=81920, upper_limit=10485760, c1=0.2, c2=500):\n",
    "    filter01 =  (df_min['Data_Type_or_List_type']==input_type)\n",
    "    plot_data = df_min[filter01]\n",
    "\n",
    "    filter02 = (plot_data['List_length']<=upper_limit) &  (plot_data['List_length']>=lower_limit)\n",
    "    plot_data = plot_data[filter02]\n",
    "\n",
    "    fig = new_figure()\n",
    "    list_of_sorts= sorted( np.unique(plot_data['Sort_Type']).tolist() , reverse=True)\n",
    "    list_of_sorts = ['numpy_sort','python_sorted']\n",
    "    for sort_type in list_of_sorts:\n",
    "        filter03 = (plot_data['Sort_Type']==sort_type)\n",
    "        plot_this = plot_data[filter03]         \n",
    "        plt.plot( np.log2( plot_this['List_length']) , plot_this['Single_runtime']*1000000000,'-o' ,alpha=0.8, label=sort_type)\n",
    "#nanoseconds\n",
    "\n",
    "    n_log_n_small= c1*plot_this['List_length'] * np.log2( plot_this['List_length'] )\n",
    "#     n_log_n_large= c2*plot_this['List_length'] * np.log2( plot_this['List_length'] )\n",
    "    plt.plot ( np.log2( plot_this['List_length']) , n_log_n_small,'-x', label=\"c1= \"+str(c1) )\n",
    "#     plt.plot ( np.log2( plot_this['List_length'] ), n_log_n_large,'-x', label='c2= '+str(c2))\n",
    "    plt.xlabel('Log base 2 of the size of the numeric array')\n",
    "    plt.ylabel('Time in nanoseconds')\n",
    "    plt.title(\"Runtimes of sort Algorithms for -\"+input_type+\" data\")\n",
    "    plt.legend()\n",
    "    plt.tight_layout()\n",
    "#     plt.savefig(\"plots\\For -\"+input_type+\" from-\"+str(lower_limit)+\" to-\"+str(upper_limit)+\".pdf\" , bbox_inches='tight')\n",
    "    plt.show()"
   ]
  },
  {
   "cell_type": "markdown",
   "metadata": {},
   "source": [
    "## Plots for all sort_types on a single plot, for a fixed permutation of data"
   ]
  },
  {
   "cell_type": "code",
   "execution_count": 12,
   "metadata": {},
   "outputs": [
    {
     "data": {
      "application/vnd.jupyter.widget-view+json": {
       "model_id": "7c149569f38d4d72a2d95b3e50885dee",
       "version_major": 2,
       "version_minor": 0
      },
      "text/plain": [
       "interactive(children=(Dropdown(description='input_type', options=('random', 'reverse_sorted', 'sorted'), value…"
      ]
     },
     "metadata": {},
     "output_type": "display_data"
    }
   ],
   "source": [
    "from ipywidgets import interact #,interactive , fixed, interact_manual\n",
    "pickle_object= interact(plot_minimum_times, input_type=['random', 'reverse_sorted', 'sorted']\n",
    "         ,lower_limit=  np.unique(df_min['List_length']).tolist() \n",
    "         ,upper_limit=  np.unique(df_min['List_length']).tolist()\n",
    "        , c1=(0,3,0.1)\n",
    "        , c2=(200,601,50)\n",
    "        )"
   ]
  },
  {
   "cell_type": "markdown",
   "metadata": {},
   "source": [
    "## Plots for all permutation of data; for a fixed sort type"
   ]
  },
  {
   "cell_type": "code",
   "execution_count": 9,
   "metadata": {},
   "outputs": [
    {
     "name": "stdout",
     "output_type": "stream",
     "text": [
      "['heap_sort', 'merge_sort', 'numpy_sort', 'python_sorted', 'quick_sort']\n"
     ]
    }
   ],
   "source": [
    "print (np.unique(df_min['Sort_Type']).tolist())"
   ]
  },
  {
   "cell_type": "code",
   "execution_count": 50,
   "metadata": {},
   "outputs": [],
   "source": [
    "# Prove that the graph in NlogN\n",
    "# Changing the constants by Hit and Trial\n",
    "# The time in plotted in microseconds\n",
    "def plot_minimum_times_for_each_sort(sort_type='merge_sort', lower_limit=81920, upper_limit=10485760):\n",
    "    filter01 =  (df_min['Sort_Type']==sort_type)\n",
    "    plot_data = df_min[filter01]\n",
    "\n",
    "    filter02 = (plot_data['List_length']<=upper_limit) &  (plot_data['List_length']>=lower_limit)\n",
    "    plot_data = plot_data[filter02]\n",
    "\n",
    "    fig = new_figure()\n",
    "    permut_types= sorted( np.unique(plot_data['Data_Type_or_List_type']).tolist() , reverse=True)\n",
    "    for permut in permut_types:\n",
    "        filter03 = (plot_data['Data_Type_or_List_type']==permut)\n",
    "        plot_this = plot_data[filter03]         \n",
    "        plt.plot(np.log2( plot_this['List_length']), plot_this['Single_runtime']*1000000,'-o' , label=permut)\n",
    "\n",
    "    plt.xlabel('Log 2 of the size of the numeric array')\n",
    "    plt.ylabel('Time in microseconds')\n",
    "    plt.title(\"Runtimes of data -\"+sort_type+\" algorithm \")\n",
    "    plt.legend()\n",
    "    plt.tight_layout()\n",
    "    plt.savefig(\"plots\\For -\"+sort_type+\" from-\"+str(lower_limit)+\" to-\"+str(upper_limit)+\".pdf\" , bbox_inches='tight')\n",
    "    plt.show()"
   ]
  },
  {
   "cell_type": "code",
   "execution_count": 51,
   "metadata": {},
   "outputs": [
    {
     "data": {
      "application/vnd.jupyter.widget-view+json": {
       "model_id": "c519dc1998994c9a9343a1637ab08b5f",
       "version_major": 2,
       "version_minor": 0
      },
      "text/plain": [
       "interactive(children=(Dropdown(description='sort_type', index=1, options=('heap_sort', 'merge_sort', 'numpy_so…"
      ]
     },
     "metadata": {},
     "output_type": "display_data"
    }
   ],
   "source": [
    "pickle_object = interact(plot_minimum_times_for_each_sort, sort_type=['heap_sort', 'merge_sort', 'numpy_sort', 'python_sorted', 'quick_sort']\n",
    "         ,lower_limit=  np.unique(df_min['List_length']).tolist() \n",
    "         ,upper_limit=  np.unique(df_min['List_length']).tolist()\n",
    "\n",
    "        )"
   ]
  },
  {
   "cell_type": "code",
   "execution_count": 49,
   "metadata": {},
   "outputs": [
    {
     "data": {
      "text/plain": [
       "'7.5.1'"
      ]
     },
     "execution_count": 49,
     "metadata": {},
     "output_type": "execute_result"
    }
   ],
   "source": [
    "import ipywidgets\n",
    "ipywidgets.__version__"
   ]
  },
  {
   "cell_type": "code",
   "execution_count": null,
   "metadata": {},
   "outputs": [],
   "source": []
  }
 ],
 "metadata": {
  "kernelspec": {
   "display_name": "Python 3",
   "language": "python",
   "name": "python3"
  },
  "language_info": {
   "codemirror_mode": {
    "name": "ipython",
    "version": 3
   },
   "file_extension": ".py",
   "mimetype": "text/x-python",
   "name": "python",
   "nbconvert_exporter": "python",
   "pygments_lexer": "ipython3",
   "version": "3.7.3"
  }
 },
 "nbformat": 4,
 "nbformat_minor": 2
}
