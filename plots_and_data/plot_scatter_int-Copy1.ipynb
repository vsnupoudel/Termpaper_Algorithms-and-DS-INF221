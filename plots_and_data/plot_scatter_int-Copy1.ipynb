{
 "cells": [
  {
   "cell_type": "code",
   "execution_count": 1,
   "metadata": {},
   "outputs": [],
   "source": [
    "import pandas as pd\n",
    "import numpy as np\n",
    "import matplotlib.pyplot as plt\n",
    "import pandasql as ps\n",
    "import matplotlib as mpl\n",
    "\n",
    "dataset = pd.read_csv(\"dataset_concat.csv\")"
   ]
  },
  {
   "cell_type": "code",
   "execution_count": 2,
   "metadata": {},
   "outputs": [],
   "source": [
    "plt.rcParams['axes.titlesize'] = 15\n",
    "plt.rcParams['axes.labelsize'] = 12\n",
    "plt.rcParams['xtick.labelsize'] = 10\n",
    "plt.rcParams['ytick.labelsize'] = 10\n",
    "plt.rcParams['legend.fontsize'] = 10\n",
    "plt.rcParams['text.usetex'] = False\n",
    "# Color cycle for color blind Source: https://gist.github.com/thriveth/8560036\n",
    "CB_color_cycle = ['#377eb8', '#ff7f00', '#4daf4a',\n",
    "                  '#f781bf', '#a65628', '#984ea3',\n",
    "                  '#999999', '#e41a1c', '#dede00']   # https://gist.github.com/thriveth/8560036\n",
    "\n",
    "# Set the default color cycle\n",
    "mpl.rcParams['axes.prop_cycle'] = mpl.cycler(color=CB_color_cycle) \n",
    "\n",
    "# Function for a consistent length of figures of 84 mm, converting to inches\n",
    "def new_figure(height=55):\n",
    "    \"Return figure with width 84mm and given height in mm.\"\n",
    "    return plt.figure(figsize=(84/10.16, height/10.16))"
   ]
  },
  {
   "cell_type": "code",
   "execution_count": 3,
   "metadata": {},
   "outputs": [
    {
     "data": {
      "text/html": [
       "<div>\n",
       "<style scoped>\n",
       "    .dataframe tbody tr th:only-of-type {\n",
       "        vertical-align: middle;\n",
       "    }\n",
       "\n",
       "    .dataframe tbody tr th {\n",
       "        vertical-align: top;\n",
       "    }\n",
       "\n",
       "    .dataframe thead th {\n",
       "        text-align: right;\n",
       "    }\n",
       "</style>\n",
       "<table border=\"1\" class=\"dataframe\">\n",
       "  <thead>\n",
       "    <tr style=\"text-align: right;\">\n",
       "      <th></th>\n",
       "      <th>Sort_Type</th>\n",
       "      <th>Data_Type_or_List_type</th>\n",
       "      <th>List_length</th>\n",
       "      <th>Runtimes</th>\n",
       "      <th>Number_of_repeatitions</th>\n",
       "      <th>Datetime</th>\n",
       "    </tr>\n",
       "  </thead>\n",
       "  <tbody>\n",
       "    <tr>\n",
       "      <td>0</td>\n",
       "      <td>merge_sort</td>\n",
       "      <td>sorted</td>\n",
       "      <td>10</td>\n",
       "      <td>0.267837</td>\n",
       "      <td>7</td>\n",
       "      <td>2019-11-01 21:51:45.110982</td>\n",
       "    </tr>\n",
       "    <tr>\n",
       "      <td>1</td>\n",
       "      <td>merge_sort</td>\n",
       "      <td>sorted</td>\n",
       "      <td>10</td>\n",
       "      <td>0.277732</td>\n",
       "      <td>7</td>\n",
       "      <td>2019-11-01 21:51:45.110982</td>\n",
       "    </tr>\n",
       "    <tr>\n",
       "      <td>2</td>\n",
       "      <td>merge_sort</td>\n",
       "      <td>sorted</td>\n",
       "      <td>10</td>\n",
       "      <td>0.274984</td>\n",
       "      <td>7</td>\n",
       "      <td>2019-11-01 21:51:45.110982</td>\n",
       "    </tr>\n",
       "    <tr>\n",
       "      <td>3</td>\n",
       "      <td>merge_sort</td>\n",
       "      <td>sorted</td>\n",
       "      <td>10</td>\n",
       "      <td>0.250366</td>\n",
       "      <td>7</td>\n",
       "      <td>2019-11-01 21:51:45.110982</td>\n",
       "    </tr>\n",
       "    <tr>\n",
       "      <td>4</td>\n",
       "      <td>merge_sort</td>\n",
       "      <td>sorted</td>\n",
       "      <td>10</td>\n",
       "      <td>0.233188</td>\n",
       "      <td>7</td>\n",
       "      <td>2019-11-01 21:51:45.110982</td>\n",
       "    </tr>\n",
       "  </tbody>\n",
       "</table>\n",
       "</div>"
      ],
      "text/plain": [
       "    Sort_Type Data_Type_or_List_type  List_length  Runtimes  \\\n",
       "0  merge_sort                 sorted           10  0.267837   \n",
       "1  merge_sort                 sorted           10  0.277732   \n",
       "2  merge_sort                 sorted           10  0.274984   \n",
       "3  merge_sort                 sorted           10  0.250366   \n",
       "4  merge_sort                 sorted           10  0.233188   \n",
       "\n",
       "   Number_of_repeatitions                    Datetime  \n",
       "0                       7  2019-11-01 21:51:45.110982  \n",
       "1                       7  2019-11-01 21:51:45.110982  \n",
       "2                       7  2019-11-01 21:51:45.110982  \n",
       "3                       7  2019-11-01 21:51:45.110982  \n",
       "4                       7  2019-11-01 21:51:45.110982  "
      ]
     },
     "execution_count": 3,
     "metadata": {},
     "output_type": "execute_result"
    }
   ],
   "source": [
    "dataset.head()"
   ]
  },
  {
   "cell_type": "code",
   "execution_count": 29,
   "metadata": {},
   "outputs": [
    {
     "name": "stdout",
     "output_type": "stream",
     "text": [
      "['random', 'reverse_sorted', 'sorted']\n",
      "['heap_sort', 'merge_sort', 'numpy_sort', 'python_sorted', 'quick_sort']\n"
     ]
    },
    {
     "data": {
      "image/png": "[encoded data removed]",
      "text/plain": [
       "<Figure size 595.276x389.764 with 1 Axes>"
      ]
     },
     "metadata": {
      "needs_background": "light"
     },
     "output_type": "display_data"
    }
   ],
   "source": [
    "# def scatter_plot_times(size):\n",
    "size = int(10485760)\n",
    "filter = (dataset['List_length']==size)\n",
    "df_size = pd.DataFrame( dataset[filter] )\n",
    "df_size.reset_index( drop = True, inplace=True)\n",
    "\n",
    "df_size['Single_runtime'] =  df_size['Runtimes']/df_size['Number_of_repeatitions']  \n",
    "\n",
    "print(   sorted( np.unique(df_size['Data_Type_or_List_type']).tolist() )  )\n",
    "print(   np.unique(df_size['Sort_Type']).tolist()   )\n",
    "\n",
    "\n",
    "filter01 = (df_size['Data_Type_or_List_type']=='random')\n",
    "df_data_type = df_size[filter01]  \n",
    "\n",
    "# filter02 = (df_data_type['Sort_Type']==sort)\n",
    "nump = df_data_type[(df_data_type['Sort_Type']=='numpy_sort')] ['Single_runtime']  \n",
    "pyth = df_data_type[(df_data_type['Sort_Type']=='python_sorted')] ['Single_runtime']  \n",
    "quick = df_data_type[(df_data_type['Sort_Type']=='quick_sort')] ['Single_runtime']  \n",
    "merg = df_data_type[(df_data_type['Sort_Type']=='merge_sort')] ['Single_runtime']  \n",
    "heap = df_data_type[(df_data_type['Sort_Type']=='heap_sort')] ['Single_runtime']  \n",
    "data=[nump,pyth]\n",
    "\n",
    "labels = ( 'numpy_sort', 'python_sorted')\n",
    "fig = new_figure()\n",
    "plt.boxplot( data )\n",
    "plt.xticks(np.arange(len(labels))+1,labels)\n",
    "plt.ylabel('Time in seconds')\n",
    "plt.title(\"Distribution for sorting 10 million random numbers\")\n",
    "plt.xticks(np.arange(len(labels))+1,labels)\n",
    "plt.savefig(\"normalised\\Boxplots for numpy and python.pdf\" , bbox_inches='tight')\n",
    "plt.show()"
   ]
  },
  {
   "cell_type": "code",
   "execution_count": 30,
   "metadata": {},
   "outputs": [
    {
     "data": {
      "image/png": "[encoded data removed]",
      "text/plain": [
       "<Figure size 595.276x389.764 with 1 Axes>"
      ]
     },
     "metadata": {
      "needs_background": "light"
     },
     "output_type": "display_data"
    }
   ],
   "source": [
    "fig = new_figure()\n",
    "data=[quick,merg,heap]\n",
    "labels = (  'quick_sort','merge_sort', 'heap_sort'  )\n",
    "\n",
    "plt.boxplot( data )\n",
    "plt.xticks(np.arange(len(labels))+1,labels)\n",
    "plt.ylabel('Time in seconds')\n",
    "plt.title(\"Distribution for sorting 10 million random numbers\")\n",
    "plt.xticks(np.arange(len(labels))+1,labels)\n",
    "plt.savefig(\"normalised\\Boxplots for standalone sorts.pdf\" , bbox_inches='tight')\n",
    "plt.show()"
   ]
  },
  {
   "cell_type": "code",
   "execution_count": null,
   "metadata": {},
   "outputs": [],
   "source": []
  }
 ],
 "metadata": {
  "kernelspec": {
   "display_name": "Python 3",
   "language": "python",
   "name": "python3"
  },
  "language_info": {
   "codemirror_mode": {
    "name": "ipython",
    "version": 3
   },
   "file_extension": ".py",
   "mimetype": "text/x-python",
   "name": "python",
   "nbconvert_exporter": "python",
   "pygments_lexer": "ipython3",
   "version": "3.7.4"
  }
 },
 "nbformat": 4,
 "nbformat_minor": 2
}
