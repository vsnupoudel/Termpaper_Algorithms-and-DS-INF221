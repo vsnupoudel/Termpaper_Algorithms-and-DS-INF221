{
 "cells": [
  {
   "cell_type": "code",
   "execution_count": 47,
   "metadata": {},
   "outputs": [],
   "source": [
    "from random import shuffle\n",
    "import random\n",
    "import numpy as np\n",
    "\n",
    "def single_check(A,p,r):    \n",
    "#     print(A)\n",
    "    x = A[r]\n",
    "    i = p-1\n",
    "    for j in range(p, r):\n",
    "        if A[j]<= x:\n",
    "            i += 1\n",
    "            A[i], A[j] = A[j], A[i]\n",
    "            print(\"Inside steps\",i,j)\n",
    "        print(A)        \n",
    "    A[r] , A[i+1] =   A[i+1], A[r]    \n",
    "    print(A)\n",
    "    print(i+1)\n",
    "    return i+1"
   ]
  },
  {
   "cell_type": "code",
   "execution_count": 48,
   "metadata": {},
   "outputs": [],
   "source": [
    "def quick_sort(A,p,r):\n",
    "    if p<r:\n",
    "        q = single_check(A,p,r)\n",
    "        quick_sort(A,p,q-1)\n",
    "        quick_sort(A,q+1,r)   \n",
    "    "
   ]
  },
  {
   "cell_type": "code",
   "execution_count": 51,
   "metadata": {},
   "outputs": [
    {
     "name": "stdout",
     "output_type": "stream",
     "text": [
      "[5, 2, 1, 4, 1, 1, 2, 2]\n",
      "Inside steps 0 1\n",
      "[2, 5, 1, 4, 1, 1, 2, 2]\n",
      "Inside steps 1 2\n",
      "[2, 1, 5, 4, 1, 1, 2, 2]\n",
      "[2, 1, 5, 4, 1, 1, 2, 2]\n",
      "Inside steps 2 4\n",
      "[2, 1, 1, 4, 5, 1, 2, 2]\n",
      "Inside steps 3 5\n",
      "[2, 1, 1, 1, 5, 4, 2, 2]\n",
      "Inside steps 4 6\n",
      "[2, 1, 1, 1, 2, 4, 5, 2]\n",
      "[2, 1, 1, 1, 2, 2, 5, 4]\n",
      "5\n",
      "Inside steps 0 0\n",
      "[2, 1, 1, 1, 2, 2, 5, 4]\n",
      "Inside steps 1 1\n",
      "[2, 1, 1, 1, 2, 2, 5, 4]\n",
      "Inside steps 2 2\n",
      "[2, 1, 1, 1, 2, 2, 5, 4]\n",
      "Inside steps 3 3\n",
      "[2, 1, 1, 1, 2, 2, 5, 4]\n",
      "[2, 1, 1, 1, 2, 2, 5, 4]\n",
      "4\n",
      "[2, 1, 1, 1, 2, 2, 5, 4]\n",
      "Inside steps 0 1\n",
      "[1, 2, 1, 1, 2, 2, 5, 4]\n",
      "Inside steps 1 2\n",
      "[1, 1, 2, 1, 2, 2, 5, 4]\n",
      "[1, 1, 1, 2, 2, 2, 5, 4]\n",
      "2\n",
      "Inside steps 0 0\n",
      "[1, 1, 1, 2, 2, 2, 5, 4]\n",
      "[1, 1, 1, 2, 2, 2, 5, 4]\n",
      "1\n",
      "[1, 1, 1, 2, 2, 2, 5, 4]\n",
      "[1, 1, 1, 2, 2, 2, 4, 5]\n",
      "6\n"
     ]
    }
   ],
   "source": [
    "A= [5,2,1,4,1,1,2,2]\n",
    "quick_sort(A,0,len(A)-1)"
   ]
  },
  {
   "cell_type": "code",
   "execution_count": null,
   "metadata": {},
   "outputs": [],
   "source": []
  }
 ],
 "metadata": {
  "kernelspec": {
   "display_name": "Python 3",
   "language": "python",
   "name": "python3"
  },
  "language_info": {
   "codemirror_mode": {
    "name": "ipython",
    "version": 3
   },
   "file_extension": ".py",
   "mimetype": "text/x-python",
   "name": "python",
   "nbconvert_exporter": "python",
   "pygments_lexer": "ipython3",
   "version": "3.7.4"
  }
 },
 "nbformat": 4,
 "nbformat_minor": 2
}
