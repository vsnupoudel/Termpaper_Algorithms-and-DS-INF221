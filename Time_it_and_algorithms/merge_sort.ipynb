{
 "cells": [
  {
   "cell_type": "code",
   "execution_count": 4,
   "metadata": {},
   "outputs": [],
   "source": [
    "import math\n",
    "import numpy as np\n",
    "\n",
    "def sort_two_sorted_lists(A,B):\n",
    "    len_total= len(A)+len(B)\n",
    "    C= [None]*len_total\n",
    "    index_total= len_total-1\n",
    "    a= A.pop()\n",
    "    b= B.pop()\n",
    "\n",
    "    while True:    \n",
    "        if a >= b:\n",
    "            C[index_total]= a\n",
    "            if len(A) >0 :\n",
    "                a= A.pop()\n",
    "            else:\n",
    "                a= -math.inf\n",
    "            index_total -= 1\n",
    "        else:\n",
    "            C[index_total]= b\n",
    "            if len(B) >0 :\n",
    "                b= B.pop()\n",
    "            else:\n",
    "                b= - math.inf\n",
    "            index_total -= 1\n",
    "\n",
    "        if a == - math.inf and b == - math.inf:\n",
    "            break\n",
    "\n",
    "    return C\n",
    "           \n",
    "\n",
    "def merge_sort_helper(A,p,r):    \n",
    "    if p==r:\n",
    "        return A[p:r+1]\n",
    "    q=  math.floor( (p+r) / 2) \n",
    "    B = merge_sort_helper(A,p,q)\n",
    "    C = merge_sort_helper(A,q+1,r)\n",
    "    D = sort_two_sorted_lists(B,C)\n",
    "    return D"
   ]
  },
  {
   "cell_type": "code",
   "execution_count": 5,
   "metadata": {},
   "outputs": [],
   "source": [
    "def merge_sort(A):\n",
    "    D= merge_sort_helper(A,0 , len(A)-1)\n",
    "    return D"
   ]
  },
  {
   "cell_type": "code",
   "execution_count": 11,
   "metadata": {},
   "outputs": [
    {
     "data": {
      "text/plain": [
       "[1, 1, 2, 3, 4, 5, 6, 6, 7, 7, 8, 9, 9, 9]"
      ]
     },
     "execution_count": 11,
     "metadata": {},
     "output_type": "execute_result"
    }
   ],
   "source": [
    "A=[9,8,9,7,6,5,6,7,1,2,3,4,1,9]\n",
    "C= merge_sort(A)\n",
    "C"
   ]
  },
  {
   "cell_type": "code",
   "execution_count": 10,
   "metadata": {},
   "outputs": [
    {
     "data": {
      "text/plain": [
       "[2]"
      ]
     },
     "execution_count": 10,
     "metadata": {},
     "output_type": "execute_result"
    }
   ],
   "source": [
    "C[2:3]"
   ]
  },
  {
   "cell_type": "code",
   "execution_count": null,
   "metadata": {},
   "outputs": [],
   "source": []
  }
 ],
 "metadata": {
  "kernelspec": {
   "display_name": "Python 3",
   "language": "python",
   "name": "python3"
  },
  "language_info": {
   "codemirror_mode": {
    "name": "ipython",
    "version": 3
   },
   "file_extension": ".py",
   "mimetype": "text/x-python",
   "name": "python",
   "nbconvert_exporter": "python",
   "pygments_lexer": "ipython3",
   "version": "3.7.4"
  }
 },
 "nbformat": 4,
 "nbformat_minor": 2
}
