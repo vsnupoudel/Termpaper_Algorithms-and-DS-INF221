{
 "cells": [
  {
   "cell_type": "code",
   "execution_count": 27,
   "metadata": {},
   "outputs": [],
   "source": [
    "def quick_comparison_and_swap (Inputlist, start, end): \n",
    "    pivot_last = Inputlist[end]\n",
    "    index_less_than = start -1\n",
    "    for comparison_index in range(start,end):\n",
    "        if Inputlist[comparison_index]<= pivot_last:\n",
    "            index_less_than += 1\n",
    "            Inputlist[index_less_than], Inputlist[comparison_index] = Inputlist[comparison_index], Inputlist[index_less_than]  \n",
    "    Inputlist[end] , Inputlist[index_less_than+1] =   Inputlist[index_less_than+1], Inputlist[end]  \n",
    "    return index_less_than+1  \n"
   ]
  },
  {
   "cell_type": "code",
   "execution_count": 28,
   "metadata": {},
   "outputs": [],
   "source": [
    "def quick_sort_helper(Inputlist,start,end):    \n",
    "    if start<end:\n",
    "        pivot = quick_comparison_and_swap (Inputlist,start,end)\n",
    "        quick_sort_helper(Inputlist, start,pivot-1)\n",
    "        quick_sort_helper(Inputlist,pivot+1,end )\n",
    "        return Inputlist       \n"
   ]
  },
  {
   "cell_type": "code",
   "execution_count": 29,
   "metadata": {},
   "outputs": [],
   "source": [
    "def quick_sort(Inputlist):\n",
    "    quick_sort_helper(Inputlist,0, len(Inputlist)-1 )\n",
    "    "
   ]
  },
  {
   "cell_type": "code",
   "execution_count": 30,
   "metadata": {},
   "outputs": [
    {
     "name": "stdout",
     "output_type": "stream",
     "text": [
      "[5 2 1 4 1 2 3 4 1 2 1 1]\n"
     ]
    }
   ],
   "source": [
    "import numpy as np\n",
    "A= np.array( [5,2,1,4,1,2,3,4,1,2,1,1])\n",
    "\n",
    "quick_sort(A)\n",
    "print(A)"
   ]
  },
  {
   "cell_type": "code",
   "execution_count": null,
   "metadata": {},
   "outputs": [],
   "source": []
  }
 ],
 "metadata": {
  "kernelspec": {
   "display_name": "Python 3",
   "language": "python",
   "name": "python3"
  }
 },
 "nbformat": 4,
 "nbformat_minor": 2
}
