{
 "cells": [
  {
   "cell_type": "markdown",
   "metadata": {},
   "source": [
    "By: Bishnu Poudel, Mohammed Radwan"
   ]
  },
  {
   "cell_type": "markdown",
   "metadata": {},
   "source": [
    "## Benchmark Sorting Algorithms: Run timing and store in a data frame then pickle it"
   ]
  },
  {
   "cell_type": "code",
   "execution_count": 5,
   "metadata": {},
   "outputs": [
    {
     "name": "stdout",
     "output_type": "stream",
     "text": [
      "Importing Jupyter notebook from quick_sort.ipynb\n",
      "Importing Jupyter notebook from merge_sort.ipynb\n",
      "Importing Jupyter notebook from heap_sort_heap_size.ipynb\n"
     ]
    }
   ],
   "source": [
    "import nbimporter\n",
    "from quick_sort import *\n",
    "from merge_sort import *\n",
    "from heap_sort_heap_size import *"
   ]
  },
  {
   "cell_type": "markdown",
   "metadata": {},
   "source": [
    "## Create a data frame"
   ]
  },
  {
   "cell_type": "code",
   "execution_count": 6,
   "metadata": {},
   "outputs": [
    {
     "data": {
      "text/html": [
       "<div>\n",
       "<style scoped>\n",
       "    .dataframe tbody tr th:only-of-type {\n",
       "        vertical-align: middle;\n",
       "    }\n",
       "\n",
       "    .dataframe tbody tr th {\n",
       "        vertical-align: top;\n",
       "    }\n",
       "\n",
       "    .dataframe thead th {\n",
       "        text-align: right;\n",
       "    }\n",
       "</style>\n",
       "<table border=\"1\" class=\"dataframe\">\n",
       "  <thead>\n",
       "    <tr style=\"text-align: right;\">\n",
       "      <th></th>\n",
       "      <th>Sort_Type</th>\n",
       "      <th>Data_Type_or_List_type</th>\n",
       "      <th>List_length</th>\n",
       "      <th>Runtimes</th>\n",
       "      <th>Number_of_repeatitions</th>\n",
       "      <th>Datetime</th>\n",
       "    </tr>\n",
       "  </thead>\n",
       "  <tbody>\n",
       "  </tbody>\n",
       "</table>\n",
       "</div>"
      ],
      "text/plain": [
       "Empty DataFrame\n",
       "Columns: [Sort_Type, Data_Type_or_List_type, List_length, Runtimes, Number_of_repeatitions, Datetime]\n",
       "Index: []"
      ]
     },
     "execution_count": 6,
     "metadata": {},
     "output_type": "execute_result"
    }
   ],
   "source": [
    "import pandas as pd\n",
    "import numpy as np\n",
    "columns = ['Sort_Type','Data_Type_or_List_type','List_length','Runtimes','Number_of_repeatitions','Datetime']\n",
    "df_ = pd.DataFrame( columns=columns)\n",
    "df_"
   ]
  },
  {
   "cell_type": "markdown",
   "metadata": {},
   "source": [
    "## Timeit function"
   ]
  },
  {
   "cell_type": "code",
   "execution_count": 7,
   "metadata": {},
   "outputs": [],
   "source": [
    "import numpy as np\n",
    "import timeit\n",
    "import copy\n",
    "\n",
    "def timing_function(number_of_data_points, sort_type, randomize_type, seed_number=12235):\n",
    "    np.random.seed (seed_number)\n",
    "    test_data = np.random.random(number_of_data_points ,)\n",
    "    test_data = list(test_data)\n",
    "    if randomize_type=='reverse_sorted':\n",
    "        test_data= sorted(test_data, reverse= True)\n",
    "    elif randomize_type=='sorted':\n",
    "        test_data= sorted(test_data)\n",
    "\n",
    "    clock = timeit.Timer ( stmt ='sort_func ( copy ( data) ) ', \n",
    "                           globals ={ 'sort_func': sort_type ,\n",
    "                            'data': test_data ,\n",
    "                            'copy': copy.copy })\n",
    "    n_ar , t_ar = clock.autorange()\n",
    "    t = [tm / n_ar for tm in clock.repeat(repeat=7, number=n_ar)]\n",
    "    return t, n_ar"
   ]
  },
  {
   "cell_type": "code",
   "execution_count": 8,
   "metadata": {},
   "outputs": [],
   "source": [
    "def get_time_and_write_to_dataframe(Algorithm, randomize_type):\n",
    "    time_data_points= []\n",
    "\n",
    "    for i in (10,20,40,80,160,320,640,1280,2560,5120\n",
    "              ,10240,20480,40960,81920,163840,327680,655360,1310720\n",
    "              ,2621440,5242880,10485760):\n",
    "        time , n_ar =   timing_function(i, Algorithm , randomize_type) \n",
    "        for each_time in time:\n",
    "#             print (each_time)\n",
    "            time_data_points.append( {'Sort_Type':Algorithm.__name__ , 'Data_Type_or_List_type':randomize_type\n",
    "           ,'List_length':i, 'Runtimes': each_time ,  'Number_of_repeatitions':n_ar\n",
    "           ,'Datetime':pd.Timestamp.now() } )\n",
    "    return time_data_points      \n",
    "    "
   ]
  },
  {
   "cell_type": "code",
   "execution_count": null,
   "metadata": {},
   "outputs": [],
   "source": [
    "# Do not run this part if you don't want the data again\n",
    "list_of_sorts = [np.sort, sorted ,quick_sort,merge_sort,heap_sort]\n",
    "list_of_randomize = ['random', 'reverse_sorted', 'sorted']\n",
    "path =\"C:\\\\Users\\\\bipo\\\\OneDrive - Norwegian University of Life Sciences\\\\termpaper01\\\\plots_and_data\\\\csvs\\\\_20191120\\\\\"\n",
    "\n",
    "for sort in list_of_sorts:\n",
    "    for permut in list_of_randomize:\n",
    "        columns = ['Sort_Type','Data_Type_or_List_type','List_length','Runtimes','Number_of_repeatitions','Datetime']\n",
    "        df_ = pd.DataFrame( columns=columns)\n",
    "        df_\n",
    "        list_of_dict = get_time_and_write_to_dataframe(sort, permut)\n",
    "        df_= df_.append(list_of_dict)\n",
    "        df_.to_csv (path+sort.__name__+'_'+permut+'.csv', index = None, header=True)\n",
    "        del df_"
   ]
  },
  {
   "cell_type": "code",
   "execution_count": null,
   "metadata": {
    "scrolled": true
   },
   "outputs": [],
   "source": [
    "df_.to_csv (r'all_together.csv', index = None, header=True)\n",
    "\n",
    "import pickle\n",
    "\n",
    "name = 'all_pickle.txt' \n",
    "f=open( name , 'ab')\n",
    "pickle.dump(df_,f)\n",
    "f.close()\n",
    "\n",
    "# See the data\n",
    "df_"
   ]
  },
  {
   "cell_type": "code",
   "execution_count": null,
   "metadata": {},
   "outputs": [],
   "source": []
  }
 ],
 "metadata": {
  "kernelspec": {
   "display_name": "Python 3",
   "language": "python",
   "name": "python3"
  },
  "language_info": {
   "codemirror_mode": {
    "name": "ipython",
    "version": 3
   },
   "file_extension": ".py",
   "mimetype": "text/x-python",
   "name": "python",
   "nbconvert_exporter": "python",
   "pygments_lexer": "ipython3",
   "version": "3.7.4"
  }
 },
 "nbformat": 4,
 "nbformat_minor": 2
}
