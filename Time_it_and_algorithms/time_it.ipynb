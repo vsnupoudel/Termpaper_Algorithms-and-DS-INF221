{
 "cells": [
  {
   "cell_type": "markdown",
   "metadata": {},
   "source": [
    "By: Bishnu Poudel, Mohammed Radwan"
   ]
  },
  {
   "cell_type": "markdown",
   "metadata": {},
   "source": [
    "## Benchmark Sorting Algorithms: Run timing and store in a data frame then pickle it"
   ]
  },
  {
   "cell_type": "code",
   "execution_count": 1,
   "metadata": {},
   "outputs": [
    {
     "name": "stdout",
     "output_type": "stream",
     "text": [
      "Importing Jupyter notebook from quick_sort.ipynb\n",
      "Importing Jupyter notebook from merge_sort.ipynb\n",
      "Importing Jupyter notebook from heap_sort_heap_size.ipynb\n"
     ]
    }
   ],
   "source": [
    "import nbimporter\n",
    "from quick_sort import *\n",
    "from merge_sort import *\n",
    "from heap_sort_heap_size import *"
   ]
  },
  {
   "cell_type": "markdown",
   "metadata": {},
   "source": [
    "## Create a data frame"
   ]
  },
  {
   "cell_type": "code",
   "execution_count": 2,
   "metadata": {},
   "outputs": [
    {
     "data": {
      "text/html": [
       "<div>\n",
       "<style scoped>\n",
       "    .dataframe tbody tr th:only-of-type {\n",
       "        vertical-align: middle;\n",
       "    }\n",
       "\n",
       "    .dataframe tbody tr th {\n",
       "        vertical-align: top;\n",
       "    }\n",
       "\n",
       "    .dataframe thead th {\n",
       "        text-align: right;\n",
       "    }\n",
       "</style>\n",
       "<table border=\"1\" class=\"dataframe\">\n",
       "  <thead>\n",
       "    <tr style=\"text-align: right;\">\n",
       "      <th></th>\n",
       "      <th>Sort_Type</th>\n",
       "      <th>Data_Type_or_List_type</th>\n",
       "      <th>List_length</th>\n",
       "      <th>Runtimes</th>\n",
       "      <th>Number_of_repeatitions</th>\n",
       "      <th>Datetime</th>\n",
       "    </tr>\n",
       "  </thead>\n",
       "  <tbody>\n",
       "  </tbody>\n",
       "</table>\n",
       "</div>"
      ],
      "text/plain": [
       "Empty DataFrame\n",
       "Columns: [Sort_Type, Data_Type_or_List_type, List_length, Runtimes, Number_of_repeatitions, Datetime]\n",
       "Index: []"
      ]
     },
     "execution_count": 2,
     "metadata": {},
     "output_type": "execute_result"
    }
   ],
   "source": [
    "import pandas as pd\n",
    "import numpy as np\n",
    "columns = ['Sort_Type','Data_Type_or_List_type','List_length','Runtimes','Number_of_repeatitions','Datetime']\n",
    "df_ = pd.DataFrame( columns=columns)\n",
    "df_"
   ]
  },
  {
   "cell_type": "markdown",
   "metadata": {},
   "source": [
    "## Timeit function"
   ]
  },
  {
   "cell_type": "code",
   "execution_count": 3,
   "metadata": {},
   "outputs": [],
   "source": [
    "import numpy as np\n",
    "import timeit\n",
    "import copy\n",
    "\n",
    "def timing_function(number_of_data_points, sort_type, seed_number=12235):\n",
    "    np.random.seed (seed_number)\n",
    "    test_data = np.random.random(number_of_data_points ,)\n",
    "    test_data = list(test_data)\n",
    "    test_data= sorted(test_data, reverse= True)\n",
    "\n",
    "    clock = timeit.Timer ( stmt ='sort_func ( copy ( data) ) ', \n",
    "                           globals ={ 'sort_func': sort_type ,\n",
    "                            'data': test_data ,\n",
    "                            'copy': copy.copy })\n",
    "    n_ar , t_ar = clock.autorange ()\n",
    "    t = clock.repeat ( repeat =7, number = n_ar )\n",
    "    return t"
   ]
  },
  {
   "cell_type": "code",
   "execution_count": 4,
   "metadata": {},
   "outputs": [],
   "source": [
    "def get_time_and_write_to_dataframe(Algorithm):\n",
    "    time_data_points= []\n",
    "\n",
    "    for i in (10\n",
    "              ,20,40,80,160,320,640,1280,2560,5120\n",
    "              ,10240,20480,40960,81920,163840,327680,655360,1310720\n",
    "              ,2621440,5242880,10485760):\n",
    "        time =   timing_function(i, Algorithm ) \n",
    "        for each_time in time:\n",
    "#             print (each_time)\n",
    "            time_data_points.append( {'Sort_Type':Algorithm.__name__ , 'Data_Type_or_List_type':'reverese_sorted'\n",
    "           ,'List_length':i, 'Runtimes': each_time ,  'Number_of_repeatitions':'7'\n",
    "           ,'Datetime':pd.Timestamp.now() } )\n",
    "    return time_data_points      \n",
    "    "
   ]
  },
  {
   "cell_type": "code",
   "execution_count": 5,
   "metadata": {},
   "outputs": [],
   "source": [
    "# Do not run this part if you don't want the data again\n",
    "list_of_dict = get_time_and_write_to_dataframe(heap_sort)"
   ]
  },
  {
   "cell_type": "code",
   "execution_count": 6,
   "metadata": {},
   "outputs": [
    {
     "data": {
      "text/html": [
       "<div>\n",
       "<style scoped>\n",
       "    .dataframe tbody tr th:only-of-type {\n",
       "        vertical-align: middle;\n",
       "    }\n",
       "\n",
       "    .dataframe tbody tr th {\n",
       "        vertical-align: top;\n",
       "    }\n",
       "\n",
       "    .dataframe thead th {\n",
       "        text-align: right;\n",
       "    }\n",
       "</style>\n",
       "<table border=\"1\" class=\"dataframe\">\n",
       "  <thead>\n",
       "    <tr style=\"text-align: right;\">\n",
       "      <th></th>\n",
       "      <th>Sort_Type</th>\n",
       "      <th>Data_Type_or_List_type</th>\n",
       "      <th>List_length</th>\n",
       "      <th>Runtimes</th>\n",
       "      <th>Number_of_repeatitions</th>\n",
       "      <th>Datetime</th>\n",
       "    </tr>\n",
       "  </thead>\n",
       "  <tbody>\n",
       "    <tr>\n",
       "      <td>0</td>\n",
       "      <td>heap_sort</td>\n",
       "      <td>reverese_sorted</td>\n",
       "      <td>10</td>\n",
       "      <td>0.352048</td>\n",
       "      <td>7</td>\n",
       "      <td>2019-11-02 08:35:10.011534</td>\n",
       "    </tr>\n",
       "    <tr>\n",
       "      <td>1</td>\n",
       "      <td>heap_sort</td>\n",
       "      <td>reverese_sorted</td>\n",
       "      <td>10</td>\n",
       "      <td>0.305705</td>\n",
       "      <td>7</td>\n",
       "      <td>2019-11-02 08:35:10.011534</td>\n",
       "    </tr>\n",
       "    <tr>\n",
       "      <td>2</td>\n",
       "      <td>heap_sort</td>\n",
       "      <td>reverese_sorted</td>\n",
       "      <td>10</td>\n",
       "      <td>0.290089</td>\n",
       "      <td>7</td>\n",
       "      <td>2019-11-02 08:35:10.011534</td>\n",
       "    </tr>\n",
       "    <tr>\n",
       "      <td>3</td>\n",
       "      <td>heap_sort</td>\n",
       "      <td>reverese_sorted</td>\n",
       "      <td>10</td>\n",
       "      <td>0.274926</td>\n",
       "      <td>7</td>\n",
       "      <td>2019-11-02 08:35:10.011534</td>\n",
       "    </tr>\n",
       "    <tr>\n",
       "      <td>4</td>\n",
       "      <td>heap_sort</td>\n",
       "      <td>reverese_sorted</td>\n",
       "      <td>10</td>\n",
       "      <td>0.447738</td>\n",
       "      <td>7</td>\n",
       "      <td>2019-11-02 08:35:10.011534</td>\n",
       "    </tr>\n",
       "    <tr>\n",
       "      <td>...</td>\n",
       "      <td>...</td>\n",
       "      <td>...</td>\n",
       "      <td>...</td>\n",
       "      <td>...</td>\n",
       "      <td>...</td>\n",
       "      <td>...</td>\n",
       "    </tr>\n",
       "    <tr>\n",
       "      <td>142</td>\n",
       "      <td>heap_sort</td>\n",
       "      <td>reverese_sorted</td>\n",
       "      <td>10485760</td>\n",
       "      <td>605.025936</td>\n",
       "      <td>7</td>\n",
       "      <td>2019-11-02 10:56:32.456308</td>\n",
       "    </tr>\n",
       "    <tr>\n",
       "      <td>143</td>\n",
       "      <td>heap_sort</td>\n",
       "      <td>reverese_sorted</td>\n",
       "      <td>10485760</td>\n",
       "      <td>613.715586</td>\n",
       "      <td>7</td>\n",
       "      <td>2019-11-02 10:56:32.456308</td>\n",
       "    </tr>\n",
       "    <tr>\n",
       "      <td>144</td>\n",
       "      <td>heap_sort</td>\n",
       "      <td>reverese_sorted</td>\n",
       "      <td>10485760</td>\n",
       "      <td>462.572268</td>\n",
       "      <td>7</td>\n",
       "      <td>2019-11-02 10:56:32.456308</td>\n",
       "    </tr>\n",
       "    <tr>\n",
       "      <td>145</td>\n",
       "      <td>heap_sort</td>\n",
       "      <td>reverese_sorted</td>\n",
       "      <td>10485760</td>\n",
       "      <td>419.299901</td>\n",
       "      <td>7</td>\n",
       "      <td>2019-11-02 10:56:32.456308</td>\n",
       "    </tr>\n",
       "    <tr>\n",
       "      <td>146</td>\n",
       "      <td>heap_sort</td>\n",
       "      <td>reverese_sorted</td>\n",
       "      <td>10485760</td>\n",
       "      <td>467.856438</td>\n",
       "      <td>7</td>\n",
       "      <td>2019-11-02 10:56:32.456308</td>\n",
       "    </tr>\n",
       "  </tbody>\n",
       "</table>\n",
       "<p>147 rows × 6 columns</p>\n",
       "</div>"
      ],
      "text/plain": [
       "     Sort_Type Data_Type_or_List_type List_length    Runtimes  \\\n",
       "0    heap_sort        reverese_sorted          10    0.352048   \n",
       "1    heap_sort        reverese_sorted          10    0.305705   \n",
       "2    heap_sort        reverese_sorted          10    0.290089   \n",
       "3    heap_sort        reverese_sorted          10    0.274926   \n",
       "4    heap_sort        reverese_sorted          10    0.447738   \n",
       "..         ...                    ...         ...         ...   \n",
       "142  heap_sort        reverese_sorted    10485760  605.025936   \n",
       "143  heap_sort        reverese_sorted    10485760  613.715586   \n",
       "144  heap_sort        reverese_sorted    10485760  462.572268   \n",
       "145  heap_sort        reverese_sorted    10485760  419.299901   \n",
       "146  heap_sort        reverese_sorted    10485760  467.856438   \n",
       "\n",
       "    Number_of_repeatitions                   Datetime  \n",
       "0                        7 2019-11-02 08:35:10.011534  \n",
       "1                        7 2019-11-02 08:35:10.011534  \n",
       "2                        7 2019-11-02 08:35:10.011534  \n",
       "3                        7 2019-11-02 08:35:10.011534  \n",
       "4                        7 2019-11-02 08:35:10.011534  \n",
       "..                     ...                        ...  \n",
       "142                      7 2019-11-02 10:56:32.456308  \n",
       "143                      7 2019-11-02 10:56:32.456308  \n",
       "144                      7 2019-11-02 10:56:32.456308  \n",
       "145                      7 2019-11-02 10:56:32.456308  \n",
       "146                      7 2019-11-02 10:56:32.456308  \n",
       "\n",
       "[147 rows x 6 columns]"
      ]
     },
     "execution_count": 6,
     "metadata": {},
     "output_type": "execute_result"
    }
   ],
   "source": [
    "df_= df_.append(list_of_dict)\n",
    "df_.to_csv (r'heap_sort_reverese_sorted.csv', index = None, header=True)\n",
    "\n",
    "import pickle\n",
    "\n",
    "name = 'heap_sort_reverese_sorted.txt' \n",
    "f=open( name , 'ab')\n",
    "pickle.dump(df_,f)\n",
    "f.close()\n",
    "\n",
    "# See the data\n",
    "df_"
   ]
  }
 ],
 "metadata": {
  "kernelspec": {
   "display_name": "Python 3",
   "language": "python",
   "name": "python3"
  },
  "language_info": {
   "codemirror_mode": {
    "name": "ipython",
    "version": 3
   },
   "file_extension": ".py",
   "mimetype": "text/x-python",
   "name": "python",
   "nbconvert_exporter": "python",
   "pygments_lexer": "ipython3",
   "version": "3.7.4"
  }
 },
 "nbformat": 4,
 "nbformat_minor": 2
}
