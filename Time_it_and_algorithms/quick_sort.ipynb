{
 "cells": [
  {
   "cell_type": "code",
   "execution_count": 1,
   "metadata": {},
   "outputs": [],
   "source": [
    "import numpy as np\n",
    "def quick_comparison_and_swap (Inputlist, start, end): \n",
    "    p = int( np.floor((start+end) /2 ))\n",
    "    pivot_last = Inputlist[p]\n",
    "    index_less_than = start -1\n",
    "    \n",
    "    for comparison_index in range(start,end):\n",
    "        if Inputlist[comparison_index]<= pivot_last:\n",
    "            index_less_than += 1\n",
    "            Inputlist[index_less_than], Inputlist[comparison_index]\\\n",
    "            = Inputlist[comparison_index], Inputlist[index_less_than]  \n",
    "            \n",
    "    Inputlist[end] , Inputlist[index_less_than+1] \\\n",
    "    =   Inputlist[index_less_than+1], Inputlist[end]  \n",
    "    return index_less_than+1  \n"
   ]
  },
  {
   "cell_type": "code",
   "execution_count": 2,
   "metadata": {},
   "outputs": [],
   "source": [
    "def quick_sort_helper(Inputlist,start,end):    \n",
    "    if start<end:\n",
    "        pivot = quick_comparison_and_swap (Inputlist,start,end)\n",
    "        quick_sort_helper(Inputlist, start,pivot-1)\n",
    "        quick_sort_helper(Inputlist,pivot+1,end )\n",
    "        return Inputlist       \n"
   ]
  },
  {
   "cell_type": "code",
   "execution_count": 3,
   "metadata": {},
   "outputs": [],
   "source": [
    "def quick_sort(Inputlist):\n",
    "    quick_sort_helper(Inputlist,0, len(Inputlist)-1 )\n",
    "    "
   ]
  },
  {
   "cell_type": "code",
   "execution_count": 4,
   "metadata": {},
   "outputs": [
    {
     "name": "stdout",
     "output_type": "stream",
     "text": [
      "[1 1 1 2 2 2 1 1 4 3 4 5]\n"
     ]
    }
   ],
   "source": [
    "import numpy as np\n",
    "A= np.array( [5,2,1,4,1,2,3,4,1,2,1,1])\n",
    "\n",
    "quick_sort(A)\n",
    "print(A)"
   ]
  },
  {
   "cell_type": "code",
   "execution_count": null,
   "metadata": {},
   "outputs": [],
   "source": []
  }
 ],
 "metadata": {
  "kernelspec": {
   "display_name": "Python 3",
   "language": "python",
   "name": "python3"
  },
  "language_info": {
   "codemirror_mode": {
    "name": "ipython",
    "version": 3
   },
   "file_extension": ".py",
   "mimetype": "text/x-python",
   "name": "python",
   "nbconvert_exporter": "python",
   "pygments_lexer": "ipython3",
   "version": "3.7.4"
  }
 },
 "nbformat": 4,
 "nbformat_minor": 2
}
