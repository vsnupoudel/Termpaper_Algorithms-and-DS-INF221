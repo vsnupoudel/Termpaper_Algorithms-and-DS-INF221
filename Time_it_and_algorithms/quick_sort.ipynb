{
 "cells": [
  {
   "cell_type": "code",
   "execution_count": 27,
   "metadata": {},
   "outputs": [],
   "source": [
    "def quick_comparison_and_swap (Inputlist, start, end): \n",
    "    pivot_last = Inputlist[end]\n",
    "    index_less_than = start -1\n",
    "    \n",
    "    for comparison_index in range(start,end):\n",
    "        if Inputlist[comparison_index]<= pivot_last:\n",
    "            index_less_than += 1\n",
    "            Inputlist[index_less_than], Inputlist[comparison_index]\\\n",
    "            = Inputlist[comparison_index], Inputlist[index_less_than]  \n",
    "            \n",
    "    Inputlist[end] , Inputlist[index_less_than+1] \\\n",
    "    =   Inputlist[index_less_than+1], Inputlist[end]  \n",
    "    return index_less_than+1  \n"
   ]
  },
  {
   "cell_type": "code",
   "execution_count": 28,
   "metadata": {},
   "outputs": [],
   "source": [
    "def quick_sort_helper(Inputlist,start,end):    \n",
    "    if start<end:\n",
    "        pivot = quick_comparison_and_swap (Inputlist,start,end)\n",
    "        quick_sort_helper(Inputlist, start,pivot-1)\n",
    "        quick_sort_helper(Inputlist,pivot+1,end )\n",
    "        return Inputlist       \n"
   ]
  },
  {
   "cell_type": "code",
   "execution_count": 29,
   "metadata": {},
   "outputs": [],
   "source": [
    "def quick_sort(Inputlist):\n",
    "    quick_sort_helper(Inputlist,0, len(Inputlist)-1 )\n",
    "    "
   ]
  },
  {
   "cell_type": "code",
   "execution_count": 30,
   "metadata": {},
   "outputs": [
    {
     "name": "stdout",
     "output_type": "stream",
     "text": [
      "[5 2 1 4 1 2 3 4 1 2 1 1]\n"
     ]
    }
   ],
   "source": [
    "import numpy as np\n",
    "A= np.array( [5,2,1,4,1,2,3,4,1,2,1,1])\n",
    "\n",
    "quick_sort(A)\n",
    "print(A)"
   ]
  },
  {
   "cell_type": "code",
   "execution_count": 3,
   "metadata": {},
   "outputs": [
    {
     "data": {
      "text/plain": [
       "'1.16.5'"
      ]
     },
     "execution_count": 3,
     "metadata": {},
     "output_type": "execute_result"
    }
   ],
   "source": [
    "import numpy\n",
    "numpy.__version__\n"
   ]
  },
  {
   "cell_type": "code",
   "execution_count": 4,
   "metadata": {},
   "outputs": [
    {
     "data": {
      "text/plain": [
       "'0.25.1'"
      ]
     },
     "execution_count": 4,
     "metadata": {},
     "output_type": "execute_result"
    }
   ],
   "source": [
    "import pandas\n",
    "pandas.__version__"
   ]
  },
  {
   "cell_type": "code",
   "execution_count": 6,
   "metadata": {
    "scrolled": true
   },
   "outputs": [
    {
     "name": "stdout",
     "output_type": "stream",
     "text": [
      "Name: pandasql\n",
      "Version: 0.7.3\n",
      "Summary: sqldf for pandas\n",
      "Home-page: https://github.com/yhat/pandasql/\n",
      "Author: Greg Lamp\n",
      "Author-email: greg@yhathq.com\n",
      "License: Copyright (c) 2013 Yhat, Inc.\n",
      "Location: c:\\users\\admin\\anaconda3\\envs\\termpaper01\\lib\\site-packages\n",
      "Requires: pandas, sqlalchemy, numpy\n",
      "Required-by: \n",
      "Note: you may need to restart the kernel to use updated packages.\n"
     ]
    }
   ],
   "source": [
    "pip show pandasql"
   ]
  },
  {
   "cell_type": "code",
   "execution_count": 7,
   "metadata": {
    "scrolled": true
   },
   "outputs": [
    {
     "name": "stdout",
     "output_type": "stream",
     "text": [
      "Name: pandas\n",
      "Version: 0.25.1\n",
      "Summary: Powerful data structures for data analysis, time series, and statistics\n",
      "Home-page: http://pandas.pydata.org\n",
      "Author: None\n",
      "Author-email: None\n",
      "License: BSD\n",
      "Location: c:\\users\\admin\\anaconda3\\envs\\termpaper01\\lib\\site-packages\n",
      "Requires: numpy, python-dateutil, pytz\n",
      "Required-by: statsmodels, seaborn, pandasql\n",
      "Note: you may need to restart the kernel to use updated packages.\n"
     ]
    }
   ],
   "source": [
    "pip show pandas\n"
   ]
  },
  {
   "cell_type": "code",
   "execution_count": 8,
   "metadata": {},
   "outputs": [
    {
     "data": {
      "text/plain": [
       "'3.1.1'"
      ]
     },
     "execution_count": 8,
     "metadata": {},
     "output_type": "execute_result"
    }
   ],
   "source": [
    "import matplotlib\n",
    "matplotlib.__version__"
   ]
  },
  {
   "cell_type": "code",
   "execution_count": 9,
   "metadata": {},
   "outputs": [
    {
     "name": "stdout",
     "output_type": "stream",
     "text": [
      "3.7.4\n"
     ]
    }
   ],
   "source": [
    "from platform import python_version\n",
    "\n",
    "print(python_version())"
   ]
  },
  {
   "cell_type": "code",
   "execution_count": null,
   "metadata": {},
   "outputs": [],
   "source": []
  }
 ],
 "metadata": {
  "kernelspec": {
   "display_name": "Python 3",
   "language": "python",
   "name": "python3"
  },
  "language_info": {
   "codemirror_mode": {
    "name": "ipython",
    "version": 3
   },
   "file_extension": ".py",
   "mimetype": "text/x-python",
   "name": "python",
   "nbconvert_exporter": "python",
   "pygments_lexer": "ipython3",
   "version": "3.7.4"
  }
 },
 "nbformat": 4,
 "nbformat_minor": 2
}
