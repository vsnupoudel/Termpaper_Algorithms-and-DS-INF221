{
 "cells": [
  {
   "cell_type": "code",
   "execution_count": 48,
   "metadata": {},
   "outputs": [],
   "source": [
    "import pandas as pd\n",
    "import numpy as np\n",
    "columns = ['Sort_Type','Data_Type_or_List_type','List_length','Runtimes','Number_of_repeatitions','Datetime']\n",
    "df_ = pd.DataFrame( columns=columns)"
   ]
  },
  {
   "cell_type": "code",
   "execution_count": 49,
   "metadata": {},
   "outputs": [
    {
     "data": {
      "text/html": [
       "<div>\n",
       "<style scoped>\n",
       "    .dataframe tbody tr th:only-of-type {\n",
       "        vertical-align: middle;\n",
       "    }\n",
       "\n",
       "    .dataframe tbody tr th {\n",
       "        vertical-align: top;\n",
       "    }\n",
       "\n",
       "    .dataframe thead th {\n",
       "        text-align: right;\n",
       "    }\n",
       "</style>\n",
       "<table border=\"1\" class=\"dataframe\">\n",
       "  <thead>\n",
       "    <tr style=\"text-align: right;\">\n",
       "      <th></th>\n",
       "      <th>Sort_Type</th>\n",
       "      <th>Data_Type_or_List_type</th>\n",
       "      <th>List_length</th>\n",
       "      <th>Runtimes</th>\n",
       "      <th>Number_of_repeatitions</th>\n",
       "      <th>Datetime</th>\n",
       "    </tr>\n",
       "  </thead>\n",
       "  <tbody>\n",
       "  </tbody>\n",
       "</table>\n",
       "</div>"
      ],
      "text/plain": [
       "Empty DataFrame\n",
       "Columns: [Sort_Type, Data_Type_or_List_type, List_length, Runtimes, Number_of_repeatitions, Datetime]\n",
       "Index: []"
      ]
     },
     "execution_count": 49,
     "metadata": {},
     "output_type": "execute_result"
    }
   ],
   "source": [
    "df_"
   ]
  },
  {
   "cell_type": "code",
   "execution_count": 50,
   "metadata": {},
   "outputs": [],
   "source": [
    "import pandas as pd\n",
    "import numpy as np\n",
    "import datetime"
   ]
  },
  {
   "cell_type": "code",
   "execution_count": 51,
   "metadata": {},
   "outputs": [],
   "source": [
    "values =[ {'Sort_Type':'pythons Sorted', 'Data_Type_or_List_type':'already sorted'\n",
    "           ,'List_length':'10', 'Runtimes': '0.7',  'Number_of_repeatitions':'7'\n",
    "           ,'Datetime':pd.Timestamp.now()} ]"
   ]
  },
  {
   "cell_type": "code",
   "execution_count": 52,
   "metadata": {},
   "outputs": [],
   "source": [
    "df_= df_.append(values)"
   ]
  },
  {
   "cell_type": "code",
   "execution_count": 56,
   "metadata": {},
   "outputs": [],
   "source": [
    "values =[ {'Sort_Type':'pythons Sorted', 'Data_Type_or_List_type':'already sorted'\n",
    "           ,'List_length':'10', 'Runtimes': [0.7,0.9],  'Number_of_repeatitions':'7'\n",
    "           ,'Datetime':pd.Timestamp.now()} ]"
   ]
  },
  {
   "cell_type": "code",
   "execution_count": 57,
   "metadata": {},
   "outputs": [],
   "source": [
    "df_=df_.append(values)"
   ]
  },
  {
   "cell_type": "code",
   "execution_count": 58,
   "metadata": {},
   "outputs": [
    {
     "data": {
      "text/html": [
       "<div>\n",
       "<style scoped>\n",
       "    .dataframe tbody tr th:only-of-type {\n",
       "        vertical-align: middle;\n",
       "    }\n",
       "\n",
       "    .dataframe tbody tr th {\n",
       "        vertical-align: top;\n",
       "    }\n",
       "\n",
       "    .dataframe thead th {\n",
       "        text-align: right;\n",
       "    }\n",
       "</style>\n",
       "<table border=\"1\" class=\"dataframe\">\n",
       "  <thead>\n",
       "    <tr style=\"text-align: right;\">\n",
       "      <th></th>\n",
       "      <th>Sort_Type</th>\n",
       "      <th>Data_Type_or_List_type</th>\n",
       "      <th>List_length</th>\n",
       "      <th>Runtimes</th>\n",
       "      <th>Number_of_repeatitions</th>\n",
       "      <th>Datetime</th>\n",
       "    </tr>\n",
       "  </thead>\n",
       "  <tbody>\n",
       "    <tr>\n",
       "      <th>0</th>\n",
       "      <td>pythons Sorted</td>\n",
       "      <td>already sorted</td>\n",
       "      <td>10</td>\n",
       "      <td>0.7</td>\n",
       "      <td>7</td>\n",
       "      <td>2019-10-31 11:00:06.207232</td>\n",
       "    </tr>\n",
       "    <tr>\n",
       "      <th>0</th>\n",
       "      <td>pythons Sorted</td>\n",
       "      <td>already sorted</td>\n",
       "      <td>10</td>\n",
       "      <td>0.7</td>\n",
       "      <td>7</td>\n",
       "      <td>2019-10-31 11:00:07.996334</td>\n",
       "    </tr>\n",
       "    <tr>\n",
       "      <th>0</th>\n",
       "      <td>pythons Sorted</td>\n",
       "      <td>already sorted</td>\n",
       "      <td>10</td>\n",
       "      <td>[0.7, 0.9]</td>\n",
       "      <td>7</td>\n",
       "      <td>2019-10-31 11:01:03.543392</td>\n",
       "    </tr>\n",
       "  </tbody>\n",
       "</table>\n",
       "</div>"
      ],
      "text/plain": [
       "        Sort_Type Data_Type_or_List_type List_length    Runtimes  \\\n",
       "0  pythons Sorted         already sorted          10         0.7   \n",
       "0  pythons Sorted         already sorted          10         0.7   \n",
       "0  pythons Sorted         already sorted          10  [0.7, 0.9]   \n",
       "\n",
       "  Number_of_repeatitions                   Datetime  \n",
       "0                      7 2019-10-31 11:00:06.207232  \n",
       "0                      7 2019-10-31 11:00:07.996334  \n",
       "0                      7 2019-10-31 11:01:03.543392  "
      ]
     },
     "execution_count": 58,
     "metadata": {},
     "output_type": "execute_result"
    }
   ],
   "source": [
    "df_"
   ]
  },
  {
   "cell_type": "code",
   "execution_count": null,
   "metadata": {},
   "outputs": [],
   "source": []
  }
 ],
 "metadata": {
  "kernelspec": {
   "display_name": "Python 3",
   "language": "python",
   "name": "python3"
  },
  "language_info": {
   "codemirror_mode": {
    "name": "ipython",
    "version": 3
   },
   "file_extension": ".py",
   "mimetype": "text/x-python",
   "name": "python",
   "nbconvert_exporter": "python",
   "pygments_lexer": "ipython3",
   "version": "3.7.3"
  }
 },
 "nbformat": 4,
 "nbformat_minor": 2
}
