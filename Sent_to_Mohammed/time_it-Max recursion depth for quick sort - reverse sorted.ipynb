{
 "cells": [
  {
   "cell_type": "markdown",
   "metadata": {},
   "source": [
    "By: Bishnu Poudel, Mohammed Radwan"
   ]
  },
  {
   "cell_type": "markdown",
   "metadata": {},
   "source": [
    "## Benchmark Sorting Algorithms: Run timing and store in a data frame then pickle it"
   ]
  },
  {
   "cell_type": "code",
   "execution_count": 1,
   "metadata": {},
   "outputs": [
    {
     "name": "stdout",
     "output_type": "stream",
     "text": [
      "Importing Jupyter notebook from quick_sort.ipynb\n",
      "Importing Jupyter notebook from merge_sort.ipynb\n",
      "Importing Jupyter notebook from heap_sort_heap_size.ipynb\n"
     ]
    }
   ],
   "source": [
    "import nbimporter\n",
    "from quick_sort import *\n",
    "from merge_sort import *\n",
    "from heap_sort_heap_size import *"
   ]
  },
  {
   "cell_type": "markdown",
   "metadata": {},
   "source": [
    "## Timeit function"
   ]
  },
  {
   "cell_type": "code",
   "execution_count": 8,
   "metadata": {},
   "outputs": [],
   "source": [
    "import numpy as np\n",
    "import timeit\n",
    "import copy\n",
    "\n",
    "def timing_function(number_of_data_points, sort_type,randomization_type, seed_number=12235):\n",
    "    np.random.seed (seed_number)\n",
    "    test_data = np.random.random(number_of_data_points ,)\n",
    "    test_data = list(test_data)\n",
    "    if randomization_type=='reverse':\n",
    "        test_data= sorted(test_data, reverse =True)\n",
    "    elif randomization_type=='sorted':\n",
    "        test_data= sorted(test_data)\n",
    "\n",
    "    clock = timeit.Timer ( stmt ='sort_func ( copy ( data) ) ', \n",
    "                           globals ={ 'sort_func': sort_type ,\n",
    "                            'data': test_data ,\n",
    "                            'copy': copy.copy })\n",
    "    n_ar , t_ar = clock.autorange ()\n",
    "    t = clock.repeat ( repeat =7, number = n_ar )\n",
    "    return t"
   ]
  },
  {
   "cell_type": "code",
   "execution_count": 9,
   "metadata": {},
   "outputs": [],
   "source": [
    "def get_time_and_write_to_dataframe(Algorithm, randomization_type):\n",
    "    time_data_points= []\n",
    "\n",
    "    for i in (10,20,40,80,160,320,640,1280,2560 ): #,5120):\n",
    "#               ,10240,20480,40960,81920,163840,327680,655360,1310720\n",
    "#               ,2621440,5242880,10485760):\n",
    "        time =   timing_function(i, Algorithm ,randomization_type) \n",
    "        for each_time in time:\n",
    "#             print (each_time)\n",
    "            time_data_points.append( {'Sort_Type':Algorithm.__name__ , 'Data_Type_or_List_type':randomization_type\n",
    "           ,'List_length':i, 'Runtimes': each_time ,  'Number_of_repeatitions':'7'\n",
    "           ,'Datetime':pd.Timestamp.now() } )\n",
    "    return time_data_points      \n",
    "    "
   ]
  },
  {
   "cell_type": "code",
   "execution_count": 19,
   "metadata": {},
   "outputs": [],
   "source": [
    "# Do not run this part if you don't want the data again\n",
    "list_of_dict = get_time_and_write_to_dataframe(quick_sort,\"reverse\")"
   ]
  },
  {
   "cell_type": "markdown",
   "metadata": {},
   "source": [
    "## Create a data frame"
   ]
  },
  {
   "cell_type": "code",
   "execution_count": 20,
   "metadata": {},
   "outputs": [
    {
     "data": {
      "text/html": [
       "<div>\n",
       "<style scoped>\n",
       "    .dataframe tbody tr th:only-of-type {\n",
       "        vertical-align: middle;\n",
       "    }\n",
       "\n",
       "    .dataframe tbody tr th {\n",
       "        vertical-align: top;\n",
       "    }\n",
       "\n",
       "    .dataframe thead th {\n",
       "        text-align: right;\n",
       "    }\n",
       "</style>\n",
       "<table border=\"1\" class=\"dataframe\">\n",
       "  <thead>\n",
       "    <tr style=\"text-align: right;\">\n",
       "      <th></th>\n",
       "      <th>Sort_Type</th>\n",
       "      <th>Data_Type_or_List_type</th>\n",
       "      <th>List_length</th>\n",
       "      <th>Runtimes</th>\n",
       "      <th>Number_of_repeatitions</th>\n",
       "      <th>Datetime</th>\n",
       "    </tr>\n",
       "  </thead>\n",
       "  <tbody>\n",
       "    <tr>\n",
       "      <td>0</td>\n",
       "      <td>quick_sort</td>\n",
       "      <td>reverse</td>\n",
       "      <td>10</td>\n",
       "      <td>0.327710</td>\n",
       "      <td>7</td>\n",
       "      <td>2019-11-03 03:22:08.340169</td>\n",
       "    </tr>\n",
       "    <tr>\n",
       "      <td>1</td>\n",
       "      <td>quick_sort</td>\n",
       "      <td>reverse</td>\n",
       "      <td>10</td>\n",
       "      <td>0.307672</td>\n",
       "      <td>7</td>\n",
       "      <td>2019-11-03 03:22:08.340169</td>\n",
       "    </tr>\n",
       "    <tr>\n",
       "      <td>2</td>\n",
       "      <td>quick_sort</td>\n",
       "      <td>reverse</td>\n",
       "      <td>10</td>\n",
       "      <td>0.286445</td>\n",
       "      <td>7</td>\n",
       "      <td>2019-11-03 03:22:08.340169</td>\n",
       "    </tr>\n",
       "    <tr>\n",
       "      <td>3</td>\n",
       "      <td>quick_sort</td>\n",
       "      <td>reverse</td>\n",
       "      <td>10</td>\n",
       "      <td>0.386726</td>\n",
       "      <td>7</td>\n",
       "      <td>2019-11-03 03:22:08.340169</td>\n",
       "    </tr>\n",
       "    <tr>\n",
       "      <td>4</td>\n",
       "      <td>quick_sort</td>\n",
       "      <td>reverse</td>\n",
       "      <td>10</td>\n",
       "      <td>0.445775</td>\n",
       "      <td>7</td>\n",
       "      <td>2019-11-03 03:22:08.340169</td>\n",
       "    </tr>\n",
       "    <tr>\n",
       "      <td>...</td>\n",
       "      <td>...</td>\n",
       "      <td>...</td>\n",
       "      <td>...</td>\n",
       "      <td>...</td>\n",
       "      <td>...</td>\n",
       "      <td>...</td>\n",
       "    </tr>\n",
       "    <tr>\n",
       "      <td>58</td>\n",
       "      <td>quick_sort</td>\n",
       "      <td>reverse</td>\n",
       "      <td>2560</td>\n",
       "      <td>1.005733</td>\n",
       "      <td>7</td>\n",
       "      <td>2019-11-03 03:22:31.810319</td>\n",
       "    </tr>\n",
       "    <tr>\n",
       "      <td>59</td>\n",
       "      <td>quick_sort</td>\n",
       "      <td>reverse</td>\n",
       "      <td>2560</td>\n",
       "      <td>0.968686</td>\n",
       "      <td>7</td>\n",
       "      <td>2019-11-03 03:22:31.810319</td>\n",
       "    </tr>\n",
       "    <tr>\n",
       "      <td>60</td>\n",
       "      <td>quick_sort</td>\n",
       "      <td>reverse</td>\n",
       "      <td>2560</td>\n",
       "      <td>1.019363</td>\n",
       "      <td>7</td>\n",
       "      <td>2019-11-03 03:22:31.810319</td>\n",
       "    </tr>\n",
       "    <tr>\n",
       "      <td>61</td>\n",
       "      <td>quick_sort</td>\n",
       "      <td>reverse</td>\n",
       "      <td>2560</td>\n",
       "      <td>0.952618</td>\n",
       "      <td>7</td>\n",
       "      <td>2019-11-03 03:22:31.810319</td>\n",
       "    </tr>\n",
       "    <tr>\n",
       "      <td>62</td>\n",
       "      <td>quick_sort</td>\n",
       "      <td>reverse</td>\n",
       "      <td>2560</td>\n",
       "      <td>0.964277</td>\n",
       "      <td>7</td>\n",
       "      <td>2019-11-03 03:22:31.810319</td>\n",
       "    </tr>\n",
       "  </tbody>\n",
       "</table>\n",
       "<p>63 rows × 6 columns</p>\n",
       "</div>"
      ],
      "text/plain": [
       "     Sort_Type Data_Type_or_List_type List_length  Runtimes  \\\n",
       "0   quick_sort                reverse          10  0.327710   \n",
       "1   quick_sort                reverse          10  0.307672   \n",
       "2   quick_sort                reverse          10  0.286445   \n",
       "3   quick_sort                reverse          10  0.386726   \n",
       "4   quick_sort                reverse          10  0.445775   \n",
       "..         ...                    ...         ...       ...   \n",
       "58  quick_sort                reverse        2560  1.005733   \n",
       "59  quick_sort                reverse        2560  0.968686   \n",
       "60  quick_sort                reverse        2560  1.019363   \n",
       "61  quick_sort                reverse        2560  0.952618   \n",
       "62  quick_sort                reverse        2560  0.964277   \n",
       "\n",
       "   Number_of_repeatitions                   Datetime  \n",
       "0                       7 2019-11-03 03:22:08.340169  \n",
       "1                       7 2019-11-03 03:22:08.340169  \n",
       "2                       7 2019-11-03 03:22:08.340169  \n",
       "3                       7 2019-11-03 03:22:08.340169  \n",
       "4                       7 2019-11-03 03:22:08.340169  \n",
       "..                    ...                        ...  \n",
       "58                      7 2019-11-03 03:22:31.810319  \n",
       "59                      7 2019-11-03 03:22:31.810319  \n",
       "60                      7 2019-11-03 03:22:31.810319  \n",
       "61                      7 2019-11-03 03:22:31.810319  \n",
       "62                      7 2019-11-03 03:22:31.810319  \n",
       "\n",
       "[63 rows x 6 columns]"
      ]
     },
     "execution_count": 20,
     "metadata": {},
     "output_type": "execute_result"
    }
   ],
   "source": [
    "import pandas as pd\n",
    "import numpy as np\n",
    "\n",
    "# def make_pickle_and_csv(dictionary, sort_type, randomization_type):\n",
    "columns = ['Sort_Type','Data_Type_or_List_type','List_length','Runtimes','Number_of_repeatitions','Datetime']\n",
    "df_ = pd.DataFrame( columns=columns)\n",
    "\n",
    "df_= df_.append(list_of_dict)\n",
    "df_.to_csv (r'quick_sort_reverse_sorted.csv', index = None, header=True)\n",
    "\n",
    "import pickle\n",
    "\n",
    "name = 'quick_sort_reverse_sorted.txt' \n",
    "f=open( name , 'ab')\n",
    "pickle.dump(df_,f)\n",
    "f.close()\n",
    "df_"
   ]
  },
  {
   "cell_type": "code",
   "execution_count": null,
   "metadata": {},
   "outputs": [],
   "source": []
  }
 ],
 "metadata": {
  "kernelspec": {
   "display_name": "Python 3",
   "language": "python",
   "name": "python3"
  },
  "language_info": {
   "codemirror_mode": {
    "name": "ipython",
    "version": 3
   },
   "file_extension": ".py",
   "mimetype": "text/x-python",
   "name": "python",
   "nbconvert_exporter": "python",
   "pygments_lexer": "ipython3",
   "version": "3.7.4"
  }
 },
 "nbformat": 4,
 "nbformat_minor": 2
}
