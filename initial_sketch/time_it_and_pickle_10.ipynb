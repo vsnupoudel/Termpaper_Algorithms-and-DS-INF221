{
 "cells": [
  {
   "cell_type": "markdown",
   "metadata": {},
   "source": [
    "By: Bishnu Poudel, Mohammed Radwan"
   ]
  },
  {
   "cell_type": "markdown",
   "metadata": {},
   "source": [
    "## Benchmark Sorting Algorithms"
   ]
  },
  {
   "cell_type": "code",
   "execution_count": 11,
   "metadata": {},
   "outputs": [],
   "source": [
    "#!pip install nbimporter"
   ]
  },
  {
   "cell_type": "code",
   "execution_count": 26,
   "metadata": {},
   "outputs": [],
   "source": [
    "import nbimporter\n",
    "import pandas as pd\n",
    "from Heap_Sort import *\n",
    "from Merge_Sort import *\n",
    "from Quick_Sort_rename import *"
   ]
  },
  {
   "cell_type": "code",
   "execution_count": 28,
   "metadata": {},
   "outputs": [
    {
     "name": "stdout",
     "output_type": "stream",
     "text": [
      "[5, 4, 3, 2, 1, 1, 2, 9, 8, 5, 6, 4, 1]\n",
      "[1, 1, 1, 2, 2, 3, 4, 4, 5, 5, 6, 8, 9]\n",
      "['wfdf', 'asdf', 'red', 'ver', 'arstid', 'din', 'pen', 'store']\n",
      "['arstid', 'asdf', 'din', 'pen', 'red', 'store', 'ver', 'wfdf']\n"
     ]
    }
   ],
   "source": [
    " B= [ [5,4,3,2,1,1,2,9,8,5,6,4,1], ['wfdf','asdf','red','ver','arstid','din','pen','store'] ]\n",
    "     \n",
    "for i in B:\n",
    "    print(i)\n",
    "    D = quick_sort(i,0,len(i)-1)               \n",
    "    print(D)    "
   ]
  },
  {
   "cell_type": "markdown",
   "metadata": {},
   "source": [
    "## Timeit function"
   ]
  },
  {
   "cell_type": "code",
   "execution_count": null,
   "metadata": {},
   "outputs": [],
   "source": [
    "import numpy as np\n",
    "import timeit\n",
    "import copy\n",
    "\n",
    "def timing_function(number_of_data_points, sort_type, seed_number=12235):\n",
    "    np.random.seed (seed_number)\n",
    "    test_data = np.random.random(number_of_data_points ,)\n",
    "    test_data = list(test_data)\n",
    "#     print(test_data)\n",
    "\n",
    "    clock = timeit.Timer ( stmt ='sort_func ( copy ( data) ) ', \n",
    "                          # p=0, r= len(data)-1 )',\n",
    "                            globals ={ 'sort_func': sort_type ,\n",
    "                            'data': test_data ,\n",
    "                            'copy': copy.copy })\n",
    "    n_ar , t_ar = clock.autorange ()\n",
    "    t = clock.repeat ( repeat =7, number = n_ar )\n",
    "    return t"
   ]
  },
  {
   "cell_type": "code",
   "execution_count": null,
   "metadata": {},
   "outputs": [],
   "source": [
    "# Do not run this part if you don't want the data again\n",
    "import pandas as pd\n",
    "time_data_points= dict ()\n",
    "\n",
    "for i in (10,100,1000,10000,100000,1000000,10000000,10000000):\n",
    "    time_data_points[i]= np.min(  timing_function(i, heap_sort ) )   \n",
    "    \n",
    "time_data_points\n",
    "\n",
    "# print(time_data_points)"
   ]
  },
  {
   "cell_type": "code",
   "execution_count": 44,
   "metadata": {},
   "outputs": [],
   "source": [
    "import datetime\n",
    "import pandas as pd\n",
    "import pickle\n",
    "\n",
    "name = 'output.txt'  #str( datetime.datetime.now() )+'.txt'\n",
    "f=open( name , 'wb')\n",
    "pickle.dump(time_data_points,f)\n",
    "f.close()"
   ]
  },
  {
   "cell_type": "code",
   "execution_count": 47,
   "metadata": {},
   "outputs": [
    {
     "data": {
      "text/plain": [
       "{10: 0.7683797000004233, 100: 1.3698411000000306}"
      ]
     },
     "execution_count": 47,
     "metadata": {},
     "output_type": "execute_result"
    }
   ],
   "source": [
    "read= pd.read_pickle(\"./output.txt\")\n",
    "read"
   ]
  }
 ],
 "metadata": {
  "kernelspec": {
   "display_name": "Python 3",
   "language": "python",
   "name": "python3"
  },
  "language_info": {
   "codemirror_mode": {
    "name": "ipython",
    "version": 3
   },
   "file_extension": ".py",
   "mimetype": "text/x-python",
   "name": "python",
   "nbconvert_exporter": "python",
   "pygments_lexer": "ipython3",
   "version": "3.7.4"
  }
 },
 "nbformat": 4,
 "nbformat_minor": 2
}
