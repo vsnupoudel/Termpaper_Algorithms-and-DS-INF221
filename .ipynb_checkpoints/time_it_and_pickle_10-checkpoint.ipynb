{
 "cells": [
  {
   "cell_type": "markdown",
   "metadata": {},
   "source": [
    "By: Bishnu Poudel, Mohammed Radwan"
   ]
  },
  {
   "cell_type": "markdown",
   "metadata": {},
   "source": [
    "## Benchmark Sorting Algorithms"
   ]
  },
  {
   "cell_type": "code",
   "execution_count": 36,
   "metadata": {},
   "outputs": [],
   "source": [
    "import nbimporter\n",
    "from Heap_Sort import *"
   ]
  },
  {
   "cell_type": "code",
   "execution_count": 37,
   "metadata": {},
   "outputs": [
    {
     "name": "stdout",
     "output_type": "stream",
     "text": [
      "[5, 4, 3, 2, 1, 1, 2, 9, 8, 5, 6, 4, 1]\n",
      "[1, 1, 1, 2, 2, 3, 4, 4, 5, 5, 6, 8, 9]\n",
      "['wfdf', 'asdf', 'red', 'ver', 'arstid', 'din', 'pen', 'store']\n",
      "['arstid', 'asdf', 'din', 'pen', 'red', 'store', 'ver', 'wfdf']\n"
     ]
    }
   ],
   "source": [
    " B= [ [5,4,3,2,1,1,2,9,8,5,6,4,1], ['wfdf','asdf','red','ver','arstid','din','pen','store'] ]\n",
    "     \n",
    "for i in B:\n",
    "    print(i)\n",
    "    D = heap_sort(i)               \n",
    "    print(D)    "
   ]
  },
  {
   "cell_type": "markdown",
   "metadata": {},
   "source": [
    "## Timeit function"
   ]
  },
  {
   "cell_type": "code",
   "execution_count": 38,
   "metadata": {},
   "outputs": [],
   "source": [
    "import numpy as np\n",
    "import timeit\n",
    "import copy\n",
    "\n",
    "def timing_function(number_of_data_points, sort_type, seed_number=12235):\n",
    "    np.random.seed (seed_number)\n",
    "    test_data = np.random.random(number_of_data_points ,)\n",
    "#     print(test_data)\n",
    "\n",
    "    clock = timeit.Timer ( stmt ='sort_func ( copy ( data ))',\n",
    "                            globals ={ 'sort_func': sort_type ,\n",
    "                            'data': test_data ,\n",
    "                            'copy': copy.copy })\n",
    "    n_ar , t_ar = clock.autorange ()\n",
    "    t = clock.repeat ( repeat =7, number = n_ar )\n",
    "    return t"
   ]
  },
  {
   "cell_type": "code",
   "execution_count": 46,
   "metadata": {},
   "outputs": [
    {
     "name": "stdout",
     "output_type": "stream",
     "text": [
      "{1000: 0.21633344500014573, 2000: 0.3042684559995905, 4000: 0.2709273770001346, 8000: 0.31294113300009485, 16000: 0.7285057440003584, 32000: 1.8558582830000887, 64000: 10.221802427000057}\n"
     ]
    }
   ],
   "source": [
    "# Do not run this part if you don't wan the data again\n",
    "import pandas as pd\n",
    "time_data_points= dict ()\n",
    "\n",
    "for i in (1000,2000,4000,8000,16000,32000,64000):\n",
    "    time_data_points[i]= np.min(  timing_function(i, heap_sort ) )    \n",
    "\n",
    "print(time_data_points)"
   ]
  },
  {
   "cell_type": "code",
   "execution_count": 94,
   "metadata": {},
   "outputs": [
    {
     "data": {
      "image/png": "[encoded data removed]",
      "text/plain": [
       "<Figure size 432x288 with 1 Axes>"
      ]
     },
     "metadata": {
      "needs_background": "light"
     },
     "output_type": "display_data"
    }
   ],
   "source": [
    "import matplotlib.pyplot as plt\n",
    "import pandas as pd\n",
    "import pickle\n",
    "\n",
    "\n",
    "keys, values = zip(*time_data_points.items()) \n",
    "\n",
    "exact_data = pd.DataFrame({  \"x\":np.asarray(keys), \"y\":np.asarray(values)  })\n",
    "\n",
    "x= np.asarray(keys)\n",
    "y =  np.asarray(values) \n",
    "exact_data = pd.DataFrame({  \"x\":x, \"y\":y  })\n",
    "exact_data.plot(kind='line', x='x', y='y')\n",
    "plt.show()\n",
    "#Also pickle for later use\n",
    "f=open('exact_data.txt', 'wb')\n",
    "pickle.dump(exact_data,f)\n",
    "f.close()\n",
    "\n",
    "x_log =  np.log2( np.asarray(keys) ) \n",
    "x_x_log =  np.multiply(x_log, np.asarray(keys) )\n",
    "data_with_x_log_x= pd.DataFrame({  \"x\":x_x_log, \"y\":y  })\n",
    "data_with_x_log_x.plot(kind='line', x='x', y='y')\n",
    "plt.show()\n",
    "#Also pickle for later use\n",
    "data_with_x_log_x.to_pickle('data_with_x_log_x.txt')\n",
    "\n",
    "\n",
    "x_normalised = ( x_x_log - np.mean(x_x_log) )/ np.std(x_x_log)\n",
    "y_normalised = ( y - np.mean(y) )/ np.std(y)\n",
    "data_normalised= pd.DataFrame({  \"x\":x_normalised, \"y\":y_normalised  })\n",
    "data_normalised.plot(kind='line' ,  x='x' ,  y='y')\n",
    "plt.show()\n",
    "#Also pickle for later use\n",
    "data_normalised.to_pickle('data_normalised.txt')\n"
   ]
  },
  {
   "cell_type": "code",
   "execution_count": 95,
   "metadata": {},
   "outputs": [],
   "source": [
    "read= pd.read_pickle(\"./exact_data.txt\")"
   ]
  },
  {
   "cell_type": "code",
   "execution_count": 96,
   "metadata": {},
   "outputs": [
    {
     "data": {
      "text/html": [
       "<div>\n",
       "<style scoped>\n",
       "    .dataframe tbody tr th:only-of-type {\n",
       "        vertical-align: middle;\n",
       "    }\n",
       "\n",
       "    .dataframe tbody tr th {\n",
       "        vertical-align: top;\n",
       "    }\n",
       "\n",
       "    .dataframe thead th {\n",
       "        text-align: right;\n",
       "    }\n",
       "</style>\n",
       "<table border=\"1\" class=\"dataframe\">\n",
       "  <thead>\n",
       "    <tr style=\"text-align: right;\">\n",
       "      <th></th>\n",
       "      <th>x</th>\n",
       "      <th>y</th>\n",
       "    </tr>\n",
       "  </thead>\n",
       "  <tbody>\n",
       "    <tr>\n",
       "      <td>0</td>\n",
       "      <td>1000</td>\n",
       "      <td>0.216333</td>\n",
       "    </tr>\n",
       "    <tr>\n",
       "      <td>1</td>\n",
       "      <td>2000</td>\n",
       "      <td>0.304268</td>\n",
       "    </tr>\n",
       "    <tr>\n",
       "      <td>2</td>\n",
       "      <td>4000</td>\n",
       "      <td>0.270927</td>\n",
       "    </tr>\n",
       "    <tr>\n",
       "      <td>3</td>\n",
       "      <td>8000</td>\n",
       "      <td>0.312941</td>\n",
       "    </tr>\n",
       "    <tr>\n",
       "      <td>4</td>\n",
       "      <td>16000</td>\n",
       "      <td>0.728506</td>\n",
       "    </tr>\n",
       "    <tr>\n",
       "      <td>5</td>\n",
       "      <td>32000</td>\n",
       "      <td>1.855858</td>\n",
       "    </tr>\n",
       "    <tr>\n",
       "      <td>6</td>\n",
       "      <td>64000</td>\n",
       "      <td>10.221802</td>\n",
       "    </tr>\n",
       "  </tbody>\n",
       "</table>\n",
       "</div>"
      ],
      "text/plain": [
       "       x          y\n",
       "0   1000   0.216333\n",
       "1   2000   0.304268\n",
       "2   4000   0.270927\n",
       "3   8000   0.312941\n",
       "4  16000   0.728506\n",
       "5  32000   1.855858\n",
       "6  64000  10.221802"
      ]
     },
     "execution_count": 96,
     "metadata": {},
     "output_type": "execute_result"
    }
   ],
   "source": [
    "read"
   ]
  },
  {
   "cell_type": "code",
   "execution_count": null,
   "metadata": {},
   "outputs": [],
   "source": []
  }
 ],
 "metadata": {
  "kernelspec": {
   "display_name": "Python 3",
   "language": "python",
   "name": "python3"
  },
  "language_info": {
   "codemirror_mode": {
    "name": "ipython",
    "version": 3
   },
   "file_extension": ".py",
   "mimetype": "text/x-python",
   "name": "python",
   "nbconvert_exporter": "python",
   "pygments_lexer": "ipython3",
   "version": "3.7.4"
  }
 },
 "nbformat": 4,
 "nbformat_minor": 2
}
