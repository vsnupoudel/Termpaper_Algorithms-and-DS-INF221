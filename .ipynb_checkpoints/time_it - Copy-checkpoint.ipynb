{
 "cells": [
  {
   "cell_type": "markdown",
   "metadata": {},
   "source": [
    "By: Bishnu Poudel, Mohammed Radwan"
   ]
  },
  {
   "cell_type": "markdown",
   "metadata": {},
   "source": [
    "## Benchmark Sorting Algorithms"
   ]
  },
  {
   "cell_type": "code",
   "execution_count": 2,
   "metadata": {},
   "outputs": [],
   "source": [
    "#!pip install nbimporter"
   ]
  },
  {
   "cell_type": "code",
   "execution_count": 3,
   "metadata": {},
   "outputs": [
    {
     "name": "stdout",
     "output_type": "stream",
     "text": [
      "Importing Jupyter notebook from Heap_Sort.ipynb\n",
      "Importing Jupyter notebook from Merge_Sort.ipynb\n",
      "Importing Jupyter notebook from Quick_Sort.ipynb\n"
     ]
    }
   ],
   "source": [
    "import nbimporter\n",
    "from Heap_Sort import *\n",
    "from Merge_Sort import *\n",
    "from Quick_Sort import *"
   ]
  },
  {
   "cell_type": "code",
   "execution_count": 4,
   "metadata": {},
   "outputs": [
    {
     "name": "stdout",
     "output_type": "stream",
     "text": [
      "[5, 4, 3, 2, 1, 1, 2, 9, 8, 5, 6, 4, 1]\n",
      "None\n",
      "['wfdf', 'asdf', 'red', 'ver', 'arstid', 'din', 'pen', 'store']\n",
      "None\n"
     ]
    }
   ],
   "source": [
    " B= [ [5,4,3,2,1,1,2,9,8,5,6,4,1], ['wfdf','asdf','red','ver','arstid','din','pen','store'] ]\n",
    "     \n",
    "for i in B:\n",
    "    print(i)\n",
    "    D = quick_sort(i,0,len(i)-1)               \n",
    "    print(D)    "
   ]
  },
  {
   "cell_type": "markdown",
   "metadata": {},
   "source": [
    "## Timeit function"
   ]
  },
  {
   "cell_type": "code",
   "execution_count": 6,
   "metadata": {},
   "outputs": [],
   "source": [
    "import numpy as np\n",
    "import timeit\n",
    "import copy\n",
    "\n",
    "def timing_function(number_of_data_points, sort_type, seed_number=12235):\n",
    "    np.random.seed (seed_number)\n",
    "    test_data = np.random.random(number_of_data_points ,)\n",
    "    test_data = list(test_data)\n",
    "#     print(test_data)\n",
    "\n",
    "    clock = timeit.Timer ( stmt ='sort_func ( copy ( data) , p=0, r= len(data)-1 )',\n",
    "                            globals ={ 'sort_func': sort_type ,\n",
    "                            'data': test_data ,\n",
    "                            'copy': copy.copy })\n",
    "    n_ar , t_ar = clock.autorange ()\n",
    "    t = clock.repeat ( repeat =7, number = n_ar )\n",
    "    return t"
   ]
  },
  {
   "cell_type": "code",
   "execution_count": null,
   "metadata": {},
   "outputs": [],
   "source": [
    "# Do not run this part if you don't want the data again\n",
    "import pandas as pd\n",
    "time_data_points= dict ()\n",
    "\n",
    "for i in (10,\t100,\t1000,\t10000,\t15000,\t20000,\t25000,\t30000,\t35000,\t40000,\n",
    "45000,\t50000,\t55000,\t60000,\t65000,\t70000):\n",
    "    time_data_points[i]= np.min(  timing_function(i, quick_sort ) )    \n",
    "    \n",
    "time_data_points\n",
    "\n",
    "# print(time_data_points)"
   ]
  },
  {
   "cell_type": "code",
   "execution_count": 18,
   "metadata": {},
   "outputs": [
    {
     "data": {
      "text/plain": [
       "{5: 0.1841783080000141, 10: 0.2839143140000715}"
      ]
     },
     "execution_count": 18,
     "metadata": {},
     "output_type": "execute_result"
    }
   ],
   "source": [
    "time_data_points"
   ]
  },
  {
   "cell_type": "code",
   "execution_count": 6,
   "metadata": {},
   "outputs": [],
   "source": [
    "read= pd.read_pickle(\"./exact_data.txt\")"
   ]
  },
  {
   "cell_type": "code",
   "execution_count": 7,
   "metadata": {},
   "outputs": [
    {
     "data": {
      "text/html": [
       "<div>\n",
       "<style scoped>\n",
       "    .dataframe tbody tr th:only-of-type {\n",
       "        vertical-align: middle;\n",
       "    }\n",
       "\n",
       "    .dataframe tbody tr th {\n",
       "        vertical-align: top;\n",
       "    }\n",
       "\n",
       "    .dataframe thead th {\n",
       "        text-align: right;\n",
       "    }\n",
       "</style>\n",
       "<table border=\"1\" class=\"dataframe\">\n",
       "  <thead>\n",
       "    <tr style=\"text-align: right;\">\n",
       "      <th></th>\n",
       "      <th>x</th>\n",
       "      <th>y</th>\n",
       "    </tr>\n",
       "  </thead>\n",
       "  <tbody>\n",
       "    <tr>\n",
       "      <td>0</td>\n",
       "      <td>1000</td>\n",
       "      <td>0.279710</td>\n",
       "    </tr>\n",
       "    <tr>\n",
       "      <td>1</td>\n",
       "      <td>2000</td>\n",
       "      <td>0.309399</td>\n",
       "    </tr>\n",
       "    <tr>\n",
       "      <td>2</td>\n",
       "      <td>4000</td>\n",
       "      <td>0.282915</td>\n",
       "    </tr>\n",
       "    <tr>\n",
       "      <td>3</td>\n",
       "      <td>8000</td>\n",
       "      <td>0.315778</td>\n",
       "    </tr>\n",
       "    <tr>\n",
       "      <td>4</td>\n",
       "      <td>16000</td>\n",
       "      <td>0.747190</td>\n",
       "    </tr>\n",
       "    <tr>\n",
       "      <td>5</td>\n",
       "      <td>32000</td>\n",
       "      <td>1.894316</td>\n",
       "    </tr>\n",
       "    <tr>\n",
       "      <td>6</td>\n",
       "      <td>64000</td>\n",
       "      <td>11.639929</td>\n",
       "    </tr>\n",
       "  </tbody>\n",
       "</table>\n",
       "</div>"
      ],
      "text/plain": [
       "       x          y\n",
       "0   1000   0.279710\n",
       "1   2000   0.309399\n",
       "2   4000   0.282915\n",
       "3   8000   0.315778\n",
       "4  16000   0.747190\n",
       "5  32000   1.894316\n",
       "6  64000  11.639929"
      ]
     },
     "execution_count": 7,
     "metadata": {},
     "output_type": "execute_result"
    }
   ],
   "source": [
    "read"
   ]
  },
  {
   "cell_type": "code",
   "execution_count": null,
   "metadata": {},
   "outputs": [],
   "source": []
  }
 ],
 "metadata": {
  "kernelspec": {
   "display_name": "Python 3",
   "language": "python",
   "name": "python3"
  },
  "language_info": {
   "codemirror_mode": {
    "name": "ipython",
    "version": 3
   },
   "file_extension": ".py",
   "mimetype": "text/x-python",
   "name": "python",
   "nbconvert_exporter": "python",
   "pygments_lexer": "ipython3",
   "version": "3.6.5"
  }
 },
 "nbformat": 4,
 "nbformat_minor": 2
}
