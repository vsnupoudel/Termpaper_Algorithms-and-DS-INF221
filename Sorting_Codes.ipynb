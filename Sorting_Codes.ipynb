{
 "cells": [
  {
   "cell_type": "markdown",
   "metadata": {},
   "source": [
    "# Heap Sort"
   ]
  },
  {
   "cell_type": "markdown",
   "metadata": {},
   "source": [
    "```def Heap_sort():\n",
    "    Build-Max-Heap(A)\n",
    "    for i = A.length downto 2\n",
    "        swap A[1] and A[i]\n",
    "        A.heap_size = A.heap_size - 1\n",
    "        Max-Heapify(A, 1)\n",
    "        ```"
   ]
  },
  {
   "cell_type": "code",
   "execution_count": 16,
   "metadata": {},
   "outputs": [
    {
     "name": "stdout",
     "output_type": "stream",
     "text": [
      "[3, 1, 2, 6]\n",
      "[3, 1, 2, 6]\n"
     ]
    }
   ],
   "source": [
    "import math\n",
    "\n",
    "def parent(i):\n",
    "    return math.floor( (i-1)/2 )\n",
    "\n",
    "def left_child(i):\n",
    "    return 2*i +1\n",
    "\n",
    "def right_child(i):\n",
    "    return 2*i + 2\n",
    "\n",
    "def max_heapify(A, i):\n",
    "    l= left_child(i)\n",
    "    r= right_child(i)\n",
    "    largest = i\n",
    "    if l < len(A) and A[l]> A[i]:\n",
    "        largest = l\n",
    "    if r < len(A) and A[r]> A[largest]:\n",
    "        largest = r        \n",
    "    if largest != i:\n",
    "        A[i], A[largest]=  A[largest], A[i]\n",
    "        max_heapify(A, largest)\n",
    "        \n",
    "    return A\n",
    "        \n",
    "def build_max_heap(A):\n",
    "    heap_size=len(A)\n",
    "    for i  in range( math.floor( (len(A)-1) /2) , 1, -1):\n",
    "#         print(i)\n",
    "        A=max_heapify(A, i)\n",
    "    return A\n",
    "        \n",
    "if __name__ == '__main__':\n",
    "    B= [3,1,2,6]\n",
    "    print(B)\n",
    "    C=build_max_heap(B)\n",
    "    print(C)\n",
    "    "
   ]
  },
  {
   "cell_type": "code",
   "execution_count": null,
   "metadata": {},
   "outputs": [],
   "source": []
  }
 ],
 "metadata": {
  "kernelspec": {
   "display_name": "Python 3",
   "language": "python",
   "name": "python3"
  },
  "language_info": {
   "codemirror_mode": {
    "name": "ipython",
    "version": 3
   },
   "file_extension": ".py",
   "mimetype": "text/x-python",
   "name": "python",
   "nbconvert_exporter": "python",
   "pygments_lexer": "ipython3",
   "version": "3.7.4"
  }
 },
 "nbformat": 4,
 "nbformat_minor": 2
}
